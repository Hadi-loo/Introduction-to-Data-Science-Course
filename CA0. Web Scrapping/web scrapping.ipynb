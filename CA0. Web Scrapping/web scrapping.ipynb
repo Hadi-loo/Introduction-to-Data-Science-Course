{
 "cells": [
  {
   "cell_type": "markdown",
   "id": "99785274",
   "metadata": {},
   "source": [
    "# Web Scrapping and Introductory Data Analysis"
   ]
  },
  {
   "cell_type": "markdown",
   "id": "050c3eb4",
   "metadata": {},
   "source": [
    "In this notebook, we will become familiar with the basics of web scraping and data analysis. We will be using the `selenium` and `BeautifulSoup` libraries to scrape data from a website and then use `pandas` to perform some basic data analysis.\n",
    "We will be scraping data using `selenium` from the website [Etherscan.io](https://etherscan.io/), which is a block explorer for the Ethereum blockchain, to get the data and then use `BeautifulSoup` to parse the data and `pandas` to perform some basic data analysis."
   ]
  },
  {
   "cell_type": "markdown",
   "id": "2ecfbb4b0c704e67",
   "metadata": {
    "collapsed": false
   },
   "source": [
    "We begin by setting up our Python environment and installing the necessary libraries. Then, proceed with the web scraping task, ensuring that we handle any potential issues such as rate limiting. Once we have the data, we will move on to the data sampling and statistical analysis tasks. "
   ]
  },
  {
   "cell_type": "markdown",
   "id": "87298846",
   "metadata": {},
   "source": [
    "## Setting up the Environment "
   ]
  },
  {
   "cell_type": "code",
   "execution_count": 93,
   "id": "63fe50de",
   "metadata": {},
   "outputs": [
    {
     "name": "stdout",
     "output_type": "stream",
     "text": [
      "Defaulting to user installation because normal site-packages is not writeable\n",
      "Requirement already satisfied: selenium in /home/hadi/.local/lib/python3.10/site-packages (4.18.1)\n",
      "Requirement already satisfied: certifi>=2021.10.8 in /home/hadi/.local/lib/python3.10/site-packages (from selenium) (2024.2.2)\n",
      "Requirement already satisfied: trio-websocket~=0.9 in /home/hadi/.local/lib/python3.10/site-packages (from selenium) (0.11.1)\n",
      "Requirement already satisfied: trio~=0.17 in /home/hadi/.local/lib/python3.10/site-packages (from selenium) (0.24.0)\n",
      "Requirement already satisfied: typing_extensions>=4.9.0 in /home/hadi/.local/lib/python3.10/site-packages (from selenium) (4.10.0)\n",
      "Requirement already satisfied: urllib3[socks]<3,>=1.26 in /usr/lib/python3/dist-packages (from selenium) (1.26.5)\n",
      "Requirement already satisfied: attrs>=20.1.0 in /home/hadi/.local/lib/python3.10/site-packages (from trio~=0.17->selenium) (22.2.0)\n",
      "Requirement already satisfied: exceptiongroup in /home/hadi/.local/lib/python3.10/site-packages (from trio~=0.17->selenium) (1.2.0)\n",
      "Requirement already satisfied: outcome in /home/hadi/.local/lib/python3.10/site-packages (from trio~=0.17->selenium) (1.3.0.post0)\n",
      "Requirement already satisfied: sortedcontainers in /home/hadi/.local/lib/python3.10/site-packages (from trio~=0.17->selenium) (2.4.0)\n",
      "Requirement already satisfied: sniffio>=1.3.0 in /home/hadi/.local/lib/python3.10/site-packages (from trio~=0.17->selenium) (1.3.0)\n",
      "Requirement already satisfied: idna in /usr/lib/python3/dist-packages (from trio~=0.17->selenium) (3.3)\n",
      "Requirement already satisfied: wsproto>=0.14 in /home/hadi/.local/lib/python3.10/site-packages (from trio-websocket~=0.9->selenium) (1.2.0)\n",
      "Requirement already satisfied: PySocks!=1.5.7,<2.0,>=1.5.6 in /home/hadi/.local/lib/python3.10/site-packages (from urllib3[socks]<3,>=1.26->selenium) (1.7.1)\n",
      "Requirement already satisfied: h11<1,>=0.9.0 in /home/hadi/.local/lib/python3.10/site-packages (from wsproto>=0.14->trio-websocket~=0.9->selenium) (0.14.0)\n",
      "Defaulting to user installation because normal site-packages is not writeable\n",
      "Requirement already satisfied: beautifulsoup4 in /home/hadi/.local/lib/python3.10/site-packages (4.11.2)\n",
      "Requirement already satisfied: soupsieve>1.2 in /home/hadi/.local/lib/python3.10/site-packages (from beautifulsoup4) (2.3.2.post1)\n",
      "Defaulting to user installation because normal site-packages is not writeable\n",
      "Requirement already satisfied: numpy in /home/hadi/.local/lib/python3.10/site-packages (1.24.2)\n",
      "Defaulting to user installation because normal site-packages is not writeable\n",
      "Requirement already satisfied: pandas in /home/hadi/.local/lib/python3.10/site-packages (1.5.3)\n",
      "Requirement already satisfied: python-dateutil>=2.8.1 in /home/hadi/.local/lib/python3.10/site-packages (from pandas) (2.8.2)\n",
      "Requirement already satisfied: numpy>=1.21.0 in /home/hadi/.local/lib/python3.10/site-packages (from pandas) (1.24.2)\n",
      "Requirement already satisfied: pytz>=2020.1 in /usr/lib/python3/dist-packages (from pandas) (2022.1)\n",
      "Requirement already satisfied: six>=1.5 in /usr/lib/python3/dist-packages (from python-dateutil>=2.8.1->pandas) (1.16.0)\n",
      "Defaulting to user installation because normal site-packages is not writeable\n",
      "Requirement already satisfied: seaborn in /home/hadi/.local/lib/python3.10/site-packages (0.12.2)\n",
      "Requirement already satisfied: numpy!=1.24.0,>=1.17 in /home/hadi/.local/lib/python3.10/site-packages (from seaborn) (1.24.2)\n",
      "Requirement already satisfied: pandas>=0.25 in /home/hadi/.local/lib/python3.10/site-packages (from seaborn) (1.5.3)\n",
      "Requirement already satisfied: matplotlib!=3.6.1,>=3.1 in /home/hadi/.local/lib/python3.10/site-packages (from seaborn) (3.6.3)\n",
      "Requirement already satisfied: python-dateutil>=2.7 in /home/hadi/.local/lib/python3.10/site-packages (from matplotlib!=3.6.1,>=3.1->seaborn) (2.8.2)\n",
      "Requirement already satisfied: pillow>=6.2.0 in /usr/lib/python3/dist-packages (from matplotlib!=3.6.1,>=3.1->seaborn) (9.0.1)\n",
      "Requirement already satisfied: fonttools>=4.22.0 in /home/hadi/.local/lib/python3.10/site-packages (from matplotlib!=3.6.1,>=3.1->seaborn) (4.38.0)\n",
      "Requirement already satisfied: kiwisolver>=1.0.1 in /home/hadi/.local/lib/python3.10/site-packages (from matplotlib!=3.6.1,>=3.1->seaborn) (1.4.4)\n",
      "Requirement already satisfied: pyparsing>=2.2.1 in /usr/lib/python3/dist-packages (from matplotlib!=3.6.1,>=3.1->seaborn) (2.4.7)\n",
      "Requirement already satisfied: cycler>=0.10 in /home/hadi/.local/lib/python3.10/site-packages (from matplotlib!=3.6.1,>=3.1->seaborn) (0.11.0)\n",
      "Requirement already satisfied: contourpy>=1.0.1 in /home/hadi/.local/lib/python3.10/site-packages (from matplotlib!=3.6.1,>=3.1->seaborn) (1.0.7)\n",
      "Requirement already satisfied: packaging>=20.0 in /home/hadi/.local/lib/python3.10/site-packages (from matplotlib!=3.6.1,>=3.1->seaborn) (23.0)\n",
      "Requirement already satisfied: pytz>=2020.1 in /usr/lib/python3/dist-packages (from pandas>=0.25->seaborn) (2022.1)\n",
      "Requirement already satisfied: six>=1.5 in /usr/lib/python3/dist-packages (from python-dateutil>=2.7->matplotlib!=3.6.1,>=3.1->seaborn) (1.16.0)\n",
      "Defaulting to user installation because normal site-packages is not writeable\n",
      "Requirement already satisfied: matplotlib in /home/hadi/.local/lib/python3.10/site-packages (3.6.3)\n",
      "Requirement already satisfied: python-dateutil>=2.7 in /home/hadi/.local/lib/python3.10/site-packages (from matplotlib) (2.8.2)\n",
      "Requirement already satisfied: pyparsing>=2.2.1 in /usr/lib/python3/dist-packages (from matplotlib) (2.4.7)\n",
      "Requirement already satisfied: packaging>=20.0 in /home/hadi/.local/lib/python3.10/site-packages (from matplotlib) (23.0)\n",
      "Requirement already satisfied: kiwisolver>=1.0.1 in /home/hadi/.local/lib/python3.10/site-packages (from matplotlib) (1.4.4)\n",
      "Requirement already satisfied: cycler>=0.10 in /home/hadi/.local/lib/python3.10/site-packages (from matplotlib) (0.11.0)\n",
      "Requirement already satisfied: fonttools>=4.22.0 in /home/hadi/.local/lib/python3.10/site-packages (from matplotlib) (4.38.0)\n",
      "Requirement already satisfied: pillow>=6.2.0 in /usr/lib/python3/dist-packages (from matplotlib) (9.0.1)\n",
      "Requirement already satisfied: contourpy>=1.0.1 in /home/hadi/.local/lib/python3.10/site-packages (from matplotlib) (1.0.7)\n",
      "Requirement already satisfied: numpy>=1.19 in /home/hadi/.local/lib/python3.10/site-packages (from matplotlib) (1.24.2)\n",
      "Requirement already satisfied: six>=1.5 in /usr/lib/python3/dist-packages (from python-dateutil>=2.7->matplotlib) (1.16.0)\n"
     ]
    }
   ],
   "source": [
    "!pip install selenium\n",
    "!pip install beautifulsoup4\n",
    "!pip install numpy\n",
    "!pip install pandas\n",
    "!pip install seaborn\n",
    "!pip install matplotlib"
   ]
  },
  {
   "cell_type": "code",
   "execution_count": 94,
   "id": "59e57561",
   "metadata": {},
   "outputs": [],
   "source": [
    "import numpy as np\n",
    "import pandas as pd\n",
    "import matplotlib.pyplot as plt\n",
    "import seaborn as sns\n",
    "import os\n",
    "import sys\n",
    "import time\n",
    "from selenium import webdriver\n",
    "from selenium.webdriver.common.keys import Keys\n",
    "from bs4 import BeautifulSoup"
   ]
  },
  {
   "cell_type": "markdown",
   "id": "2b646c46",
   "metadata": {},
   "source": [
    "## Data Collection"
   ]
  },
  {
   "cell_type": "markdown",
   "id": "927b2c46",
   "metadata": {},
   "source": [
    "In this section, we will use web scraping to gather transaction data from the Ethereum blockchain using the Etherscan block explorer. Our objective is to collect transactions from the **last 10 blocks** on Ethereum.\n",
    "\n",
    "To accomplish this task, we will employ web scraping techniques to extract the transaction data from the Etherscan website. The URL we will be targeting for our data collection is [https://etherscan.io/txs](https://etherscan.io/txs)\n"
   ]
  },
  {
   "cell_type": "markdown",
   "id": "23a78283",
   "metadata": {},
   "source": [
    "### Steps\n",
    "\n",
    "1. **Navigate to the URL**: Use Selenium to open the Etherscan transactions page in a browser.\n",
    "\n",
    "2. **Locate the Transaction Data**: Identify the HTML elements that contain the transaction data for the specified block range.\n",
    "\n",
    "3. **Extract the Data**: Write a script to extract the transaction details e.g. Hash, Method, Block, etc.\n",
    "\n",
    "4. **Handle Pagination**: If the transactions span multiple pages, implement pagination handling to navigate through the pages and collect all relevant transaction data.\n",
    "\n",
    "5. **Store the Data**: Save the extracted transaction data into a structured format, such as a CSV file or a pandas DataFrame, for further analysis."
   ]
  },
  {
   "cell_type": "code",
   "execution_count": 95,
   "id": "35f30aaa",
   "metadata": {},
   "outputs": [],
   "source": [
    "URL = 'https://etherscan.io/txs'\n",
    "LOAD_TIME = 0.5\n",
    "LAST_BLOCK = None\n",
    "NUM_BLOCKS = 10\n",
    "raw_data = []"
   ]
  },
  {
   "cell_type": "code",
   "execution_count": 96,
   "id": "aae2d594",
   "metadata": {},
   "outputs": [],
   "source": [
    "driver = webdriver.Chrome()\n",
    "driver.get(URL)"
   ]
  },
  {
   "cell_type": "code",
   "execution_count": 97,
   "id": "b22a003b",
   "metadata": {},
   "outputs": [],
   "source": [
    "# accept cookies\n",
    "time.sleep(LOAD_TIME)\n",
    "driver.find_element('xpath', '//*[@id=\"btnCookie\"]').click()"
   ]
  },
  {
   "cell_type": "code",
   "execution_count": 98,
   "id": "aeae0126",
   "metadata": {},
   "outputs": [],
   "source": [
    "# scroll to the bottom of the page, so that the dropdown menu is visible\n",
    "time.sleep(LOAD_TIME)\n",
    "driver.execute_script(\"window.scrollTo(0, document.body.scrollHeight);\")\n",
    "time.sleep(LOAD_TIME)\n",
    "driver.execute_script(\"window.scrollTo(0, document.body.scrollHeight);\")"
   ]
  },
  {
   "cell_type": "code",
   "execution_count": 99,
   "id": "a49b2659",
   "metadata": {},
   "outputs": [],
   "source": [
    "# make each page show 100 records instead of 50\n",
    "time.sleep(LOAD_TIME)\n",
    "driver.find_element('xpath', '//*[@id=\"ContentPlaceHolder1_ddlRecordsPerPage\"]').click()\n",
    "driver.find_element('xpath', '//*[@id=\"ContentPlaceHolder1_ddlRecordsPerPage\"]/option[4]').click()"
   ]
  },
  {
   "cell_type": "code",
   "execution_count": 100,
   "metadata": {},
   "outputs": [],
   "source": [
    "while True:\n",
    "    try:\n",
    "        time.sleep(LOAD_TIME)\n",
    "        html = driver.page_source\n",
    "        soup = BeautifulSoup(html, 'html.parser')\n",
    "        \n",
    "        table = soup.find('table')\n",
    "        if table:\n",
    "            rows = table.find_all('tr')\n",
    "            for row_index in range(1, len(rows)):\n",
    "                cols = rows[row_index].find_all('td')\n",
    "                for i in range(len(cols)):\n",
    "\n",
    "                    # if the column is the 'From' or 'To' column, extract the link\n",
    "                    if i == 7 or i == 9:\n",
    "                        link = cols[i].find('a')\n",
    "                        if link:\n",
    "                            link = link.get('href')\n",
    "                            # remove the '/address/' part of the link\n",
    "                            link = link[9:]\n",
    "                            cols[i] = link\n",
    "                    \n",
    "                    # for all other columns, extract the text\n",
    "                    else:\n",
    "                        cols[i] = cols[i].text.strip()            \n",
    "                \n",
    "                if LAST_BLOCK == None:\n",
    "                    LAST_BLOCK = int(cols[3])\n",
    "                \n",
    "                elif LAST_BLOCK - NUM_BLOCKS > int(cols[3]):\n",
    "                    raise StopIteration('Reached the last block')\n",
    "                \n",
    "                raw_data.append(cols)\n",
    "            \n",
    "            # go to the next page\n",
    "            next_button = driver.find_element('xpath', '//a[@aria-label=\"Next\"]')\n",
    "            if next_button:\n",
    "                next_button.click()\n",
    "            else:\n",
    "                raise Exception('Next button not found')\n",
    "        else:\n",
    "            raise Exception('Table not found')\n",
    "    except StopIteration as e:\n",
    "        break\n",
    "    except Exception as e:\n",
    "        print(e)\n",
    "        time.sleep(10)\n",
    "        continue\n",
    "\n",
    "driver.quit()"
   ]
  },
  {
   "cell_type": "markdown",
   "id": "1ca352a49724d191",
   "metadata": {
    "collapsed": false
   },
   "source": [
    "\n",
    "\n",
    "### Considerations\n",
    "\n",
    "- **Rate Limiting**: Be mindful of the website's rate limits to avoid being blocked. Implement delays between requests if necessary.\n",
    "- **Dynamic Content**: The Etherscan website may load content dynamically. Ensure that Selenium waits for the necessary elements to load before attempting to scrape the data.\n",
    "- **Data Cleaning**: After extraction, clean the data to remove any inconsistencies or errors that may have occurred during the scraping process.\n",
    "\n",
    "### Resources\n",
    "\n",
    "- [Beautiful Soup Documentation](https://www.crummy.com/software/BeautifulSoup/bs4/doc/)\n",
    "- [Selenium Documentation](https://selenium-python.readthedocs.io/)\n",
    "- [Pandas Documentation](https://pandas.pydata.org/docs/)\n",
    "- [Ethereum](https://ethereum.org/en/)"
   ]
  },
  {
   "cell_type": "markdown",
   "id": "6a013b104d142cfc",
   "metadata": {
    "collapsed": false
   },
   "source": [
    "## Data Analysis\n",
    "\n",
    "Now that we have collected the transaction data from Etherscan, the next step is to perform conduct an initial analysis. This task will involve the following steps:\n",
    "\n",
    "1. **Load the Data**: Import the collected transaction data into a pandas DataFrame.\n",
    "\n",
    "2. **Data Cleaning**: Clean the data by converting data types, removing any irrelevant information, and handling **duplicate** values.\n",
    "\n",
    "3. **Statistical Analysis**: Calculate the mean and standard deviation of the population. Evaluate these statistics to understand the distribution of transaction values. The analysis and plotting will be on **Txn Fee** and **Value**.\n",
    "\n",
    "4. **Visualization**: This phase involves the creation of visual representations to aid in the analysis of transaction values. The visualizations include:\n",
    "    - A histogram for each data column, which provides a visual representation of the data distribution. The selection of bin size is crucial and should be based on the data's characteristics to ensure accurate representation. Provide an explanation on the bin size selection!\n",
    "    - A normal distribution plot fitted alongside the histogram to compare the empirical distribution of the data with the theoretical normal distribution.\n",
    "    - A box plot and a violin plot to identify outliers and provide a comprehensive view of the data's distribution.\n",
    "\n",
    "### Deliverables\n",
    "\n",
    "The project aims to deliver the following deliverables:\n",
    "\n",
    "- A refined pandas DataFrame containing the transaction data, which has undergone thorough cleaning and is ready for analysis.\n",
    "- A simple statistical analysis evaluating the population statistics, offering insights into the distribution of transaction values and fees.\n",
    "- A set of visualizations showcasing the distribution of transaction values for the population. These visualizations include histograms, normal distribution plots, box plots, and violin plots, each serving a specific purpose in the analysis.\n",
    "\n",
    "### Getting Started\n",
    "\n",
    "The project starts with the importing of transaction data into a pandas DataFrame, setting the stage for data manipulation and analysis. Subsequent steps involve the cleaning of the data to ensure its quality and reliability. Followed by the calculation of population statistics. Finally, a series of visualizations are created to visually analyze the distribution of transaction values and fees."
   ]
  },
  {
   "cell_type": "markdown",
   "id": "7c381f98",
   "metadata": {},
   "source": [
    "### Creating the dataframe"
   ]
  },
  {
   "cell_type": "code",
   "execution_count": 101,
   "id": "f481b11a08d876b6",
   "metadata": {
    "ExecuteTime": {
     "end_time": "2024-02-25T14:02:12.152030482Z",
     "start_time": "2024-02-25T14:02:12.101846096Z"
    },
    "collapsed": false
   },
   "outputs": [],
   "source": [
    "dataframe = pd.DataFrame(columns=['Txn Hash', 'Method', 'Block', 'Date', 'Age', 'Local Date', 'From', 'To', 'Value', 'Txn fee'])"
   ]
  },
  {
   "cell_type": "code",
   "execution_count": 102,
   "id": "b15a7eba",
   "metadata": {},
   "outputs": [],
   "source": [
    "# create a dataframe from the raw data\n",
    "for row in raw_data:\n",
    "    dataframe = pd.concat([dataframe, \n",
    "               pd.DataFrame([row[1:8] + row[9:12]], columns=dataframe.columns)],\n",
    "               ignore_index=True)"
   ]
  },
  {
   "cell_type": "code",
   "execution_count": 103,
   "id": "75c83907",
   "metadata": {},
   "outputs": [
    {
     "data": {
      "text/html": [
       "<div>\n",
       "<style scoped>\n",
       "    .dataframe tbody tr th:only-of-type {\n",
       "        vertical-align: middle;\n",
       "    }\n",
       "\n",
       "    .dataframe tbody tr th {\n",
       "        vertical-align: top;\n",
       "    }\n",
       "\n",
       "    .dataframe thead th {\n",
       "        text-align: right;\n",
       "    }\n",
       "</style>\n",
       "<table border=\"1\" class=\"dataframe\">\n",
       "  <thead>\n",
       "    <tr style=\"text-align: right;\">\n",
       "      <th></th>\n",
       "      <th>Txn Hash</th>\n",
       "      <th>Method</th>\n",
       "      <th>Block</th>\n",
       "      <th>Date</th>\n",
       "      <th>Age</th>\n",
       "      <th>Local Date</th>\n",
       "      <th>From</th>\n",
       "      <th>To</th>\n",
       "      <th>Value</th>\n",
       "      <th>Txn fee</th>\n",
       "    </tr>\n",
       "  </thead>\n",
       "  <tbody>\n",
       "    <tr>\n",
       "      <th>0</th>\n",
       "      <td>0xc25c11146dc2bcd5435042d83063aa1ef34d78dcb888...</td>\n",
       "      <td>Transfer</td>\n",
       "      <td>19348398</td>\n",
       "      <td>2024-03-02 15:32:23</td>\n",
       "      <td>6 secs ago</td>\n",
       "      <td>1709393543</td>\n",
       "      <td>0x95222290dd7278aa3ddd389cc1e1d165cc4bafe5</td>\n",
       "      <td>0x4675c7e5baafbffbca748158becba61ef3b0a263</td>\n",
       "      <td>0.028575932 ETH</td>\n",
       "      <td>0.00096165</td>\n",
       "    </tr>\n",
       "    <tr>\n",
       "      <th>1</th>\n",
       "      <td>0xa97bc55946fcc3e9a8b20be4c3759eae0e57cac94d09...</td>\n",
       "      <td>Transfer</td>\n",
       "      <td>19348398</td>\n",
       "      <td>2024-03-02 15:32:23</td>\n",
       "      <td>6 secs ago</td>\n",
       "      <td>1709393543</td>\n",
       "      <td>0x51e6c73dd41c9c0d1da9d2d24d3f065111d29eaa</td>\n",
       "      <td>0xd5f7838f5c461feff7fe49ea5ebaf7728bb0adfa</td>\n",
       "      <td>0 ETH</td>\n",
       "      <td>0.00245995</td>\n",
       "    </tr>\n",
       "    <tr>\n",
       "      <th>2</th>\n",
       "      <td>0x26690523831734648d49bef772bddc1afc3a736d48da...</td>\n",
       "      <td>Transfer</td>\n",
       "      <td>19348398</td>\n",
       "      <td>2024-03-02 15:32:23</td>\n",
       "      <td>6 secs ago</td>\n",
       "      <td>1709393543</td>\n",
       "      <td>0x55fe002aeff02f77364de339a1292923a15844b8</td>\n",
       "      <td>0xa0b86991c6218b36c1d19d4a2e9eb0ce3606eb48</td>\n",
       "      <td>0 ETH</td>\n",
       "      <td>0.00285246</td>\n",
       "    </tr>\n",
       "    <tr>\n",
       "      <th>3</th>\n",
       "      <td>0xc41fed25318e6aa49ae2dab6121f7c4efd34cfc2d302...</td>\n",
       "      <td>Transfer</td>\n",
       "      <td>19348398</td>\n",
       "      <td>2024-03-02 15:32:23</td>\n",
       "      <td>6 secs ago</td>\n",
       "      <td>1709393543</td>\n",
       "      <td>0xbdfa4f4492dd7b7cf211209c4791af8d52bf5c50</td>\n",
       "      <td>0xa0b86991c6218b36c1d19d4a2e9eb0ce3606eb48</td>\n",
       "      <td>0 ETH</td>\n",
       "      <td>0.00207028</td>\n",
       "    </tr>\n",
       "    <tr>\n",
       "      <th>4</th>\n",
       "      <td>0x2934ac5cb99b141c7981e0c47fee118189190a327034...</td>\n",
       "      <td>Approve</td>\n",
       "      <td>19348398</td>\n",
       "      <td>2024-03-02 15:32:23</td>\n",
       "      <td>6 secs ago</td>\n",
       "      <td>1709393543</td>\n",
       "      <td>0x9663ca24ef69ee379b4a18981858f65cb804cc2d</td>\n",
       "      <td>0xdac17f958d2ee523a2206206994597c13d831ec7</td>\n",
       "      <td>0 ETH</td>\n",
       "      <td>0.00224159</td>\n",
       "    </tr>\n",
       "    <tr>\n",
       "      <th>...</th>\n",
       "      <td>...</td>\n",
       "      <td>...</td>\n",
       "      <td>...</td>\n",
       "      <td>...</td>\n",
       "      <td>...</td>\n",
       "      <td>...</td>\n",
       "      <td>...</td>\n",
       "      <td>...</td>\n",
       "      <td>...</td>\n",
       "      <td>...</td>\n",
       "    </tr>\n",
       "    <tr>\n",
       "      <th>3195</th>\n",
       "      <td>0xbbe13502ccd596df559ac73def330c85c0a905166d33...</td>\n",
       "      <td>Exact Output Sin...</td>\n",
       "      <td>19348388</td>\n",
       "      <td>2024-03-02 15:30:23</td>\n",
       "      <td>3 mins ago</td>\n",
       "      <td>1709393423</td>\n",
       "      <td>0xf5213a6a2f0890321712520b8048d9886c1a9900</td>\n",
       "      <td>0xe592427a0aece92de3edee1f18e0157c05861564</td>\n",
       "      <td>0 ETH</td>\n",
       "      <td>0.00772261</td>\n",
       "    </tr>\n",
       "    <tr>\n",
       "      <th>3196</th>\n",
       "      <td>0x17cd687428e8c29ddd5037afabf42d04480e5832ff53...</td>\n",
       "      <td>Execute F Fs Yo</td>\n",
       "      <td>19348388</td>\n",
       "      <td>2024-03-02 15:30:23</td>\n",
       "      <td>3 mins ago</td>\n",
       "      <td>1709393423</td>\n",
       "      <td>0x431b5a84acc1297eda88259f300262f1bc3a74f3</td>\n",
       "      <td>0xa69babef1ca67a37ffaf7a485dfff3382056e78c</td>\n",
       "      <td>0 ETH</td>\n",
       "      <td>0.00570796</td>\n",
       "    </tr>\n",
       "    <tr>\n",
       "      <th>3197</th>\n",
       "      <td>0x7be0e69e117e4be858bb5e23a435d05abe1d3b203cc2...</td>\n",
       "      <td>0x859b7571</td>\n",
       "      <td>19348388</td>\n",
       "      <td>2024-03-02 15:30:23</td>\n",
       "      <td>3 mins ago</td>\n",
       "      <td>1709393423</td>\n",
       "      <td>0x315d2ee4fccda0def532ef4108ff57204f8d9eba</td>\n",
       "      <td>0x738e79fbc9010521763944ddf13aad7f61502221</td>\n",
       "      <td>0 ETH</td>\n",
       "      <td>0.01129322</td>\n",
       "    </tr>\n",
       "    <tr>\n",
       "      <th>3198</th>\n",
       "      <td>0x375e8c985584cf3c89bf59cdaa9091b2513e704f9ccc...</td>\n",
       "      <td>Transfer</td>\n",
       "      <td>19348388</td>\n",
       "      <td>2024-03-02 15:30:23</td>\n",
       "      <td>3 mins ago</td>\n",
       "      <td>1709393423</td>\n",
       "      <td>0x9696a5c3eb572de180aa7f76e39c0f4418a34af1</td>\n",
       "      <td>0x9696a5c3eb572de180aa7f76e39c0f4418a34af1</td>\n",
       "      <td>0 ETH</td>\n",
       "      <td>0.01309334</td>\n",
       "    </tr>\n",
       "    <tr>\n",
       "      <th>3199</th>\n",
       "      <td>0x23544e9ed015834f084c74b5dec7c99c8d6f7c4f1db3...</td>\n",
       "      <td>Swap Exact ETH F...</td>\n",
       "      <td>19348388</td>\n",
       "      <td>2024-03-02 15:30:23</td>\n",
       "      <td>3 mins ago</td>\n",
       "      <td>1709393423</td>\n",
       "      <td>0x9696a5c3eb572de180aa7f76e39c0f4418a34af1</td>\n",
       "      <td>0x7a250d5630b4cf539739df2c5dacb4c659f2488d</td>\n",
       "      <td>2.169 ETH</td>\n",
       "      <td>0.0071224</td>\n",
       "    </tr>\n",
       "  </tbody>\n",
       "</table>\n",
       "<p>3200 rows × 10 columns</p>\n",
       "</div>"
      ],
      "text/plain": [
       "                                               Txn Hash               Method  \\\n",
       "0     0xc25c11146dc2bcd5435042d83063aa1ef34d78dcb888...             Transfer   \n",
       "1     0xa97bc55946fcc3e9a8b20be4c3759eae0e57cac94d09...             Transfer   \n",
       "2     0x26690523831734648d49bef772bddc1afc3a736d48da...             Transfer   \n",
       "3     0xc41fed25318e6aa49ae2dab6121f7c4efd34cfc2d302...             Transfer   \n",
       "4     0x2934ac5cb99b141c7981e0c47fee118189190a327034...              Approve   \n",
       "...                                                 ...                  ...   \n",
       "3195  0xbbe13502ccd596df559ac73def330c85c0a905166d33...  Exact Output Sin...   \n",
       "3196  0x17cd687428e8c29ddd5037afabf42d04480e5832ff53...      Execute F Fs Yo   \n",
       "3197  0x7be0e69e117e4be858bb5e23a435d05abe1d3b203cc2...           0x859b7571   \n",
       "3198  0x375e8c985584cf3c89bf59cdaa9091b2513e704f9ccc...             Transfer   \n",
       "3199  0x23544e9ed015834f084c74b5dec7c99c8d6f7c4f1db3...  Swap Exact ETH F...   \n",
       "\n",
       "         Block                 Date         Age  Local Date  \\\n",
       "0     19348398  2024-03-02 15:32:23  6 secs ago  1709393543   \n",
       "1     19348398  2024-03-02 15:32:23  6 secs ago  1709393543   \n",
       "2     19348398  2024-03-02 15:32:23  6 secs ago  1709393543   \n",
       "3     19348398  2024-03-02 15:32:23  6 secs ago  1709393543   \n",
       "4     19348398  2024-03-02 15:32:23  6 secs ago  1709393543   \n",
       "...        ...                  ...         ...         ...   \n",
       "3195  19348388  2024-03-02 15:30:23  3 mins ago  1709393423   \n",
       "3196  19348388  2024-03-02 15:30:23  3 mins ago  1709393423   \n",
       "3197  19348388  2024-03-02 15:30:23  3 mins ago  1709393423   \n",
       "3198  19348388  2024-03-02 15:30:23  3 mins ago  1709393423   \n",
       "3199  19348388  2024-03-02 15:30:23  3 mins ago  1709393423   \n",
       "\n",
       "                                            From  \\\n",
       "0     0x95222290dd7278aa3ddd389cc1e1d165cc4bafe5   \n",
       "1     0x51e6c73dd41c9c0d1da9d2d24d3f065111d29eaa   \n",
       "2     0x55fe002aeff02f77364de339a1292923a15844b8   \n",
       "3     0xbdfa4f4492dd7b7cf211209c4791af8d52bf5c50   \n",
       "4     0x9663ca24ef69ee379b4a18981858f65cb804cc2d   \n",
       "...                                          ...   \n",
       "3195  0xf5213a6a2f0890321712520b8048d9886c1a9900   \n",
       "3196  0x431b5a84acc1297eda88259f300262f1bc3a74f3   \n",
       "3197  0x315d2ee4fccda0def532ef4108ff57204f8d9eba   \n",
       "3198  0x9696a5c3eb572de180aa7f76e39c0f4418a34af1   \n",
       "3199  0x9696a5c3eb572de180aa7f76e39c0f4418a34af1   \n",
       "\n",
       "                                              To            Value     Txn fee  \n",
       "0     0x4675c7e5baafbffbca748158becba61ef3b0a263  0.028575932 ETH  0.00096165  \n",
       "1     0xd5f7838f5c461feff7fe49ea5ebaf7728bb0adfa            0 ETH  0.00245995  \n",
       "2     0xa0b86991c6218b36c1d19d4a2e9eb0ce3606eb48            0 ETH  0.00285246  \n",
       "3     0xa0b86991c6218b36c1d19d4a2e9eb0ce3606eb48            0 ETH  0.00207028  \n",
       "4     0xdac17f958d2ee523a2206206994597c13d831ec7            0 ETH  0.00224159  \n",
       "...                                          ...              ...         ...  \n",
       "3195  0xe592427a0aece92de3edee1f18e0157c05861564            0 ETH  0.00772261  \n",
       "3196  0xa69babef1ca67a37ffaf7a485dfff3382056e78c            0 ETH  0.00570796  \n",
       "3197  0x738e79fbc9010521763944ddf13aad7f61502221            0 ETH  0.01129322  \n",
       "3198  0x9696a5c3eb572de180aa7f76e39c0f4418a34af1            0 ETH  0.01309334  \n",
       "3199  0x7a250d5630b4cf539739df2c5dacb4c659f2488d        2.169 ETH   0.0071224  \n",
       "\n",
       "[3200 rows x 10 columns]"
      ]
     },
     "execution_count": 103,
     "metadata": {},
     "output_type": "execute_result"
    }
   ],
   "source": [
    "dataframe"
   ]
  },
  {
   "cell_type": "markdown",
   "id": "ee30eee7",
   "metadata": {},
   "source": [
    "### Removing duplicate rows"
   ]
  },
  {
   "cell_type": "code",
   "execution_count": 104,
   "id": "a37c11be",
   "metadata": {},
   "outputs": [
    {
     "data": {
      "text/html": [
       "<div>\n",
       "<style scoped>\n",
       "    .dataframe tbody tr th:only-of-type {\n",
       "        vertical-align: middle;\n",
       "    }\n",
       "\n",
       "    .dataframe tbody tr th {\n",
       "        vertical-align: top;\n",
       "    }\n",
       "\n",
       "    .dataframe thead th {\n",
       "        text-align: right;\n",
       "    }\n",
       "</style>\n",
       "<table border=\"1\" class=\"dataframe\">\n",
       "  <thead>\n",
       "    <tr style=\"text-align: right;\">\n",
       "      <th></th>\n",
       "      <th>Txn Hash</th>\n",
       "      <th>Method</th>\n",
       "      <th>Block</th>\n",
       "      <th>Date</th>\n",
       "      <th>Age</th>\n",
       "      <th>Local Date</th>\n",
       "      <th>From</th>\n",
       "      <th>To</th>\n",
       "      <th>Value</th>\n",
       "      <th>Txn fee</th>\n",
       "    </tr>\n",
       "  </thead>\n",
       "  <tbody>\n",
       "    <tr>\n",
       "      <th>0</th>\n",
       "      <td>0xc25c11146dc2bcd5435042d83063aa1ef34d78dcb888...</td>\n",
       "      <td>Transfer</td>\n",
       "      <td>19348398</td>\n",
       "      <td>2024-03-02 15:32:23</td>\n",
       "      <td>6 secs ago</td>\n",
       "      <td>1709393543</td>\n",
       "      <td>0x95222290dd7278aa3ddd389cc1e1d165cc4bafe5</td>\n",
       "      <td>0x4675c7e5baafbffbca748158becba61ef3b0a263</td>\n",
       "      <td>0.028575932 ETH</td>\n",
       "      <td>0.00096165</td>\n",
       "    </tr>\n",
       "    <tr>\n",
       "      <th>1</th>\n",
       "      <td>0xa97bc55946fcc3e9a8b20be4c3759eae0e57cac94d09...</td>\n",
       "      <td>Transfer</td>\n",
       "      <td>19348398</td>\n",
       "      <td>2024-03-02 15:32:23</td>\n",
       "      <td>6 secs ago</td>\n",
       "      <td>1709393543</td>\n",
       "      <td>0x51e6c73dd41c9c0d1da9d2d24d3f065111d29eaa</td>\n",
       "      <td>0xd5f7838f5c461feff7fe49ea5ebaf7728bb0adfa</td>\n",
       "      <td>0 ETH</td>\n",
       "      <td>0.00245995</td>\n",
       "    </tr>\n",
       "    <tr>\n",
       "      <th>2</th>\n",
       "      <td>0x26690523831734648d49bef772bddc1afc3a736d48da...</td>\n",
       "      <td>Transfer</td>\n",
       "      <td>19348398</td>\n",
       "      <td>2024-03-02 15:32:23</td>\n",
       "      <td>6 secs ago</td>\n",
       "      <td>1709393543</td>\n",
       "      <td>0x55fe002aeff02f77364de339a1292923a15844b8</td>\n",
       "      <td>0xa0b86991c6218b36c1d19d4a2e9eb0ce3606eb48</td>\n",
       "      <td>0 ETH</td>\n",
       "      <td>0.00285246</td>\n",
       "    </tr>\n",
       "    <tr>\n",
       "      <th>3</th>\n",
       "      <td>0xc41fed25318e6aa49ae2dab6121f7c4efd34cfc2d302...</td>\n",
       "      <td>Transfer</td>\n",
       "      <td>19348398</td>\n",
       "      <td>2024-03-02 15:32:23</td>\n",
       "      <td>6 secs ago</td>\n",
       "      <td>1709393543</td>\n",
       "      <td>0xbdfa4f4492dd7b7cf211209c4791af8d52bf5c50</td>\n",
       "      <td>0xa0b86991c6218b36c1d19d4a2e9eb0ce3606eb48</td>\n",
       "      <td>0 ETH</td>\n",
       "      <td>0.00207028</td>\n",
       "    </tr>\n",
       "    <tr>\n",
       "      <th>4</th>\n",
       "      <td>0x2934ac5cb99b141c7981e0c47fee118189190a327034...</td>\n",
       "      <td>Approve</td>\n",
       "      <td>19348398</td>\n",
       "      <td>2024-03-02 15:32:23</td>\n",
       "      <td>6 secs ago</td>\n",
       "      <td>1709393543</td>\n",
       "      <td>0x9663ca24ef69ee379b4a18981858f65cb804cc2d</td>\n",
       "      <td>0xdac17f958d2ee523a2206206994597c13d831ec7</td>\n",
       "      <td>0 ETH</td>\n",
       "      <td>0.00224159</td>\n",
       "    </tr>\n",
       "    <tr>\n",
       "      <th>...</th>\n",
       "      <td>...</td>\n",
       "      <td>...</td>\n",
       "      <td>...</td>\n",
       "      <td>...</td>\n",
       "      <td>...</td>\n",
       "      <td>...</td>\n",
       "      <td>...</td>\n",
       "      <td>...</td>\n",
       "      <td>...</td>\n",
       "      <td>...</td>\n",
       "    </tr>\n",
       "    <tr>\n",
       "      <th>3195</th>\n",
       "      <td>0xbbe13502ccd596df559ac73def330c85c0a905166d33...</td>\n",
       "      <td>Exact Output Sin...</td>\n",
       "      <td>19348388</td>\n",
       "      <td>2024-03-02 15:30:23</td>\n",
       "      <td>3 mins ago</td>\n",
       "      <td>1709393423</td>\n",
       "      <td>0xf5213a6a2f0890321712520b8048d9886c1a9900</td>\n",
       "      <td>0xe592427a0aece92de3edee1f18e0157c05861564</td>\n",
       "      <td>0 ETH</td>\n",
       "      <td>0.00772261</td>\n",
       "    </tr>\n",
       "    <tr>\n",
       "      <th>3196</th>\n",
       "      <td>0x17cd687428e8c29ddd5037afabf42d04480e5832ff53...</td>\n",
       "      <td>Execute F Fs Yo</td>\n",
       "      <td>19348388</td>\n",
       "      <td>2024-03-02 15:30:23</td>\n",
       "      <td>3 mins ago</td>\n",
       "      <td>1709393423</td>\n",
       "      <td>0x431b5a84acc1297eda88259f300262f1bc3a74f3</td>\n",
       "      <td>0xa69babef1ca67a37ffaf7a485dfff3382056e78c</td>\n",
       "      <td>0 ETH</td>\n",
       "      <td>0.00570796</td>\n",
       "    </tr>\n",
       "    <tr>\n",
       "      <th>3197</th>\n",
       "      <td>0x7be0e69e117e4be858bb5e23a435d05abe1d3b203cc2...</td>\n",
       "      <td>0x859b7571</td>\n",
       "      <td>19348388</td>\n",
       "      <td>2024-03-02 15:30:23</td>\n",
       "      <td>3 mins ago</td>\n",
       "      <td>1709393423</td>\n",
       "      <td>0x315d2ee4fccda0def532ef4108ff57204f8d9eba</td>\n",
       "      <td>0x738e79fbc9010521763944ddf13aad7f61502221</td>\n",
       "      <td>0 ETH</td>\n",
       "      <td>0.01129322</td>\n",
       "    </tr>\n",
       "    <tr>\n",
       "      <th>3198</th>\n",
       "      <td>0x375e8c985584cf3c89bf59cdaa9091b2513e704f9ccc...</td>\n",
       "      <td>Transfer</td>\n",
       "      <td>19348388</td>\n",
       "      <td>2024-03-02 15:30:23</td>\n",
       "      <td>3 mins ago</td>\n",
       "      <td>1709393423</td>\n",
       "      <td>0x9696a5c3eb572de180aa7f76e39c0f4418a34af1</td>\n",
       "      <td>0x9696a5c3eb572de180aa7f76e39c0f4418a34af1</td>\n",
       "      <td>0 ETH</td>\n",
       "      <td>0.01309334</td>\n",
       "    </tr>\n",
       "    <tr>\n",
       "      <th>3199</th>\n",
       "      <td>0x23544e9ed015834f084c74b5dec7c99c8d6f7c4f1db3...</td>\n",
       "      <td>Swap Exact ETH F...</td>\n",
       "      <td>19348388</td>\n",
       "      <td>2024-03-02 15:30:23</td>\n",
       "      <td>3 mins ago</td>\n",
       "      <td>1709393423</td>\n",
       "      <td>0x9696a5c3eb572de180aa7f76e39c0f4418a34af1</td>\n",
       "      <td>0x7a250d5630b4cf539739df2c5dacb4c659f2488d</td>\n",
       "      <td>2.169 ETH</td>\n",
       "      <td>0.0071224</td>\n",
       "    </tr>\n",
       "  </tbody>\n",
       "</table>\n",
       "<p>2021 rows × 10 columns</p>\n",
       "</div>"
      ],
      "text/plain": [
       "                                               Txn Hash               Method  \\\n",
       "0     0xc25c11146dc2bcd5435042d83063aa1ef34d78dcb888...             Transfer   \n",
       "1     0xa97bc55946fcc3e9a8b20be4c3759eae0e57cac94d09...             Transfer   \n",
       "2     0x26690523831734648d49bef772bddc1afc3a736d48da...             Transfer   \n",
       "3     0xc41fed25318e6aa49ae2dab6121f7c4efd34cfc2d302...             Transfer   \n",
       "4     0x2934ac5cb99b141c7981e0c47fee118189190a327034...              Approve   \n",
       "...                                                 ...                  ...   \n",
       "3195  0xbbe13502ccd596df559ac73def330c85c0a905166d33...  Exact Output Sin...   \n",
       "3196  0x17cd687428e8c29ddd5037afabf42d04480e5832ff53...      Execute F Fs Yo   \n",
       "3197  0x7be0e69e117e4be858bb5e23a435d05abe1d3b203cc2...           0x859b7571   \n",
       "3198  0x375e8c985584cf3c89bf59cdaa9091b2513e704f9ccc...             Transfer   \n",
       "3199  0x23544e9ed015834f084c74b5dec7c99c8d6f7c4f1db3...  Swap Exact ETH F...   \n",
       "\n",
       "         Block                 Date         Age  Local Date  \\\n",
       "0     19348398  2024-03-02 15:32:23  6 secs ago  1709393543   \n",
       "1     19348398  2024-03-02 15:32:23  6 secs ago  1709393543   \n",
       "2     19348398  2024-03-02 15:32:23  6 secs ago  1709393543   \n",
       "3     19348398  2024-03-02 15:32:23  6 secs ago  1709393543   \n",
       "4     19348398  2024-03-02 15:32:23  6 secs ago  1709393543   \n",
       "...        ...                  ...         ...         ...   \n",
       "3195  19348388  2024-03-02 15:30:23  3 mins ago  1709393423   \n",
       "3196  19348388  2024-03-02 15:30:23  3 mins ago  1709393423   \n",
       "3197  19348388  2024-03-02 15:30:23  3 mins ago  1709393423   \n",
       "3198  19348388  2024-03-02 15:30:23  3 mins ago  1709393423   \n",
       "3199  19348388  2024-03-02 15:30:23  3 mins ago  1709393423   \n",
       "\n",
       "                                            From  \\\n",
       "0     0x95222290dd7278aa3ddd389cc1e1d165cc4bafe5   \n",
       "1     0x51e6c73dd41c9c0d1da9d2d24d3f065111d29eaa   \n",
       "2     0x55fe002aeff02f77364de339a1292923a15844b8   \n",
       "3     0xbdfa4f4492dd7b7cf211209c4791af8d52bf5c50   \n",
       "4     0x9663ca24ef69ee379b4a18981858f65cb804cc2d   \n",
       "...                                          ...   \n",
       "3195  0xf5213a6a2f0890321712520b8048d9886c1a9900   \n",
       "3196  0x431b5a84acc1297eda88259f300262f1bc3a74f3   \n",
       "3197  0x315d2ee4fccda0def532ef4108ff57204f8d9eba   \n",
       "3198  0x9696a5c3eb572de180aa7f76e39c0f4418a34af1   \n",
       "3199  0x9696a5c3eb572de180aa7f76e39c0f4418a34af1   \n",
       "\n",
       "                                              To            Value     Txn fee  \n",
       "0     0x4675c7e5baafbffbca748158becba61ef3b0a263  0.028575932 ETH  0.00096165  \n",
       "1     0xd5f7838f5c461feff7fe49ea5ebaf7728bb0adfa            0 ETH  0.00245995  \n",
       "2     0xa0b86991c6218b36c1d19d4a2e9eb0ce3606eb48            0 ETH  0.00285246  \n",
       "3     0xa0b86991c6218b36c1d19d4a2e9eb0ce3606eb48            0 ETH  0.00207028  \n",
       "4     0xdac17f958d2ee523a2206206994597c13d831ec7            0 ETH  0.00224159  \n",
       "...                                          ...              ...         ...  \n",
       "3195  0xe592427a0aece92de3edee1f18e0157c05861564            0 ETH  0.00772261  \n",
       "3196  0xa69babef1ca67a37ffaf7a485dfff3382056e78c            0 ETH  0.00570796  \n",
       "3197  0x738e79fbc9010521763944ddf13aad7f61502221            0 ETH  0.01129322  \n",
       "3198  0x9696a5c3eb572de180aa7f76e39c0f4418a34af1            0 ETH  0.01309334  \n",
       "3199  0x7a250d5630b4cf539739df2c5dacb4c659f2488d        2.169 ETH   0.0071224  \n",
       "\n",
       "[2021 rows x 10 columns]"
      ]
     },
     "execution_count": 104,
     "metadata": {},
     "output_type": "execute_result"
    }
   ],
   "source": [
    "# remove the duplicate rows\n",
    "dataframe = dataframe.drop_duplicates(subset='Txn Hash', keep='first')\n",
    "dataframe\n"
   ]
  },
  {
   "cell_type": "markdown",
   "id": "de62fe7d",
   "metadata": {},
   "source": [
    "### Converting data types"
   ]
  },
  {
   "cell_type": "code",
   "execution_count": 105,
   "id": "33a4f24a",
   "metadata": {},
   "outputs": [
    {
     "name": "stderr",
     "output_type": "stream",
     "text": [
      "/tmp/ipykernel_80630/910321460.py:1: SettingWithCopyWarning: \n",
      "A value is trying to be set on a copy of a slice from a DataFrame.\n",
      "Try using .loc[row_indexer,col_indexer] = value instead\n",
      "\n",
      "See the caveats in the documentation: https://pandas.pydata.org/pandas-docs/stable/user_guide/indexing.html#returning-a-view-versus-a-copy\n",
      "  dataframe['Block'] = dataframe['Block'].astype(int)\n"
     ]
    }
   ],
   "source": [
    "dataframe['Block'] = dataframe['Block'].astype(int)"
   ]
  },
  {
   "cell_type": "code",
   "execution_count": 106,
   "id": "e8878370",
   "metadata": {},
   "outputs": [
    {
     "name": "stderr",
     "output_type": "stream",
     "text": [
      "/tmp/ipykernel_80630/2473666522.py:1: SettingWithCopyWarning: \n",
      "A value is trying to be set on a copy of a slice from a DataFrame.\n",
      "Try using .loc[row_indexer,col_indexer] = value instead\n",
      "\n",
      "See the caveats in the documentation: https://pandas.pydata.org/pandas-docs/stable/user_guide/indexing.html#returning-a-view-versus-a-copy\n",
      "  dataframe['Date'] = pd.to_datetime(dataframe['Date'])\n"
     ]
    }
   ],
   "source": [
    "dataframe['Date'] = pd.to_datetime(dataframe['Date'])"
   ]
  },
  {
   "cell_type": "code",
   "execution_count": 107,
   "id": "c94f8c99",
   "metadata": {},
   "outputs": [
    {
     "name": "stderr",
     "output_type": "stream",
     "text": [
      "/tmp/ipykernel_80630/3362543133.py:1: SettingWithCopyWarning: \n",
      "A value is trying to be set on a copy of a slice from a DataFrame.\n",
      "Try using .loc[row_indexer,col_indexer] = value instead\n",
      "\n",
      "See the caveats in the documentation: https://pandas.pydata.org/pandas-docs/stable/user_guide/indexing.html#returning-a-view-versus-a-copy\n",
      "  dataframe['Local Date'] = dataframe['Local Date'].astype(int)\n"
     ]
    }
   ],
   "source": [
    "dataframe['Local Date'] = dataframe['Local Date'].astype(int)"
   ]
  },
  {
   "cell_type": "code",
   "execution_count": 108,
   "id": "8ba4c488",
   "metadata": {},
   "outputs": [
    {
     "name": "stderr",
     "output_type": "stream",
     "text": [
      "/tmp/ipykernel_80630/1823983020.py:13: SettingWithCopyWarning: \n",
      "A value is trying to be set on a copy of a slice from a DataFrame.\n",
      "Try using .loc[row_indexer,col_indexer] = value instead\n",
      "\n",
      "See the caveats in the documentation: https://pandas.pydata.org/pandas-docs/stable/user_guide/indexing.html#returning-a-view-versus-a-copy\n",
      "  dataframe['Value'] = dataframe['Value'].apply(covert_currencies)\n",
      "/tmp/ipykernel_80630/1823983020.py:14: SettingWithCopyWarning: \n",
      "A value is trying to be set on a copy of a slice from a DataFrame.\n",
      "Try using .loc[row_indexer,col_indexer] = value instead\n",
      "\n",
      "See the caveats in the documentation: https://pandas.pydata.org/pandas-docs/stable/user_guide/indexing.html#returning-a-view-versus-a-copy\n",
      "  dataframe['Value'] = dataframe['Value'].astype(float)\n"
     ]
    }
   ],
   "source": [
    "def covert_currencies(value):\n",
    "    if type(value) == float:\n",
    "        return value\n",
    "    if 'ETH' in value:\n",
    "        return float(value.replace(' ETH', ''))\n",
    "    elif 'wei' in value:\n",
    "        return float(value.replace(' wei', '')) / 10**18\n",
    "    elif 'Gwei' in value:\n",
    "        return float(value.replace(' Gwei', '')) / 10**9\n",
    "    else:\n",
    "        return float(value)\n",
    "\n",
    "dataframe['Value'] = dataframe['Value'].apply(covert_currencies)\n",
    "# dataframe['Value'] = dataframe['Value'].astype(float)"
   ]
  },
  {
   "cell_type": "code",
   "execution_count": 109,
   "id": "c9849672",
   "metadata": {},
   "outputs": [
    {
     "name": "stderr",
     "output_type": "stream",
     "text": [
      "/tmp/ipykernel_80630/1664145654.py:1: SettingWithCopyWarning: \n",
      "A value is trying to be set on a copy of a slice from a DataFrame.\n",
      "Try using .loc[row_indexer,col_indexer] = value instead\n",
      "\n",
      "See the caveats in the documentation: https://pandas.pydata.org/pandas-docs/stable/user_guide/indexing.html#returning-a-view-versus-a-copy\n",
      "  dataframe['Txn fee'] = dataframe['Txn fee'].str.replace('ETH', '')\n",
      "/tmp/ipykernel_80630/1664145654.py:2: FutureWarning: The default value of regex will change from True to False in a future version. In addition, single character regular expressions will *not* be treated as literal strings when regex=True.\n",
      "  dataframe['Txn fee'] = dataframe['Txn fee'].str.replace('(', '')\n",
      "/tmp/ipykernel_80630/1664145654.py:2: SettingWithCopyWarning: \n",
      "A value is trying to be set on a copy of a slice from a DataFrame.\n",
      "Try using .loc[row_indexer,col_indexer] = value instead\n",
      "\n",
      "See the caveats in the documentation: https://pandas.pydata.org/pandas-docs/stable/user_guide/indexing.html#returning-a-view-versus-a-copy\n",
      "  dataframe['Txn fee'] = dataframe['Txn fee'].str.replace('(', '')\n",
      "/tmp/ipykernel_80630/1664145654.py:3: FutureWarning: The default value of regex will change from True to False in a future version. In addition, single character regular expressions will *not* be treated as literal strings when regex=True.\n",
      "  dataframe['Txn fee'] = dataframe['Txn fee'].str.replace(')', '')\n",
      "/tmp/ipykernel_80630/1664145654.py:3: SettingWithCopyWarning: \n",
      "A value is trying to be set on a copy of a slice from a DataFrame.\n",
      "Try using .loc[row_indexer,col_indexer] = value instead\n",
      "\n",
      "See the caveats in the documentation: https://pandas.pydata.org/pandas-docs/stable/user_guide/indexing.html#returning-a-view-versus-a-copy\n",
      "  dataframe['Txn fee'] = dataframe['Txn fee'].str.replace(')', '')\n",
      "/tmp/ipykernel_80630/1664145654.py:4: SettingWithCopyWarning: \n",
      "A value is trying to be set on a copy of a slice from a DataFrame.\n",
      "Try using .loc[row_indexer,col_indexer] = value instead\n",
      "\n",
      "See the caveats in the documentation: https://pandas.pydata.org/pandas-docs/stable/user_guide/indexing.html#returning-a-view-versus-a-copy\n",
      "  dataframe['Txn fee'] = dataframe['Txn fee'].str.replace(',', '')\n",
      "/tmp/ipykernel_80630/1664145654.py:5: SettingWithCopyWarning: \n",
      "A value is trying to be set on a copy of a slice from a DataFrame.\n",
      "Try using .loc[row_indexer,col_indexer] = value instead\n",
      "\n",
      "See the caveats in the documentation: https://pandas.pydata.org/pandas-docs/stable/user_guide/indexing.html#returning-a-view-versus-a-copy\n",
      "  dataframe['Txn fee'] = dataframe['Txn fee'].astype(float)\n"
     ]
    }
   ],
   "source": [
    "# dataframe['Txn fee'] = dataframe['Txn fee'].str.replace('ETH', '')\n",
    "# dataframe['Txn fee'] = dataframe['Txn fee'].str.replace('(', '')\n",
    "# dataframe['Txn fee'] = dataframe['Txn fee'].str.replace(')', '')\n",
    "# dataframe['Txn fee'] = dataframe['Txn fee'].str.replace(',', '')\n",
    "dataframe['Txn fee'] = dataframe['Txn fee'].astype(float)"
   ]
  },
  {
   "cell_type": "code",
   "execution_count": null,
   "id": "759bcc53",
   "metadata": {},
   "outputs": [],
   "source": [
    "dataframe = dataframe.reset_index(drop=True)"
   ]
  },
  {
   "cell_type": "markdown",
   "id": "5ef9be04",
   "metadata": {},
   "source": [
    "### Save the dataframe to a CSV file"
   ]
  },
  {
   "cell_type": "code",
   "execution_count": 110,
   "id": "c86cdebd",
   "metadata": {},
   "outputs": [
    {
     "name": "stdout",
     "output_type": "stream",
     "text": [
      "Data saved to etherscan.csv\n"
     ]
    }
   ],
   "source": [
    "def save_to_csv(dataframe, filename):\n",
    "    dataframe.to_csv(filename, index=False)\n",
    "    print(f'Data saved to {filename}')\n",
    "\n",
    "save_to_csv(dataframe, 'etherscan.csv')"
   ]
  },
  {
   "cell_type": "markdown",
   "id": "5e325433",
   "metadata": {},
   "source": [
    "### Exploratory Data Analysis"
   ]
  },
  {
   "cell_type": "code",
   "execution_count": 111,
   "id": "bd6ccd13",
   "metadata": {},
   "outputs": [
    {
     "name": "stdout",
     "output_type": "stream",
     "text": [
      "<class 'pandas.core.frame.DataFrame'>\n",
      "Int64Index: 2021 entries, 0 to 3199\n",
      "Data columns (total 10 columns):\n",
      " #   Column      Non-Null Count  Dtype         \n",
      "---  ------      --------------  -----         \n",
      " 0   Txn Hash    2021 non-null   object        \n",
      " 1   Method      2021 non-null   object        \n",
      " 2   Block       2021 non-null   int64         \n",
      " 3   Date        2021 non-null   datetime64[ns]\n",
      " 4   Age         2021 non-null   object        \n",
      " 5   Local Date  2021 non-null   int64         \n",
      " 6   From        2021 non-null   object        \n",
      " 7   To          2021 non-null   object        \n",
      " 8   Value       2021 non-null   float64       \n",
      " 9   Txn fee     2021 non-null   float64       \n",
      "dtypes: datetime64[ns](1), float64(2), int64(2), object(5)\n",
      "memory usage: 173.7+ KB\n"
     ]
    }
   ],
   "source": [
    "dataframe.info()"
   ]
  },
  {
   "cell_type": "markdown",
   "id": "713e0e63",
   "metadata": {},
   "source": [
    "### Null Values"
   ]
  },
  {
   "cell_type": "markdown",
   "id": "7cb2e88b",
   "metadata": {},
   "source": [
    "### Statistical Analysis"
   ]
  },
  {
   "cell_type": "code",
   "execution_count": 112,
   "id": "79589e15",
   "metadata": {},
   "outputs": [
    {
     "data": {
      "text/html": [
       "<div>\n",
       "<style scoped>\n",
       "    .dataframe tbody tr th:only-of-type {\n",
       "        vertical-align: middle;\n",
       "    }\n",
       "\n",
       "    .dataframe tbody tr th {\n",
       "        vertical-align: top;\n",
       "    }\n",
       "\n",
       "    .dataframe thead th {\n",
       "        text-align: right;\n",
       "    }\n",
       "</style>\n",
       "<table border=\"1\" class=\"dataframe\">\n",
       "  <thead>\n",
       "    <tr style=\"text-align: right;\">\n",
       "      <th></th>\n",
       "      <th>Block</th>\n",
       "      <th>Local Date</th>\n",
       "      <th>Value</th>\n",
       "      <th>Txn fee</th>\n",
       "    </tr>\n",
       "  </thead>\n",
       "  <tbody>\n",
       "    <tr>\n",
       "      <th>count</th>\n",
       "      <td>2.021000e+03</td>\n",
       "      <td>2.021000e+03</td>\n",
       "      <td>2021.000000</td>\n",
       "      <td>2021.000000</td>\n",
       "    </tr>\n",
       "    <tr>\n",
       "      <th>mean</th>\n",
       "      <td>1.934839e+07</td>\n",
       "      <td>1.709393e+09</td>\n",
       "      <td>0.516312</td>\n",
       "      <td>0.004035</td>\n",
       "    </tr>\n",
       "    <tr>\n",
       "      <th>std</th>\n",
       "      <td>3.079407e+00</td>\n",
       "      <td>3.695289e+01</td>\n",
       "      <td>4.572726</td>\n",
       "      <td>0.009943</td>\n",
       "    </tr>\n",
       "    <tr>\n",
       "      <th>min</th>\n",
       "      <td>1.934839e+07</td>\n",
       "      <td>1.709393e+09</td>\n",
       "      <td>0.000000</td>\n",
       "      <td>0.000962</td>\n",
       "    </tr>\n",
       "    <tr>\n",
       "      <th>25%</th>\n",
       "      <td>1.934839e+07</td>\n",
       "      <td>1.709393e+09</td>\n",
       "      <td>0.000000</td>\n",
       "      <td>0.001050</td>\n",
       "    </tr>\n",
       "    <tr>\n",
       "      <th>50%</th>\n",
       "      <td>1.934839e+07</td>\n",
       "      <td>1.709393e+09</td>\n",
       "      <td>0.000000</td>\n",
       "      <td>0.002139</td>\n",
       "    </tr>\n",
       "    <tr>\n",
       "      <th>75%</th>\n",
       "      <td>1.934840e+07</td>\n",
       "      <td>1.709394e+09</td>\n",
       "      <td>0.064711</td>\n",
       "      <td>0.003959</td>\n",
       "    </tr>\n",
       "    <tr>\n",
       "      <th>max</th>\n",
       "      <td>1.934840e+07</td>\n",
       "      <td>1.709394e+09</td>\n",
       "      <td>137.260000</td>\n",
       "      <td>0.314989</td>\n",
       "    </tr>\n",
       "  </tbody>\n",
       "</table>\n",
       "</div>"
      ],
      "text/plain": [
       "              Block    Local Date        Value      Txn fee\n",
       "count  2.021000e+03  2.021000e+03  2021.000000  2021.000000\n",
       "mean   1.934839e+07  1.709393e+09     0.516312     0.004035\n",
       "std    3.079407e+00  3.695289e+01     4.572726     0.009943\n",
       "min    1.934839e+07  1.709393e+09     0.000000     0.000962\n",
       "25%    1.934839e+07  1.709393e+09     0.000000     0.001050\n",
       "50%    1.934839e+07  1.709393e+09     0.000000     0.002139\n",
       "75%    1.934840e+07  1.709394e+09     0.064711     0.003959\n",
       "max    1.934840e+07  1.709394e+09   137.260000     0.314989"
      ]
     },
     "execution_count": 112,
     "metadata": {},
     "output_type": "execute_result"
    }
   ],
   "source": [
    "dataframe.describe()"
   ]
  },
  {
   "cell_type": "markdown",
   "id": "90c543d6",
   "metadata": {},
   "source": [
    "### Method Distribution"
   ]
  },
  {
   "cell_type": "code",
   "execution_count": 113,
   "id": "d7481865",
   "metadata": {},
   "outputs": [
    {
     "data": {
      "image/png": "[encoded data removed]",
      "text/plain": [
       "<Figure size 640x480 with 1 Axes>"
      ]
     },
     "metadata": {},
     "output_type": "display_data"
    }
   ],
   "source": [
    "# show the number of transactions per method in a bar chart\n",
    "# only show the top 10 methods\n",
    "# show other methods as 'Other'\n",
    "# show labels 45 degrees rotated\n",
    "top_methods = dataframe['Method'].value_counts().head(10)\n",
    "other_methods = dataframe['Method'].value_counts().tail(-10).sum()\n",
    "top_methods['Other'] = other_methods\n",
    "top_methods.plot(kind='bar')\n",
    "plt.title('Number of transactions per method')\n",
    "plt.xlabel('Method')\n",
    "plt.ylabel('Number of transactions')\n",
    "plt.xticks(rotation=45)\n",
    "plt.show()\n"
   ]
  },
  {
   "cell_type": "markdown",
   "id": "0bf5e609",
   "metadata": {},
   "source": [
    "### Block Distribution"
   ]
  },
  {
   "cell_type": "code",
   "execution_count": 114,
   "id": "787dea47",
   "metadata": {},
   "outputs": [
    {
     "data": {
      "image/png": "[encoded data removed]",
      "text/plain": [
       "<Figure size 640x480 with 1 Axes>"
      ]
     },
     "metadata": {},
     "output_type": "display_data"
    }
   ],
   "source": [
    "# show the number of transactions per block in a bar chart\n",
    "dataframe['Block'].value_counts().plot(kind='bar')\n",
    "plt.title('Number of transactions per block')\n",
    "plt.xlabel('Block')\n",
    "plt.ylabel('Number of transactions')\n",
    "plt.xticks(rotation=45)\n",
    "plt.show()\n"
   ]
  },
  {
   "cell_type": "markdown",
   "id": "ac7e3702",
   "metadata": {},
   "source": [
    "### Sender Distribution"
   ]
  },
  {
   "cell_type": "code",
   "execution_count": 115,
   "id": "d39b3df5",
   "metadata": {},
   "outputs": [
    {
     "data": {
      "image/png": "[encoded data removed]",
      "text/plain": [
       "<Figure size 640x480 with 1 Axes>"
      ]
     },
     "metadata": {},
     "output_type": "display_data"
    }
   ],
   "source": [
    "# show the number of transactions for every sender in a bar chart\n",
    "# only show the top 10 senders\n",
    "top_senders = dataframe['From'].value_counts().head(10)\n",
    "top_senders.index = top_senders.index.map(lambda x: x[:6] + '...' + x[-4:])\n",
    "top_senders.plot(kind='barh')\n",
    "plt.title('Number of transactions per sender')\n",
    "plt.xlabel('Sender')\n",
    "plt.ylabel('Number of transactions')\n",
    "plt.xticks(rotation=45)\n",
    "plt.show()"
   ]
  },
  {
   "cell_type": "markdown",
   "id": "131093c9",
   "metadata": {},
   "source": [
    "### Receiver Distribution"
   ]
  },
  {
   "cell_type": "code",
   "execution_count": 116,
   "id": "14edb380",
   "metadata": {},
   "outputs": [
    {
     "data": {
      "image/png": "[encoded data removed]",
      "text/plain": [
       "<Figure size 640x480 with 1 Axes>"
      ]
     },
     "metadata": {},
     "output_type": "display_data"
    }
   ],
   "source": [
    "# show the number of transactions for every receiver in a bar chart\n",
    "# only show the top 10 receivers\n",
    "# make the bar chart horizontal\n",
    "top_receivers = dataframe['To'].value_counts().head(10)\n",
    "top_receivers.index = top_receivers.index.str[:6] + '...' + top_receivers.index.str[-4:]\n",
    "top_receivers.plot(kind='barh')\n",
    "plt.title('Number of transactions per receiver')\n",
    "plt.xlabel('Number of transactions')\n",
    "plt.ylabel('Receiver')\n",
    "plt.show()"
   ]
  },
  {
   "cell_type": "markdown",
   "id": "57d0ffab",
   "metadata": {},
   "source": [
    "### Histograms"
   ]
  },
  {
   "cell_type": "code",
   "execution_count": 128,
   "id": "0f33dc83",
   "metadata": {},
   "outputs": [
    {
     "data": {
      "image/png": "[encoded data removed]",
      "text/plain": [
       "<Figure size 640x480 with 1 Axes>"
      ]
     },
     "metadata": {},
     "output_type": "display_data"
    }
   ],
   "source": [
    "# show the distribution of the transaction values in a histogram\n",
    "# the bins size should be  \n",
    "plt.hist(dataframe['Value'], bins='sqrt')\n",
    "plt.title('Distribution of transaction values')\n",
    "plt.xlabel('Value')\n",
    "plt.ylabel('Number of transactions')\n",
    "plt.show()"
   ]
  },
  {
   "cell_type": "markdown",
   "id": "51430775",
   "metadata": {},
   "source": [
    "### Drop Unnecessary Columns"
   ]
  },
  {
   "cell_type": "markdown",
   "id": "87030e5e0b4fe1e6",
   "metadata": {
    "collapsed": false
   },
   "source": [
    "## Data Sampling and Analysis\n",
    "\n",
    "In this section, we will delve into the process of data sampling and perform an initial analysis on the transaction data we have collected. Our objective is to understand the distribution of transaction values by sampling the data and comparing the sample statistics with the population statistics.\n",
    "\n",
    "### Steps\n",
    "\n",
    "1. **Load the Data**: Import the collected transaction data into a pandas DataFrame.\n",
    "\n",
    "2. **Data Cleaning**: Clean the data by handling missing values, converting data types, and removing any irrelevant information.\n",
    "\n",
    "3. **Simple Random Sampling (SRS)**: Create a sample from the dataset using a simple random sampling method. This involves randomly selecting a subset of the data without regard to any specific characteristics of the data.\n",
    "\n",
    "4. **Stratified Sampling**: Create another sample from the dataset using a stratified sampling method. This involves dividing the data into strata based on a specific characteristic (e.g., transaction value) and then randomly selecting samples from each stratum. Explain what you have stratified the data by and why you chose this column.\n",
    "\n",
    "5. **Statistical Analysis**: Calculate the mean and standard deviation of the samples and the population. Compare these statistics to understand the distribution of transaction values.\n",
    "\n",
    "6. **Visualization**: Plot the distribution of transaction values and fees for both the samples and the population to visually compare their distributions.\n",
    "\n",
    "### Considerations\n",
    "\n",
    "- **Sample Size**: The size of the sample should be large enough to represent the population accurately but not so large that it becomes impractical to analyze.\n",
    "- **Sampling Method**: Choose the appropriate sampling method based on the characteristics of the data and the research question.\n",
    "\n",
    "Explain the above considerations in your report."
   ]
  },
  {
   "cell_type": "code",
   "execution_count": 117,
   "id": "4f6becd41f9b2393",
   "metadata": {
    "ExecuteTime": {
     "end_time": "2024-02-27T19:36:26.333480965Z",
     "start_time": "2024-02-27T19:36:26.324023052Z"
    },
    "collapsed": false
   },
   "outputs": [],
   "source": [
    "# Your code here"
   ]
  }
 ],
 "metadata": {
  "kernelspec": {
   "display_name": "Python 3 (ipykernel)",
   "language": "python",
   "name": "python3"
  },
  "language_info": {
   "codemirror_mode": {
    "name": "ipython",
    "version": 3
   },
   "file_extension": ".py",
   "mimetype": "text/x-python",
   "name": "python",
   "nbconvert_exporter": "python",
   "pygments_lexer": "ipython3",
   "version": "3.10.12"
  }
 },
 "nbformat": 4,
 "nbformat_minor": 5
}
