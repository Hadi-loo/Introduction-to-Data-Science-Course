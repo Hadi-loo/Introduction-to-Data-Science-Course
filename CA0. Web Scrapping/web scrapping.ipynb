{
 "cells": [
  {
   "cell_type": "markdown",
   "id": "99785274",
   "metadata": {},
   "source": [
    "# Web Scrapping and Introductory Data Analysis"
   ]
  },
  {
   "cell_type": "markdown",
   "id": "050c3eb4",
   "metadata": {},
   "source": [
    "In this notebook, we will become familiar with the basics of web scraping and data analysis. We will be using the `selenium` and `BeautifulSoup` libraries to scrape data from a website and then use `pandas` to perform some basic data analysis.\n",
    "We will be scraping data using `selenium` from the website [Etherscan.io](https://etherscan.io/), which is a block explorer for the Ethereum blockchain, to get the data and then use `BeautifulSoup` to parse the data and `pandas` to perform some basic data analysis."
   ]
  },
  {
   "cell_type": "markdown",
   "id": "2ecfbb4b0c704e67",
   "metadata": {
    "collapsed": false
   },
   "source": [
    "We begin by setting up our Python environment and installing the necessary libraries. Then, proceed with the web scraping task, ensuring that we handle any potential issues such as rate limiting. Once we have the data, we will move on to the data sampling and statistical analysis tasks. "
   ]
  },
  {
   "cell_type": "markdown",
   "id": "87298846",
   "metadata": {},
   "source": [
    "## Setting up the Environment "
   ]
  },
  {
   "cell_type": "code",
   "execution_count": 5,
   "id": "63fe50de",
   "metadata": {},
   "outputs": [
    {
     "name": "stdout",
     "output_type": "stream",
     "text": [
      "python dll\n",
      "kernel32\n",
      "shell32\n",
      "kernel32\n",
      "Defaulting to user installation because normal site-packages is not writeable\n",
      "Requirement already satisfied: selenium in c:\\users\\emertat\\appdata\\roaming\\python\\python38\\site-packages (4.18.1)\n",
      "Requirement already satisfied: urllib3[socks]<3,>=1.26 in c:\\users\\emertat\\appdata\\roaming\\python\\python38\\site-packages (from selenium) (1.26.12)\n",
      "Requirement already satisfied: trio~=0.17 in c:\\users\\emertat\\appdata\\roaming\\python\\python38\\site-packages (from selenium) (0.22.0)\n",
      "Requirement already satisfied: trio-websocket~=0.9 in c:\\users\\emertat\\appdata\\roaming\\python\\python38\\site-packages (from selenium) (0.11.1)\n",
      "Requirement already satisfied: certifi>=2021.10.8 in c:\\users\\emertat\\appdata\\roaming\\python\\python38\\site-packages (from selenium) (2022.9.24)\n",
      "Requirement already satisfied: typing_extensions>=4.9.0 in c:\\users\\emertat\\appdata\\roaming\\python\\python38\\site-packages (from selenium) (4.10.0)\n",
      "Requirement already satisfied: attrs>=19.2.0 in c:\\users\\emertat\\appdata\\roaming\\python\\python38\\site-packages (from trio~=0.17->selenium) (22.1.0)\n",
      "Requirement already satisfied: sortedcontainers in c:\\users\\emertat\\appdata\\roaming\\python\\python38\\site-packages (from trio~=0.17->selenium) (2.4.0)\n",
      "Requirement already satisfied: async-generator>=1.9 in c:\\users\\emertat\\appdata\\roaming\\python\\python38\\site-packages (from trio~=0.17->selenium) (1.10)\n",
      "Requirement already satisfied: idna in c:\\users\\emertat\\appdata\\roaming\\python\\python38\\site-packages (from trio~=0.17->selenium) (3.4)\n",
      "Requirement already satisfied: outcome in c:\\users\\emertat\\appdata\\roaming\\python\\python38\\site-packages (from trio~=0.17->selenium) (1.2.0)\n",
      "Requirement already satisfied: sniffio in c:\\users\\emertat\\appdata\\roaming\\python\\python38\\site-packages (from trio~=0.17->selenium) (1.3.0)\n",
      "Requirement already satisfied: cffi>=1.14 in c:\\users\\emertat\\appdata\\roaming\\python\\python38\\site-packages (from trio~=0.17->selenium) (1.15.1)\n",
      "Requirement already satisfied: exceptiongroup>=1.0.0rc9 in c:\\users\\emertat\\appdata\\roaming\\python\\python38\\site-packages (from trio~=0.17->selenium) (1.0.0rc9)\n",
      "Requirement already satisfied: wsproto>=0.14 in c:\\users\\emertat\\appdata\\roaming\\python\\python38\\site-packages (from trio-websocket~=0.9->selenium) (1.2.0)\n",
      "Requirement already satisfied: PySocks!=1.5.7,<2.0,>=1.5.6 in c:\\users\\emertat\\appdata\\roaming\\python\\python38\\site-packages (from urllib3[socks]<3,>=1.26->selenium) (1.7.1)\n",
      "Requirement already satisfied: pycparser in c:\\users\\emertat\\appdata\\roaming\\python\\python38\\site-packages (from cffi>=1.14->trio~=0.17->selenium) (2.21)\n",
      "Requirement already satisfied: h11<1,>=0.9.0 in c:\\users\\emertat\\appdata\\roaming\\python\\python38\\site-packages (from wsproto>=0.14->trio-websocket~=0.9->selenium) (0.14.0)\n"
     ]
    },
    {
     "name": "stderr",
     "output_type": "stream",
     "text": [
      "\n",
      "[notice] A new release of pip is available: 23.1.2 -> 24.0\n",
      "[notice] To update, run: python.exe -m pip install --upgrade pip\n"
     ]
    },
    {
     "name": "stdout",
     "output_type": "stream",
     "text": [
      "python dll\n",
      "kernel32\n",
      "shell32\n",
      "kernel32\n",
      "Defaulting to user installation because normal site-packages is not writeable\n",
      "Requirement already satisfied: beautifulsoup4 in c:\\users\\emertat\\appdata\\roaming\\python\\python38\\site-packages (4.11.1)\n",
      "Requirement already satisfied: soupsieve>1.2 in c:\\users\\emertat\\appdata\\roaming\\python\\python38\\site-packages (from beautifulsoup4) (2.3.2.post1)\n"
     ]
    },
    {
     "name": "stderr",
     "output_type": "stream",
     "text": [
      "\n",
      "[notice] A new release of pip is available: 23.1.2 -> 24.0\n",
      "[notice] To update, run: python.exe -m pip install --upgrade pip\n"
     ]
    },
    {
     "name": "stdout",
     "output_type": "stream",
     "text": [
      "python dll\n",
      "kernel32\n",
      "shell32\n",
      "kernel32\n",
      "Defaulting to user installation because normal site-packages is not writeable\n",
      "Requirement already satisfied: numpy in c:\\users\\emertat\\appdata\\roaming\\python\\python38\\site-packages (1.21.2)\n"
     ]
    },
    {
     "name": "stderr",
     "output_type": "stream",
     "text": [
      "\n",
      "[notice] A new release of pip is available: 23.1.2 -> 24.0\n",
      "[notice] To update, run: python.exe -m pip install --upgrade pip\n"
     ]
    },
    {
     "name": "stdout",
     "output_type": "stream",
     "text": [
      "python dll\n",
      "kernel32\n",
      "shell32\n",
      "kernel32\n",
      "Defaulting to user installation because normal site-packages is not writeable\n",
      "Requirement already satisfied: pandas in c:\\users\\emertat\\appdata\\roaming\\python\\python38\\site-packages (1.5.0)\n",
      "Requirement already satisfied: python-dateutil>=2.8.1 in c:\\users\\emertat\\appdata\\roaming\\python\\python38\\site-packages (from pandas) (2.8.2)\n",
      "Requirement already satisfied: pytz>=2020.1 in c:\\users\\emertat\\appdata\\roaming\\python\\python38\\site-packages (from pandas) (2022.4)\n",
      "Requirement already satisfied: numpy>=1.20.3 in c:\\users\\emertat\\appdata\\roaming\\python\\python38\\site-packages (from pandas) (1.21.2)\n",
      "Requirement already satisfied: six>=1.5 in c:\\users\\emertat\\appdata\\roaming\\python\\python38\\site-packages (from python-dateutil>=2.8.1->pandas) (1.16.0)\n"
     ]
    },
    {
     "name": "stderr",
     "output_type": "stream",
     "text": [
      "\n",
      "[notice] A new release of pip is available: 23.1.2 -> 24.0\n",
      "[notice] To update, run: python.exe -m pip install --upgrade pip\n"
     ]
    },
    {
     "name": "stdout",
     "output_type": "stream",
     "text": [
      "python dll\n",
      "kernel32\n",
      "shell32\n",
      "kernel32\n",
      "Defaulting to user installation because normal site-packages is not writeable\n",
      "Requirement already satisfied: seaborn in c:\\users\\emertat\\appdata\\roaming\\python\\python38\\site-packages (0.12.2)\n",
      "Requirement already satisfied: numpy!=1.24.0,>=1.17 in c:\\users\\emertat\\appdata\\roaming\\python\\python38\\site-packages (from seaborn) (1.21.2)\n",
      "Requirement already satisfied: pandas>=0.25 in c:\\users\\emertat\\appdata\\roaming\\python\\python38\\site-packages (from seaborn) (1.5.0)\n",
      "Requirement already satisfied: matplotlib!=3.6.1,>=3.1 in c:\\users\\emertat\\appdata\\roaming\\python\\python38\\site-packages (from seaborn) (3.5.2)\n",
      "Requirement already satisfied: cycler>=0.10 in c:\\users\\emertat\\appdata\\roaming\\python\\python38\\site-packages (from matplotlib!=3.6.1,>=3.1->seaborn) (0.11.0)\n",
      "Requirement already satisfied: fonttools>=4.22.0 in c:\\users\\emertat\\appdata\\roaming\\python\\python38\\site-packages (from matplotlib!=3.6.1,>=3.1->seaborn) (4.33.3)\n",
      "Requirement already satisfied: kiwisolver>=1.0.1 in c:\\users\\emertat\\appdata\\roaming\\python\\python38\\site-packages (from matplotlib!=3.6.1,>=3.1->seaborn) (1.4.2)\n",
      "Requirement already satisfied: packaging>=20.0 in c:\\users\\emertat\\appdata\\roaming\\python\\python38\\site-packages (from matplotlib!=3.6.1,>=3.1->seaborn) (21.3)\n",
      "Requirement already satisfied: pillow>=6.2.0 in c:\\users\\emertat\\appdata\\roaming\\python\\python38\\site-packages (from matplotlib!=3.6.1,>=3.1->seaborn) (9.1.1)\n",
      "Requirement already satisfied: pyparsing>=2.2.1 in c:\\users\\emertat\\appdata\\roaming\\python\\python38\\site-packages (from matplotlib!=3.6.1,>=3.1->seaborn) (3.0.9)\n",
      "Requirement already satisfied: python-dateutil>=2.7 in c:\\users\\emertat\\appdata\\roaming\\python\\python38\\site-packages (from matplotlib!=3.6.1,>=3.1->seaborn) (2.8.2)\n",
      "Requirement already satisfied: pytz>=2020.1 in c:\\users\\emertat\\appdata\\roaming\\python\\python38\\site-packages (from pandas>=0.25->seaborn) (2022.4)\n",
      "Requirement already satisfied: six>=1.5 in c:\\users\\emertat\\appdata\\roaming\\python\\python38\\site-packages (from python-dateutil>=2.7->matplotlib!=3.6.1,>=3.1->seaborn) (1.16.0)\n"
     ]
    },
    {
     "name": "stderr",
     "output_type": "stream",
     "text": [
      "\n",
      "[notice] A new release of pip is available: 23.1.2 -> 24.0\n",
      "[notice] To update, run: python.exe -m pip install --upgrade pip\n"
     ]
    },
    {
     "name": "stdout",
     "output_type": "stream",
     "text": [
      "python dll\n",
      "kernel32\n",
      "shell32\n",
      "kernel32\n",
      "Defaulting to user installation because normal site-packages is not writeable\n",
      "Requirement already satisfied: matplotlib in c:\\users\\emertat\\appdata\\roaming\\python\\python38\\site-packages (3.5.2)\n",
      "Requirement already satisfied: cycler>=0.10 in c:\\users\\emertat\\appdata\\roaming\\python\\python38\\site-packages (from matplotlib) (0.11.0)\n",
      "Requirement already satisfied: fonttools>=4.22.0 in c:\\users\\emertat\\appdata\\roaming\\python\\python38\\site-packages (from matplotlib) (4.33.3)\n",
      "Requirement already satisfied: kiwisolver>=1.0.1 in c:\\users\\emertat\\appdata\\roaming\\python\\python38\\site-packages (from matplotlib) (1.4.2)\n",
      "Requirement already satisfied: numpy>=1.17 in c:\\users\\emertat\\appdata\\roaming\\python\\python38\\site-packages (from matplotlib) (1.21.2)\n",
      "Requirement already satisfied: packaging>=20.0 in c:\\users\\emertat\\appdata\\roaming\\python\\python38\\site-packages (from matplotlib) (21.3)\n",
      "Requirement already satisfied: pillow>=6.2.0 in c:\\users\\emertat\\appdata\\roaming\\python\\python38\\site-packages (from matplotlib) (9.1.1)\n",
      "Requirement already satisfied: pyparsing>=2.2.1 in c:\\users\\emertat\\appdata\\roaming\\python\\python38\\site-packages (from matplotlib) (3.0.9)\n",
      "Requirement already satisfied: python-dateutil>=2.7 in c:\\users\\emertat\\appdata\\roaming\\python\\python38\\site-packages (from matplotlib) (2.8.2)\n",
      "Requirement already satisfied: six>=1.5 in c:\\users\\emertat\\appdata\\roaming\\python\\python38\\site-packages (from python-dateutil>=2.7->matplotlib) (1.16.0)\n"
     ]
    },
    {
     "name": "stderr",
     "output_type": "stream",
     "text": [
      "\n",
      "[notice] A new release of pip is available: 23.1.2 -> 24.0\n",
      "[notice] To update, run: python.exe -m pip install --upgrade pip\n"
     ]
    }
   ],
   "source": [
    "!pip install selenium\n",
    "!pip install beautifulsoup4\n",
    "!pip install numpy\n",
    "!pip install pandas\n",
    "!pip install seaborn\n",
    "!pip install matplotlib"
   ]
  },
  {
   "cell_type": "code",
   "execution_count": 201,
   "id": "59e57561",
   "metadata": {},
   "outputs": [],
   "source": [
    "import numpy as np\n",
    "import pandas as pd\n",
    "import matplotlib.pyplot as plt\n",
    "import seaborn as sns\n",
    "import os\n",
    "import sys\n",
    "import time\n",
    "from selenium import webdriver\n",
    "from selenium.webdriver.common.keys import Keys\n",
    "from bs4 import BeautifulSoup\n",
    "from scipy.stats import norm"
   ]
  },
  {
   "cell_type": "markdown",
   "id": "2b646c46",
   "metadata": {},
   "source": [
    "## Data Collection"
   ]
  },
  {
   "cell_type": "markdown",
   "id": "927b2c46",
   "metadata": {},
   "source": [
    "In this section, we will use web scraping to gather transaction data from the Ethereum blockchain using the Etherscan block explorer. Our objective is to collect transactions from the **last 10 blocks** on Ethereum.\n",
    "\n",
    "To accomplish this task, we will employ web scraping techniques to extract the transaction data from the Etherscan website. The URL we will be targeting for our data collection is [https://etherscan.io/txs](https://etherscan.io/txs)\n"
   ]
  },
  {
   "cell_type": "markdown",
   "id": "23a78283",
   "metadata": {},
   "source": [
    "### Steps\n",
    "\n",
    "1. **Navigate to the URL**: Use Selenium to open the Etherscan transactions page in a browser.\n",
    "\n",
    "2. **Locate the Transaction Data**: Identify the HTML elements that contain the transaction data for the specified block range.\n",
    "\n",
    "3. **Extract the Data**: Write a script to extract the transaction details e.g. Hash, Method, Block, etc.\n",
    "\n",
    "4. **Handle Pagination**: If the transactions span multiple pages, implement pagination handling to navigate through the pages and collect all relevant transaction data.\n",
    "\n",
    "5. **Store the Data**: Save the extracted transaction data into a structured format, such as a CSV file or a pandas DataFrame, for further analysis."
   ]
  },
  {
   "cell_type": "code",
   "execution_count": 2,
   "id": "35f30aaa",
   "metadata": {},
   "outputs": [],
   "source": [
    "URL = 'https://etherscan.io/txs'\n",
    "LOAD_TIME = 0.5\n",
    "LAST_BLOCK = None\n",
    "NUM_BLOCKS = 10\n",
    "raw_data = []"
   ]
  },
  {
   "cell_type": "code",
   "execution_count": 10,
   "id": "aae2d594",
   "metadata": {},
   "outputs": [],
   "source": [
    "driver = webdriver.Chrome()\n",
    "driver.get(URL)"
   ]
  },
  {
   "cell_type": "code",
   "execution_count": 11,
   "id": "b22a003b",
   "metadata": {},
   "outputs": [],
   "source": [
    "# accept cookies\n",
    "time.sleep(LOAD_TIME)\n",
    "driver.find_element('xpath', '//*[@id=\"btnCookie\"]').click()"
   ]
  },
  {
   "cell_type": "code",
   "execution_count": 12,
   "id": "aeae0126",
   "metadata": {},
   "outputs": [],
   "source": [
    "# scroll to the bottom of the page, so that the dropdown menu is visible\n",
    "time.sleep(LOAD_TIME)\n",
    "driver.execute_script(\"window.scrollTo(0, document.body.scrollHeight);\")\n",
    "time.sleep(LOAD_TIME)\n",
    "driver.execute_script(\"window.scrollTo(0, document.body.scrollHeight);\")"
   ]
  },
  {
   "cell_type": "code",
   "execution_count": 14,
   "id": "a49b2659",
   "metadata": {},
   "outputs": [],
   "source": [
    "# make each page show 100 records instead of 50\n",
    "time.sleep(LOAD_TIME)\n",
    "driver.find_element('xpath', '//*[@id=\"ContentPlaceHolder1_ddlRecordsPerPage\"]').click()\n",
    "driver.find_element('xpath', '//*[@id=\"ContentPlaceHolder1_ddlRecordsPerPage\"]/option[4]').click()"
   ]
  },
  {
   "cell_type": "code",
   "execution_count": 15,
   "metadata": {},
   "outputs": [
    {
     "name": "stdout",
     "output_type": "stream",
     "text": [
      "Message: element click intercepted: Element is not clickable at point (1361, -2108)\n",
      "  (Session info: chrome=122.0.6261.95)\n",
      "Stacktrace:\n",
      "\tGetHandleVerifier [0x00007FF7F64CAD22+56930]\n",
      "\t(No symbol) [0x00007FF7F643F622]\n",
      "\t(No symbol) [0x00007FF7F62F42E5]\n",
      "\t(No symbol) [0x00007FF7F6340A80]\n",
      "\t(No symbol) [0x00007FF7F633E8AB]\n",
      "\t(No symbol) [0x00007FF7F633C0B4]\n",
      "\t(No symbol) [0x00007FF7F633AE45]\n",
      "\t(No symbol) [0x00007FF7F632F798]\n",
      "\t(No symbol) [0x00007FF7F635BC9A]\n",
      "\t(No symbol) [0x00007FF7F632F09A]\n",
      "\t(No symbol) [0x00007FF7F635BEB0]\n",
      "\t(No symbol) [0x00007FF7F63781E2]\n",
      "\t(No symbol) [0x00007FF7F635BA43]\n",
      "\t(No symbol) [0x00007FF7F632D438]\n",
      "\t(No symbol) [0x00007FF7F632E4D1]\n",
      "\tGetHandleVerifier [0x00007FF7F6846AAD+3709933]\n",
      "\tGetHandleVerifier [0x00007FF7F689FFED+4075821]\n",
      "\tGetHandleVerifier [0x00007FF7F689817F+4043455]\n",
      "\tGetHandleVerifier [0x00007FF7F6569756+706710]\n",
      "\t(No symbol) [0x00007FF7F644B8FF]\n",
      "\t(No symbol) [0x00007FF7F6446AE4]\n",
      "\t(No symbol) [0x00007FF7F6446C3C]\n",
      "\t(No symbol) [0x00007FF7F64368F4]\n",
      "\tBaseThreadInitThunk [0x00007FFC0D1D7344+20]\n",
      "\tRtlUserThreadStart [0x00007FFC0D4226B1+33]\n",
      "\n",
      "Message: element click intercepted: Element is not clickable at point (1361, -236)\n",
      "  (Session info: chrome=122.0.6261.95)\n",
      "Stacktrace:\n",
      "\tGetHandleVerifier [0x00007FF7F64CAD22+56930]\n",
      "\t(No symbol) [0x00007FF7F643F622]\n",
      "\t(No symbol) [0x00007FF7F62F42E5]\n",
      "\t(No symbol) [0x00007FF7F6340A80]\n",
      "\t(No symbol) [0x00007FF7F633E8AB]\n",
      "\t(No symbol) [0x00007FF7F633C0B4]\n",
      "\t(No symbol) [0x00007FF7F633AE45]\n",
      "\t(No symbol) [0x00007FF7F632F798]\n",
      "\t(No symbol) [0x00007FF7F635BC9A]\n",
      "\t(No symbol) [0x00007FF7F632F09A]\n",
      "\t(No symbol) [0x00007FF7F635BEB0]\n",
      "\t(No symbol) [0x00007FF7F63781E2]\n",
      "\t(No symbol) [0x00007FF7F635BA43]\n",
      "\t(No symbol) [0x00007FF7F632D438]\n",
      "\t(No symbol) [0x00007FF7F632E4D1]\n",
      "\tGetHandleVerifier [0x00007FF7F6846AAD+3709933]\n",
      "\tGetHandleVerifier [0x00007FF7F689FFED+4075821]\n",
      "\tGetHandleVerifier [0x00007FF7F689817F+4043455]\n",
      "\tGetHandleVerifier [0x00007FF7F6569756+706710]\n",
      "\t(No symbol) [0x00007FF7F644B8FF]\n",
      "\t(No symbol) [0x00007FF7F6446AE4]\n",
      "\t(No symbol) [0x00007FF7F6446C3C]\n",
      "\t(No symbol) [0x00007FF7F64368F4]\n",
      "\tBaseThreadInitThunk [0x00007FFC0D1D7344+20]\n",
      "\tRtlUserThreadStart [0x00007FFC0D4226B1+33]\n",
      "\n",
      "Message: element click intercepted: Element <a class=\"page-link px-3\" href=\"txs?ps=100&amp;p=7\" aria-label=\"Next\">...</a> is not clickable at point (1361, 14). Other element would receive the click: <button class=\"btn btn-lg btn-white text-primary content-center\" type=\"button\" id=\"dropdownMenuTopbarSettings\" data-bs-auto-close=\"outside\" data-bs-toggle=\"dropdown\" aria-expanded=\"false\" style=\"width: 2.375rem; height: 2.375rem;\">...</button>\n",
      "  (Session info: chrome=122.0.6261.95)\n",
      "Stacktrace:\n",
      "\tGetHandleVerifier [0x00007FF7F64CAD22+56930]\n",
      "\t(No symbol) [0x00007FF7F643F622]\n",
      "\t(No symbol) [0x00007FF7F62F42E5]\n",
      "\t(No symbol) [0x00007FF7F6340A80]\n",
      "\t(No symbol) [0x00007FF7F633E8AB]\n",
      "\t(No symbol) [0x00007FF7F633C0B4]\n",
      "\t(No symbol) [0x00007FF7F633AE45]\n",
      "\t(No symbol) [0x00007FF7F632F798]\n",
      "\t(No symbol) [0x00007FF7F635BC9A]\n",
      "\t(No symbol) [0x00007FF7F632F09A]\n",
      "\t(No symbol) [0x00007FF7F635BEB0]\n",
      "\t(No symbol) [0x00007FF7F63781E2]\n",
      "\t(No symbol) [0x00007FF7F635BA43]\n",
      "\t(No symbol) [0x00007FF7F632D438]\n",
      "\t(No symbol) [0x00007FF7F632E4D1]\n",
      "\tGetHandleVerifier [0x00007FF7F6846AAD+3709933]\n",
      "\tGetHandleVerifier [0x00007FF7F689FFED+4075821]\n",
      "\tGetHandleVerifier [0x00007FF7F689817F+4043455]\n",
      "\tGetHandleVerifier [0x00007FF7F6569756+706710]\n",
      "\t(No symbol) [0x00007FF7F644B8FF]\n",
      "\t(No symbol) [0x00007FF7F6446AE4]\n",
      "\t(No symbol) [0x00007FF7F6446C3C]\n",
      "\t(No symbol) [0x00007FF7F64368F4]\n",
      "\tBaseThreadInitThunk [0x00007FFC0D1D7344+20]\n",
      "\tRtlUserThreadStart [0x00007FFC0D4226B1+33]\n",
      "\n",
      "Message: element click intercepted: Element <a class=\"page-link px-3\" href=\"txs?ps=100&amp;p=7\" aria-label=\"Next\">...</a> is not clickable at point (1361, 14). Other element would receive the click: <button class=\"btn btn-lg btn-white text-primary content-center\" type=\"button\" id=\"dropdownMenuTopbarSettings\" data-bs-auto-close=\"outside\" data-bs-toggle=\"dropdown\" aria-expanded=\"false\" style=\"width: 2.375rem; height: 2.375rem;\">...</button>\n",
      "  (Session info: chrome=122.0.6261.95)\n",
      "Stacktrace:\n",
      "\tGetHandleVerifier [0x00007FF7F64CAD22+56930]\n",
      "\t(No symbol) [0x00007FF7F643F622]\n",
      "\t(No symbol) [0x00007FF7F62F42E5]\n",
      "\t(No symbol) [0x00007FF7F6340A80]\n",
      "\t(No symbol) [0x00007FF7F633E8AB]\n",
      "\t(No symbol) [0x00007FF7F633C0B4]\n",
      "\t(No symbol) [0x00007FF7F633AE45]\n",
      "\t(No symbol) [0x00007FF7F632F798]\n",
      "\t(No symbol) [0x00007FF7F635BC9A]\n",
      "\t(No symbol) [0x00007FF7F632F09A]\n",
      "\t(No symbol) [0x00007FF7F635BEB0]\n",
      "\t(No symbol) [0x00007FF7F63781E2]\n",
      "\t(No symbol) [0x00007FF7F635BA43]\n",
      "\t(No symbol) [0x00007FF7F632D438]\n",
      "\t(No symbol) [0x00007FF7F632E4D1]\n",
      "\tGetHandleVerifier [0x00007FF7F6846AAD+3709933]\n",
      "\tGetHandleVerifier [0x00007FF7F689FFED+4075821]\n",
      "\tGetHandleVerifier [0x00007FF7F689817F+4043455]\n",
      "\tGetHandleVerifier [0x00007FF7F6569756+706710]\n",
      "\t(No symbol) [0x00007FF7F644B8FF]\n",
      "\t(No symbol) [0x00007FF7F6446AE4]\n",
      "\t(No symbol) [0x00007FF7F6446C3C]\n",
      "\t(No symbol) [0x00007FF7F64368F4]\n",
      "\tBaseThreadInitThunk [0x00007FFC0D1D7344+20]\n",
      "\tRtlUserThreadStart [0x00007FFC0D4226B1+33]\n",
      "\n",
      "Message: element click intercepted: Element <a class=\"page-link px-3\" href=\"txs?ps=100&amp;p=7\" aria-label=\"Next\">...</a> is not clickable at point (1361, 14). Other element would receive the click: <button class=\"btn btn-lg btn-white text-primary content-center\" type=\"button\" id=\"dropdownMenuTopbarSettings\" data-bs-auto-close=\"outside\" data-bs-toggle=\"dropdown\" aria-expanded=\"false\" style=\"width: 2.375rem; height: 2.375rem;\">...</button>\n",
      "  (Session info: chrome=122.0.6261.95)\n",
      "Stacktrace:\n",
      "\tGetHandleVerifier [0x00007FF7F64CAD22+56930]\n",
      "\t(No symbol) [0x00007FF7F643F622]\n",
      "\t(No symbol) [0x00007FF7F62F42E5]\n",
      "\t(No symbol) [0x00007FF7F6340A80]\n",
      "\t(No symbol) [0x00007FF7F633E8AB]\n",
      "\t(No symbol) [0x00007FF7F633C0B4]\n",
      "\t(No symbol) [0x00007FF7F633AE45]\n",
      "\t(No symbol) [0x00007FF7F632F798]\n",
      "\t(No symbol) [0x00007FF7F635BC9A]\n",
      "\t(No symbol) [0x00007FF7F632F09A]\n",
      "\t(No symbol) [0x00007FF7F635BEB0]\n",
      "\t(No symbol) [0x00007FF7F63781E2]\n",
      "\t(No symbol) [0x00007FF7F635BA43]\n",
      "\t(No symbol) [0x00007FF7F632D438]\n",
      "\t(No symbol) [0x00007FF7F632E4D1]\n",
      "\tGetHandleVerifier [0x00007FF7F6846AAD+3709933]\n",
      "\tGetHandleVerifier [0x00007FF7F689FFED+4075821]\n",
      "\tGetHandleVerifier [0x00007FF7F689817F+4043455]\n",
      "\tGetHandleVerifier [0x00007FF7F6569756+706710]\n",
      "\t(No symbol) [0x00007FF7F644B8FF]\n",
      "\t(No symbol) [0x00007FF7F6446AE4]\n",
      "\t(No symbol) [0x00007FF7F6446C3C]\n",
      "\t(No symbol) [0x00007FF7F64368F4]\n",
      "\tBaseThreadInitThunk [0x00007FFC0D1D7344+20]\n",
      "\tRtlUserThreadStart [0x00007FFC0D4226B1+33]\n",
      "\n",
      "Message: element click intercepted: Element <a class=\"page-link px-3\" href=\"txs?ps=100&amp;p=7\" aria-label=\"Next\">...</a> is not clickable at point (1361, 14). Other element would receive the click: <button class=\"btn btn-lg btn-white text-primary content-center\" type=\"button\" id=\"dropdownMenuTopbarSettings\" data-bs-auto-close=\"outside\" data-bs-toggle=\"dropdown\" aria-expanded=\"false\" style=\"width: 2.375rem; height: 2.375rem;\">...</button>\n",
      "  (Session info: chrome=122.0.6261.95)\n",
      "Stacktrace:\n",
      "\tGetHandleVerifier [0x00007FF7F64CAD22+56930]\n",
      "\t(No symbol) [0x00007FF7F643F622]\n",
      "\t(No symbol) [0x00007FF7F62F42E5]\n",
      "\t(No symbol) [0x00007FF7F6340A80]\n",
      "\t(No symbol) [0x00007FF7F633E8AB]\n",
      "\t(No symbol) [0x00007FF7F633C0B4]\n",
      "\t(No symbol) [0x00007FF7F633AE45]\n",
      "\t(No symbol) [0x00007FF7F632F798]\n",
      "\t(No symbol) [0x00007FF7F635BC9A]\n",
      "\t(No symbol) [0x00007FF7F632F09A]\n",
      "\t(No symbol) [0x00007FF7F635BEB0]\n",
      "\t(No symbol) [0x00007FF7F63781E2]\n",
      "\t(No symbol) [0x00007FF7F635BA43]\n",
      "\t(No symbol) [0x00007FF7F632D438]\n",
      "\t(No symbol) [0x00007FF7F632E4D1]\n",
      "\tGetHandleVerifier [0x00007FF7F6846AAD+3709933]\n",
      "\tGetHandleVerifier [0x00007FF7F689FFED+4075821]\n",
      "\tGetHandleVerifier [0x00007FF7F689817F+4043455]\n",
      "\tGetHandleVerifier [0x00007FF7F6569756+706710]\n",
      "\t(No symbol) [0x00007FF7F644B8FF]\n",
      "\t(No symbol) [0x00007FF7F6446AE4]\n",
      "\t(No symbol) [0x00007FF7F6446C3C]\n",
      "\t(No symbol) [0x00007FF7F64368F4]\n",
      "\tBaseThreadInitThunk [0x00007FFC0D1D7344+20]\n",
      "\tRtlUserThreadStart [0x00007FFC0D4226B1+33]\n",
      "\n",
      "Message: element click intercepted: Element <a class=\"page-link px-3\" href=\"txs?ps=100&amp;p=7\" aria-label=\"Next\">...</a> is not clickable at point (1361, 14). Other element would receive the click: <button class=\"btn btn-lg btn-white text-primary content-center\" type=\"button\" id=\"dropdownMenuTopbarSettings\" data-bs-auto-close=\"outside\" data-bs-toggle=\"dropdown\" aria-expanded=\"false\" style=\"width: 2.375rem; height: 2.375rem;\">...</button>\n",
      "  (Session info: chrome=122.0.6261.95)\n",
      "Stacktrace:\n",
      "\tGetHandleVerifier [0x00007FF7F64CAD22+56930]\n",
      "\t(No symbol) [0x00007FF7F643F622]\n",
      "\t(No symbol) [0x00007FF7F62F42E5]\n",
      "\t(No symbol) [0x00007FF7F6340A80]\n",
      "\t(No symbol) [0x00007FF7F633E8AB]\n",
      "\t(No symbol) [0x00007FF7F633C0B4]\n",
      "\t(No symbol) [0x00007FF7F633AE45]\n",
      "\t(No symbol) [0x00007FF7F632F798]\n",
      "\t(No symbol) [0x00007FF7F635BC9A]\n",
      "\t(No symbol) [0x00007FF7F632F09A]\n",
      "\t(No symbol) [0x00007FF7F635BEB0]\n",
      "\t(No symbol) [0x00007FF7F63781E2]\n",
      "\t(No symbol) [0x00007FF7F635BA43]\n",
      "\t(No symbol) [0x00007FF7F632D438]\n",
      "\t(No symbol) [0x00007FF7F632E4D1]\n",
      "\tGetHandleVerifier [0x00007FF7F6846AAD+3709933]\n",
      "\tGetHandleVerifier [0x00007FF7F689FFED+4075821]\n",
      "\tGetHandleVerifier [0x00007FF7F689817F+4043455]\n",
      "\tGetHandleVerifier [0x00007FF7F6569756+706710]\n",
      "\t(No symbol) [0x00007FF7F644B8FF]\n",
      "\t(No symbol) [0x00007FF7F6446AE4]\n",
      "\t(No symbol) [0x00007FF7F6446C3C]\n",
      "\t(No symbol) [0x00007FF7F64368F4]\n",
      "\tBaseThreadInitThunk [0x00007FFC0D1D7344+20]\n",
      "\tRtlUserThreadStart [0x00007FFC0D4226B1+33]\n",
      "\n",
      "Message: element click intercepted: Element <a class=\"page-link px-3\" href=\"txs?ps=100&amp;p=7\" aria-label=\"Next\">...</a> is not clickable at point (1361, 14). Other element would receive the click: <button class=\"btn btn-lg btn-white text-primary content-center\" type=\"button\" id=\"dropdownMenuTopbarSettings\" data-bs-auto-close=\"outside\" data-bs-toggle=\"dropdown\" aria-expanded=\"false\" style=\"width: 2.375rem; height: 2.375rem;\">...</button>\n",
      "  (Session info: chrome=122.0.6261.95)\n",
      "Stacktrace:\n",
      "\tGetHandleVerifier [0x00007FF7F64CAD22+56930]\n",
      "\t(No symbol) [0x00007FF7F643F622]\n",
      "\t(No symbol) [0x00007FF7F62F42E5]\n",
      "\t(No symbol) [0x00007FF7F6340A80]\n",
      "\t(No symbol) [0x00007FF7F633E8AB]\n",
      "\t(No symbol) [0x00007FF7F633C0B4]\n",
      "\t(No symbol) [0x00007FF7F633AE45]\n",
      "\t(No symbol) [0x00007FF7F632F798]\n",
      "\t(No symbol) [0x00007FF7F635BC9A]\n",
      "\t(No symbol) [0x00007FF7F632F09A]\n",
      "\t(No symbol) [0x00007FF7F635BEB0]\n",
      "\t(No symbol) [0x00007FF7F63781E2]\n",
      "\t(No symbol) [0x00007FF7F635BA43]\n",
      "\t(No symbol) [0x00007FF7F632D438]\n",
      "\t(No symbol) [0x00007FF7F632E4D1]\n",
      "\tGetHandleVerifier [0x00007FF7F6846AAD+3709933]\n",
      "\tGetHandleVerifier [0x00007FF7F689FFED+4075821]\n",
      "\tGetHandleVerifier [0x00007FF7F689817F+4043455]\n",
      "\tGetHandleVerifier [0x00007FF7F6569756+706710]\n",
      "\t(No symbol) [0x00007FF7F644B8FF]\n",
      "\t(No symbol) [0x00007FF7F6446AE4]\n",
      "\t(No symbol) [0x00007FF7F6446C3C]\n",
      "\t(No symbol) [0x00007FF7F64368F4]\n",
      "\tBaseThreadInitThunk [0x00007FFC0D1D7344+20]\n",
      "\tRtlUserThreadStart [0x00007FFC0D4226B1+33]\n",
      "\n",
      "Message: element click intercepted: Element <a class=\"page-link px-3\" href=\"txs?ps=100&amp;p=7\" aria-label=\"Next\">...</a> is not clickable at point (1361, 14). Other element would receive the click: <button class=\"btn btn-lg btn-white text-primary content-center\" type=\"button\" id=\"dropdownMenuTopbarSettings\" data-bs-auto-close=\"outside\" data-bs-toggle=\"dropdown\" aria-expanded=\"false\" style=\"width: 2.375rem; height: 2.375rem;\">...</button>\n",
      "  (Session info: chrome=122.0.6261.95)\n",
      "Stacktrace:\n",
      "\tGetHandleVerifier [0x00007FF7F64CAD22+56930]\n",
      "\t(No symbol) [0x00007FF7F643F622]\n",
      "\t(No symbol) [0x00007FF7F62F42E5]\n",
      "\t(No symbol) [0x00007FF7F6340A80]\n",
      "\t(No symbol) [0x00007FF7F633E8AB]\n",
      "\t(No symbol) [0x00007FF7F633C0B4]\n",
      "\t(No symbol) [0x00007FF7F633AE45]\n",
      "\t(No symbol) [0x00007FF7F632F798]\n",
      "\t(No symbol) [0x00007FF7F635BC9A]\n",
      "\t(No symbol) [0x00007FF7F632F09A]\n",
      "\t(No symbol) [0x00007FF7F635BEB0]\n",
      "\t(No symbol) [0x00007FF7F63781E2]\n",
      "\t(No symbol) [0x00007FF7F635BA43]\n",
      "\t(No symbol) [0x00007FF7F632D438]\n",
      "\t(No symbol) [0x00007FF7F632E4D1]\n",
      "\tGetHandleVerifier [0x00007FF7F6846AAD+3709933]\n",
      "\tGetHandleVerifier [0x00007FF7F689FFED+4075821]\n",
      "\tGetHandleVerifier [0x00007FF7F689817F+4043455]\n",
      "\tGetHandleVerifier [0x00007FF7F6569756+706710]\n",
      "\t(No symbol) [0x00007FF7F644B8FF]\n",
      "\t(No symbol) [0x00007FF7F6446AE4]\n",
      "\t(No symbol) [0x00007FF7F6446C3C]\n",
      "\t(No symbol) [0x00007FF7F64368F4]\n",
      "\tBaseThreadInitThunk [0x00007FFC0D1D7344+20]\n",
      "\tRtlUserThreadStart [0x00007FFC0D4226B1+33]\n",
      "\n",
      "Message: element click intercepted: Element <a class=\"page-link px-3\" href=\"txs?ps=100&amp;p=7\" aria-label=\"Next\">...</a> is not clickable at point (1361, 14). Other element would receive the click: <button class=\"btn btn-lg btn-white text-primary content-center\" type=\"button\" id=\"dropdownMenuTopbarSettings\" data-bs-auto-close=\"outside\" data-bs-toggle=\"dropdown\" aria-expanded=\"false\" style=\"width: 2.375rem; height: 2.375rem;\">...</button>\n",
      "  (Session info: chrome=122.0.6261.95)\n",
      "Stacktrace:\n",
      "\tGetHandleVerifier [0x00007FF7F64CAD22+56930]\n",
      "\t(No symbol) [0x00007FF7F643F622]\n",
      "\t(No symbol) [0x00007FF7F62F42E5]\n",
      "\t(No symbol) [0x00007FF7F6340A80]\n",
      "\t(No symbol) [0x00007FF7F633E8AB]\n",
      "\t(No symbol) [0x00007FF7F633C0B4]\n",
      "\t(No symbol) [0x00007FF7F633AE45]\n",
      "\t(No symbol) [0x00007FF7F632F798]\n",
      "\t(No symbol) [0x00007FF7F635BC9A]\n",
      "\t(No symbol) [0x00007FF7F632F09A]\n",
      "\t(No symbol) [0x00007FF7F635BEB0]\n",
      "\t(No symbol) [0x00007FF7F63781E2]\n",
      "\t(No symbol) [0x00007FF7F635BA43]\n",
      "\t(No symbol) [0x00007FF7F632D438]\n",
      "\t(No symbol) [0x00007FF7F632E4D1]\n",
      "\tGetHandleVerifier [0x00007FF7F6846AAD+3709933]\n",
      "\tGetHandleVerifier [0x00007FF7F689FFED+4075821]\n",
      "\tGetHandleVerifier [0x00007FF7F689817F+4043455]\n",
      "\tGetHandleVerifier [0x00007FF7F6569756+706710]\n",
      "\t(No symbol) [0x00007FF7F644B8FF]\n",
      "\t(No symbol) [0x00007FF7F6446AE4]\n",
      "\t(No symbol) [0x00007FF7F6446C3C]\n",
      "\t(No symbol) [0x00007FF7F64368F4]\n",
      "\tBaseThreadInitThunk [0x00007FFC0D1D7344+20]\n",
      "\tRtlUserThreadStart [0x00007FFC0D4226B1+33]\n",
      "\n",
      "Message: element click intercepted: Element <a class=\"page-link px-3\" href=\"txs?ps=100&amp;p=7\" aria-label=\"Next\">...</a> is not clickable at point (1361, 14). Other element would receive the click: <button class=\"btn btn-lg btn-white text-primary content-center\" type=\"button\" id=\"dropdownMenuTopbarSettings\" data-bs-auto-close=\"outside\" data-bs-toggle=\"dropdown\" aria-expanded=\"false\" style=\"width: 2.375rem; height: 2.375rem;\">...</button>\n",
      "  (Session info: chrome=122.0.6261.95)\n",
      "Stacktrace:\n",
      "\tGetHandleVerifier [0x00007FF7F64CAD22+56930]\n",
      "\t(No symbol) [0x00007FF7F643F622]\n",
      "\t(No symbol) [0x00007FF7F62F42E5]\n",
      "\t(No symbol) [0x00007FF7F6340A80]\n",
      "\t(No symbol) [0x00007FF7F633E8AB]\n",
      "\t(No symbol) [0x00007FF7F633C0B4]\n",
      "\t(No symbol) [0x00007FF7F633AE45]\n",
      "\t(No symbol) [0x00007FF7F632F798]\n",
      "\t(No symbol) [0x00007FF7F635BC9A]\n",
      "\t(No symbol) [0x00007FF7F632F09A]\n",
      "\t(No symbol) [0x00007FF7F635BEB0]\n",
      "\t(No symbol) [0x00007FF7F63781E2]\n",
      "\t(No symbol) [0x00007FF7F635BA43]\n",
      "\t(No symbol) [0x00007FF7F632D438]\n",
      "\t(No symbol) [0x00007FF7F632E4D1]\n",
      "\tGetHandleVerifier [0x00007FF7F6846AAD+3709933]\n",
      "\tGetHandleVerifier [0x00007FF7F689FFED+4075821]\n",
      "\tGetHandleVerifier [0x00007FF7F689817F+4043455]\n",
      "\tGetHandleVerifier [0x00007FF7F6569756+706710]\n",
      "\t(No symbol) [0x00007FF7F644B8FF]\n",
      "\t(No symbol) [0x00007FF7F6446AE4]\n",
      "\t(No symbol) [0x00007FF7F6446C3C]\n",
      "\t(No symbol) [0x00007FF7F64368F4]\n",
      "\tBaseThreadInitThunk [0x00007FFC0D1D7344+20]\n",
      "\tRtlUserThreadStart [0x00007FFC0D4226B1+33]\n",
      "\n",
      "Message: element click intercepted: Element <a class=\"page-link px-3\" href=\"txs?ps=100&amp;p=7\" aria-label=\"Next\">...</a> is not clickable at point (1361, 14). Other element would receive the click: <button class=\"btn btn-lg btn-white text-primary content-center\" type=\"button\" id=\"dropdownMenuTopbarSettings\" data-bs-auto-close=\"outside\" data-bs-toggle=\"dropdown\" aria-expanded=\"false\" style=\"width: 2.375rem; height: 2.375rem;\">...</button>\n",
      "  (Session info: chrome=122.0.6261.95)\n",
      "Stacktrace:\n",
      "\tGetHandleVerifier [0x00007FF7F64CAD22+56930]\n",
      "\t(No symbol) [0x00007FF7F643F622]\n",
      "\t(No symbol) [0x00007FF7F62F42E5]\n",
      "\t(No symbol) [0x00007FF7F6340A80]\n",
      "\t(No symbol) [0x00007FF7F633E8AB]\n",
      "\t(No symbol) [0x00007FF7F633C0B4]\n",
      "\t(No symbol) [0x00007FF7F633AE45]\n",
      "\t(No symbol) [0x00007FF7F632F798]\n",
      "\t(No symbol) [0x00007FF7F635BC9A]\n",
      "\t(No symbol) [0x00007FF7F632F09A]\n",
      "\t(No symbol) [0x00007FF7F635BEB0]\n",
      "\t(No symbol) [0x00007FF7F63781E2]\n",
      "\t(No symbol) [0x00007FF7F635BA43]\n",
      "\t(No symbol) [0x00007FF7F632D438]\n",
      "\t(No symbol) [0x00007FF7F632E4D1]\n",
      "\tGetHandleVerifier [0x00007FF7F6846AAD+3709933]\n",
      "\tGetHandleVerifier [0x00007FF7F689FFED+4075821]\n",
      "\tGetHandleVerifier [0x00007FF7F689817F+4043455]\n",
      "\tGetHandleVerifier [0x00007FF7F6569756+706710]\n",
      "\t(No symbol) [0x00007FF7F644B8FF]\n",
      "\t(No symbol) [0x00007FF7F6446AE4]\n",
      "\t(No symbol) [0x00007FF7F6446C3C]\n",
      "\t(No symbol) [0x00007FF7F64368F4]\n",
      "\tBaseThreadInitThunk [0x00007FFC0D1D7344+20]\n",
      "\tRtlUserThreadStart [0x00007FFC0D4226B1+33]\n",
      "\n",
      "Message: element click intercepted: Element <a class=\"page-link px-3\" href=\"txs?ps=100&amp;p=7\" aria-label=\"Next\">...</a> is not clickable at point (1361, 14). Other element would receive the click: <button class=\"btn btn-lg btn-white text-primary content-center\" type=\"button\" id=\"dropdownMenuTopbarSettings\" data-bs-auto-close=\"outside\" data-bs-toggle=\"dropdown\" aria-expanded=\"false\" style=\"width: 2.375rem; height: 2.375rem;\">...</button>\n",
      "  (Session info: chrome=122.0.6261.95)\n",
      "Stacktrace:\n",
      "\tGetHandleVerifier [0x00007FF7F64CAD22+56930]\n",
      "\t(No symbol) [0x00007FF7F643F622]\n",
      "\t(No symbol) [0x00007FF7F62F42E5]\n",
      "\t(No symbol) [0x00007FF7F6340A80]\n",
      "\t(No symbol) [0x00007FF7F633E8AB]\n",
      "\t(No symbol) [0x00007FF7F633C0B4]\n",
      "\t(No symbol) [0x00007FF7F633AE45]\n",
      "\t(No symbol) [0x00007FF7F632F798]\n",
      "\t(No symbol) [0x00007FF7F635BC9A]\n",
      "\t(No symbol) [0x00007FF7F632F09A]\n",
      "\t(No symbol) [0x00007FF7F635BEB0]\n",
      "\t(No symbol) [0x00007FF7F63781E2]\n",
      "\t(No symbol) [0x00007FF7F635BA43]\n",
      "\t(No symbol) [0x00007FF7F632D438]\n",
      "\t(No symbol) [0x00007FF7F632E4D1]\n",
      "\tGetHandleVerifier [0x00007FF7F6846AAD+3709933]\n",
      "\tGetHandleVerifier [0x00007FF7F689FFED+4075821]\n",
      "\tGetHandleVerifier [0x00007FF7F689817F+4043455]\n",
      "\tGetHandleVerifier [0x00007FF7F6569756+706710]\n",
      "\t(No symbol) [0x00007FF7F644B8FF]\n",
      "\t(No symbol) [0x00007FF7F6446AE4]\n",
      "\t(No symbol) [0x00007FF7F6446C3C]\n",
      "\t(No symbol) [0x00007FF7F64368F4]\n",
      "\tBaseThreadInitThunk [0x00007FFC0D1D7344+20]\n",
      "\tRtlUserThreadStart [0x00007FFC0D4226B1+33]\n",
      "\n",
      "Message: element click intercepted: Element <a class=\"page-link px-3\" href=\"txs?ps=100&amp;p=7\" aria-label=\"Next\">...</a> is not clickable at point (1361, 14). Other element would receive the click: <button class=\"btn btn-lg btn-white text-primary content-center\" type=\"button\" id=\"dropdownMenuTopbarSettings\" data-bs-auto-close=\"outside\" data-bs-toggle=\"dropdown\" aria-expanded=\"false\" style=\"width: 2.375rem; height: 2.375rem;\">...</button>\n",
      "  (Session info: chrome=122.0.6261.95)\n",
      "Stacktrace:\n",
      "\tGetHandleVerifier [0x00007FF7F64CAD22+56930]\n",
      "\t(No symbol) [0x00007FF7F643F622]\n",
      "\t(No symbol) [0x00007FF7F62F42E5]\n",
      "\t(No symbol) [0x00007FF7F6340A80]\n",
      "\t(No symbol) [0x00007FF7F633E8AB]\n",
      "\t(No symbol) [0x00007FF7F633C0B4]\n",
      "\t(No symbol) [0x00007FF7F633AE45]\n",
      "\t(No symbol) [0x00007FF7F632F798]\n",
      "\t(No symbol) [0x00007FF7F635BC9A]\n",
      "\t(No symbol) [0x00007FF7F632F09A]\n",
      "\t(No symbol) [0x00007FF7F635BEB0]\n",
      "\t(No symbol) [0x00007FF7F63781E2]\n",
      "\t(No symbol) [0x00007FF7F635BA43]\n",
      "\t(No symbol) [0x00007FF7F632D438]\n",
      "\t(No symbol) [0x00007FF7F632E4D1]\n",
      "\tGetHandleVerifier [0x00007FF7F6846AAD+3709933]\n",
      "\tGetHandleVerifier [0x00007FF7F689FFED+4075821]\n",
      "\tGetHandleVerifier [0x00007FF7F689817F+4043455]\n",
      "\tGetHandleVerifier [0x00007FF7F6569756+706710]\n",
      "\t(No symbol) [0x00007FF7F644B8FF]\n",
      "\t(No symbol) [0x00007FF7F6446AE4]\n",
      "\t(No symbol) [0x00007FF7F6446C3C]\n",
      "\t(No symbol) [0x00007FF7F64368F4]\n",
      "\tBaseThreadInitThunk [0x00007FFC0D1D7344+20]\n",
      "\tRtlUserThreadStart [0x00007FFC0D4226B1+33]\n",
      "\n",
      "Message: element click intercepted: Element <a class=\"page-link px-3\" href=\"txs?ps=100&amp;p=7\" aria-label=\"Next\">...</a> is not clickable at point (1361, 14). Other element would receive the click: <button class=\"btn btn-lg btn-white text-primary content-center\" type=\"button\" id=\"dropdownMenuTopbarSettings\" data-bs-auto-close=\"outside\" data-bs-toggle=\"dropdown\" aria-expanded=\"false\" style=\"width: 2.375rem; height: 2.375rem;\">...</button>\n",
      "  (Session info: chrome=122.0.6261.95)\n",
      "Stacktrace:\n",
      "\tGetHandleVerifier [0x00007FF7F64CAD22+56930]\n",
      "\t(No symbol) [0x00007FF7F643F622]\n",
      "\t(No symbol) [0x00007FF7F62F42E5]\n",
      "\t(No symbol) [0x00007FF7F6340A80]\n",
      "\t(No symbol) [0x00007FF7F633E8AB]\n",
      "\t(No symbol) [0x00007FF7F633C0B4]\n",
      "\t(No symbol) [0x00007FF7F633AE45]\n",
      "\t(No symbol) [0x00007FF7F632F798]\n",
      "\t(No symbol) [0x00007FF7F635BC9A]\n",
      "\t(No symbol) [0x00007FF7F632F09A]\n",
      "\t(No symbol) [0x00007FF7F635BEB0]\n",
      "\t(No symbol) [0x00007FF7F63781E2]\n",
      "\t(No symbol) [0x00007FF7F635BA43]\n",
      "\t(No symbol) [0x00007FF7F632D438]\n",
      "\t(No symbol) [0x00007FF7F632E4D1]\n",
      "\tGetHandleVerifier [0x00007FF7F6846AAD+3709933]\n",
      "\tGetHandleVerifier [0x00007FF7F689FFED+4075821]\n",
      "\tGetHandleVerifier [0x00007FF7F689817F+4043455]\n",
      "\tGetHandleVerifier [0x00007FF7F6569756+706710]\n",
      "\t(No symbol) [0x00007FF7F644B8FF]\n",
      "\t(No symbol) [0x00007FF7F6446AE4]\n",
      "\t(No symbol) [0x00007FF7F6446C3C]\n",
      "\t(No symbol) [0x00007FF7F64368F4]\n",
      "\tBaseThreadInitThunk [0x00007FFC0D1D7344+20]\n",
      "\tRtlUserThreadStart [0x00007FFC0D4226B1+33]\n",
      "\n",
      "Message: element click intercepted: Element <a class=\"page-link px-3\" href=\"txs?ps=100&amp;p=7\" aria-label=\"Next\">...</a> is not clickable at point (1361, 14). Other element would receive the click: <button class=\"btn btn-lg btn-white text-primary content-center\" type=\"button\" id=\"dropdownMenuTopbarSettings\" data-bs-auto-close=\"outside\" data-bs-toggle=\"dropdown\" aria-expanded=\"false\" style=\"width: 2.375rem; height: 2.375rem;\">...</button>\n",
      "  (Session info: chrome=122.0.6261.95)\n",
      "Stacktrace:\n",
      "\tGetHandleVerifier [0x00007FF7F64CAD22+56930]\n",
      "\t(No symbol) [0x00007FF7F643F622]\n",
      "\t(No symbol) [0x00007FF7F62F42E5]\n",
      "\t(No symbol) [0x00007FF7F6340A80]\n",
      "\t(No symbol) [0x00007FF7F633E8AB]\n",
      "\t(No symbol) [0x00007FF7F633C0B4]\n",
      "\t(No symbol) [0x00007FF7F633AE45]\n",
      "\t(No symbol) [0x00007FF7F632F798]\n",
      "\t(No symbol) [0x00007FF7F635BC9A]\n",
      "\t(No symbol) [0x00007FF7F632F09A]\n",
      "\t(No symbol) [0x00007FF7F635BEB0]\n",
      "\t(No symbol) [0x00007FF7F63781E2]\n",
      "\t(No symbol) [0x00007FF7F635BA43]\n",
      "\t(No symbol) [0x00007FF7F632D438]\n",
      "\t(No symbol) [0x00007FF7F632E4D1]\n",
      "\tGetHandleVerifier [0x00007FF7F6846AAD+3709933]\n",
      "\tGetHandleVerifier [0x00007FF7F689FFED+4075821]\n",
      "\tGetHandleVerifier [0x00007FF7F689817F+4043455]\n",
      "\tGetHandleVerifier [0x00007FF7F6569756+706710]\n",
      "\t(No symbol) [0x00007FF7F644B8FF]\n",
      "\t(No symbol) [0x00007FF7F6446AE4]\n",
      "\t(No symbol) [0x00007FF7F6446C3C]\n",
      "\t(No symbol) [0x00007FF7F64368F4]\n",
      "\tBaseThreadInitThunk [0x00007FFC0D1D7344+20]\n",
      "\tRtlUserThreadStart [0x00007FFC0D4226B1+33]\n",
      "\n",
      "Message: element click intercepted: Element <a class=\"page-link px-3\" href=\"txs?ps=100&amp;p=7\" aria-label=\"Next\">...</a> is not clickable at point (1361, 14). Other element would receive the click: <button class=\"btn btn-lg btn-white text-primary content-center\" type=\"button\" id=\"dropdownMenuTopbarSettings\" data-bs-auto-close=\"outside\" data-bs-toggle=\"dropdown\" aria-expanded=\"false\" style=\"width: 2.375rem; height: 2.375rem;\">...</button>\n",
      "  (Session info: chrome=122.0.6261.95)\n",
      "Stacktrace:\n",
      "\tGetHandleVerifier [0x00007FF7F64CAD22+56930]\n",
      "\t(No symbol) [0x00007FF7F643F622]\n",
      "\t(No symbol) [0x00007FF7F62F42E5]\n",
      "\t(No symbol) [0x00007FF7F6340A80]\n",
      "\t(No symbol) [0x00007FF7F633E8AB]\n",
      "\t(No symbol) [0x00007FF7F633C0B4]\n",
      "\t(No symbol) [0x00007FF7F633AE45]\n",
      "\t(No symbol) [0x00007FF7F632F798]\n",
      "\t(No symbol) [0x00007FF7F635BC9A]\n",
      "\t(No symbol) [0x00007FF7F632F09A]\n",
      "\t(No symbol) [0x00007FF7F635BEB0]\n",
      "\t(No symbol) [0x00007FF7F63781E2]\n",
      "\t(No symbol) [0x00007FF7F635BA43]\n",
      "\t(No symbol) [0x00007FF7F632D438]\n",
      "\t(No symbol) [0x00007FF7F632E4D1]\n",
      "\tGetHandleVerifier [0x00007FF7F6846AAD+3709933]\n",
      "\tGetHandleVerifier [0x00007FF7F689FFED+4075821]\n",
      "\tGetHandleVerifier [0x00007FF7F689817F+4043455]\n",
      "\tGetHandleVerifier [0x00007FF7F6569756+706710]\n",
      "\t(No symbol) [0x00007FF7F644B8FF]\n",
      "\t(No symbol) [0x00007FF7F6446AE4]\n",
      "\t(No symbol) [0x00007FF7F6446C3C]\n",
      "\t(No symbol) [0x00007FF7F64368F4]\n",
      "\tBaseThreadInitThunk [0x00007FFC0D1D7344+20]\n",
      "\tRtlUserThreadStart [0x00007FFC0D4226B1+33]\n",
      "\n",
      "Message: element click intercepted: Element <a class=\"page-link px-3\" href=\"txs?ps=100&amp;p=7\" aria-label=\"Next\">...</a> is not clickable at point (1361, 14). Other element would receive the click: <button class=\"btn btn-lg btn-white text-primary content-center\" type=\"button\" id=\"dropdownMenuTopbarSettings\" data-bs-auto-close=\"outside\" data-bs-toggle=\"dropdown\" aria-expanded=\"false\" style=\"width: 2.375rem; height: 2.375rem;\">...</button>\n",
      "  (Session info: chrome=122.0.6261.95)\n",
      "Stacktrace:\n",
      "\tGetHandleVerifier [0x00007FF7F64CAD22+56930]\n",
      "\t(No symbol) [0x00007FF7F643F622]\n",
      "\t(No symbol) [0x00007FF7F62F42E5]\n",
      "\t(No symbol) [0x00007FF7F6340A80]\n",
      "\t(No symbol) [0x00007FF7F633E8AB]\n",
      "\t(No symbol) [0x00007FF7F633C0B4]\n",
      "\t(No symbol) [0x00007FF7F633AE45]\n",
      "\t(No symbol) [0x00007FF7F632F798]\n",
      "\t(No symbol) [0x00007FF7F635BC9A]\n",
      "\t(No symbol) [0x00007FF7F632F09A]\n",
      "\t(No symbol) [0x00007FF7F635BEB0]\n",
      "\t(No symbol) [0x00007FF7F63781E2]\n",
      "\t(No symbol) [0x00007FF7F635BA43]\n",
      "\t(No symbol) [0x00007FF7F632D438]\n",
      "\t(No symbol) [0x00007FF7F632E4D1]\n",
      "\tGetHandleVerifier [0x00007FF7F6846AAD+3709933]\n",
      "\tGetHandleVerifier [0x00007FF7F689FFED+4075821]\n",
      "\tGetHandleVerifier [0x00007FF7F689817F+4043455]\n",
      "\tGetHandleVerifier [0x00007FF7F6569756+706710]\n",
      "\t(No symbol) [0x00007FF7F644B8FF]\n",
      "\t(No symbol) [0x00007FF7F6446AE4]\n",
      "\t(No symbol) [0x00007FF7F6446C3C]\n",
      "\t(No symbol) [0x00007FF7F64368F4]\n",
      "\tBaseThreadInitThunk [0x00007FFC0D1D7344+20]\n",
      "\tRtlUserThreadStart [0x00007FFC0D4226B1+33]\n",
      "\n",
      "Message: element click intercepted: Element <a class=\"page-link px-3\" href=\"txs?ps=100&amp;p=7\" aria-label=\"Next\">...</a> is not clickable at point (1361, 14). Other element would receive the click: <button class=\"btn btn-lg btn-white text-primary content-center\" type=\"button\" id=\"dropdownMenuTopbarSettings\" data-bs-auto-close=\"outside\" data-bs-toggle=\"dropdown\" aria-expanded=\"false\" style=\"width: 2.375rem; height: 2.375rem;\">...</button>\n",
      "  (Session info: chrome=122.0.6261.95)\n",
      "Stacktrace:\n",
      "\tGetHandleVerifier [0x00007FF7F64CAD22+56930]\n",
      "\t(No symbol) [0x00007FF7F643F622]\n",
      "\t(No symbol) [0x00007FF7F62F42E5]\n",
      "\t(No symbol) [0x00007FF7F6340A80]\n",
      "\t(No symbol) [0x00007FF7F633E8AB]\n",
      "\t(No symbol) [0x00007FF7F633C0B4]\n",
      "\t(No symbol) [0x00007FF7F633AE45]\n",
      "\t(No symbol) [0x00007FF7F632F798]\n",
      "\t(No symbol) [0x00007FF7F635BC9A]\n",
      "\t(No symbol) [0x00007FF7F632F09A]\n",
      "\t(No symbol) [0x00007FF7F635BEB0]\n",
      "\t(No symbol) [0x00007FF7F63781E2]\n",
      "\t(No symbol) [0x00007FF7F635BA43]\n",
      "\t(No symbol) [0x00007FF7F632D438]\n",
      "\t(No symbol) [0x00007FF7F632E4D1]\n",
      "\tGetHandleVerifier [0x00007FF7F6846AAD+3709933]\n",
      "\tGetHandleVerifier [0x00007FF7F689FFED+4075821]\n",
      "\tGetHandleVerifier [0x00007FF7F689817F+4043455]\n",
      "\tGetHandleVerifier [0x00007FF7F6569756+706710]\n",
      "\t(No symbol) [0x00007FF7F644B8FF]\n",
      "\t(No symbol) [0x00007FF7F6446AE4]\n",
      "\t(No symbol) [0x00007FF7F6446C3C]\n",
      "\t(No symbol) [0x00007FF7F64368F4]\n",
      "\tBaseThreadInitThunk [0x00007FFC0D1D7344+20]\n",
      "\tRtlUserThreadStart [0x00007FFC0D4226B1+33]\n",
      "\n"
     ]
    }
   ],
   "source": [
    "while True:\n",
    "    try:\n",
    "        time.sleep(LOAD_TIME)\n",
    "        html = driver.page_source\n",
    "        soup = BeautifulSoup(html, 'html.parser')\n",
    "        \n",
    "        table = soup.find('table')\n",
    "        if table:\n",
    "            rows = table.find_all('tr')\n",
    "            for row_index in range(1, len(rows)):\n",
    "                cols = rows[row_index].find_all('td')\n",
    "                for i in range(len(cols)):\n",
    "\n",
    "                    # if the column is the 'From' or 'To' column, extract the link\n",
    "                    if i == 7 or i == 9:\n",
    "                        link = cols[i].find('a')\n",
    "                        if link:\n",
    "                            link = link.get('href')\n",
    "                            # remove the '/address/' part of the link\n",
    "                            link = link[9:]\n",
    "                            cols[i] = link\n",
    "                    \n",
    "                    # for all other columns, extract the text\n",
    "                    else:\n",
    "                        cols[i] = cols[i].text.strip()            \n",
    "                \n",
    "                if LAST_BLOCK == None:\n",
    "                    LAST_BLOCK = int(cols[3])\n",
    "                \n",
    "                elif LAST_BLOCK - NUM_BLOCKS > int(cols[3]):\n",
    "                    raise StopIteration('Reached the last block')\n",
    "                \n",
    "                raw_data.append(cols)\n",
    "            \n",
    "            # go to the next page\n",
    "            next_button = driver.find_element('xpath', '//a[@aria-label=\"Next\"]')\n",
    "            if next_button:\n",
    "                next_button.click()\n",
    "            else:\n",
    "                raise Exception('Next button not found')\n",
    "        else:\n",
    "            raise Exception('Table not found')\n",
    "    except StopIteration as e:\n",
    "        break\n",
    "    except Exception as e:\n",
    "        print(e)\n",
    "        time.sleep(10)\n",
    "        continue\n",
    "\n",
    "driver.quit()"
   ]
  },
  {
   "cell_type": "markdown",
   "id": "1ca352a49724d191",
   "metadata": {
    "collapsed": false
   },
   "source": [
    "\n",
    "\n",
    "### Considerations\n",
    "\n",
    "- **Rate Limiting**: Be mindful of the website's rate limits to avoid being blocked. Implement delays between requests if necessary.\n",
    "- **Dynamic Content**: The Etherscan website may load content dynamically. Ensure that Selenium waits for the necessary elements to load before attempting to scrape the data.\n",
    "- **Data Cleaning**: After extraction, clean the data to remove any inconsistencies or errors that may have occurred during the scraping process.\n",
    "\n",
    "### Resources\n",
    "\n",
    "- [Beautiful Soup Documentation](https://www.crummy.com/software/BeautifulSoup/bs4/doc/)\n",
    "- [Selenium Documentation](https://selenium-python.readthedocs.io/)\n",
    "- [Pandas Documentation](https://pandas.pydata.org/docs/)\n",
    "- [Ethereum](https://ethereum.org/en/)"
   ]
  },
  {
   "cell_type": "markdown",
   "id": "6a013b104d142cfc",
   "metadata": {
    "collapsed": false
   },
   "source": [
    "## Data Analysis\n",
    "\n",
    "Now that we have collected the transaction data from Etherscan, the next step is to perform conduct an initial analysis. This task will involve the following steps:\n",
    "\n",
    "1. **Load the Data**: Import the collected transaction data into a pandas DataFrame.\n",
    "\n",
    "2. **Data Cleaning**: Clean the data by converting data types, removing any irrelevant information, and handling **duplicate** values.\n",
    "\n",
    "3. **Statistical Analysis**: Calculate the mean and standard deviation of the population. Evaluate these statistics to understand the distribution of transaction values. The analysis and plotting will be on **Txn Fee** and **Value**.\n",
    "\n",
    "4. **Visualization**: This phase involves the creation of visual representations to aid in the analysis of transaction values. The visualizations include:\n",
    "    - A histogram for each data column, which provides a visual representation of the data distribution. The selection of bin size is crucial and should be based on the data's characteristics to ensure accurate representation. Provide an explanation on the bin size selection!\n",
    "    - A normal distribution plot fitted alongside the histogram to compare the empirical distribution of the data with the theoretical normal distribution.\n",
    "    - A box plot and a violin plot to identify outliers and provide a comprehensive view of the data's distribution.\n",
    "\n",
    "### Deliverables\n",
    "\n",
    "The project aims to deliver the following deliverables:\n",
    "\n",
    "- A refined pandas DataFrame containing the transaction data, which has undergone thorough cleaning and is ready for analysis.\n",
    "- A simple statistical analysis evaluating the population statistics, offering insights into the distribution of transaction values and fees.\n",
    "- A set of visualizations showcasing the distribution of transaction values for the population. These visualizations include histograms, normal distribution plots, box plots, and violin plots, each serving a specific purpose in the analysis.\n",
    "\n",
    "### Getting Started\n",
    "\n",
    "The project starts with the importing of transaction data into a pandas DataFrame, setting the stage for data manipulation and analysis. Subsequent steps involve the cleaning of the data to ensure its quality and reliability. Followed by the calculation of population statistics. Finally, a series of visualizations are created to visually analyze the distribution of transaction values and fees."
   ]
  },
  {
   "cell_type": "markdown",
   "id": "a4a0bc45",
   "metadata": {},
   "source": [
    "### Step1: Data Cleaning"
   ]
  },
  {
   "cell_type": "markdown",
   "id": "7c381f98",
   "metadata": {},
   "source": [
    "Creating the dataframe"
   ]
  },
  {
   "cell_type": "code",
   "execution_count": 16,
   "id": "f481b11a08d876b6",
   "metadata": {
    "ExecuteTime": {
     "end_time": "2024-02-25T14:02:12.152030482Z",
     "start_time": "2024-02-25T14:02:12.101846096Z"
    },
    "collapsed": false
   },
   "outputs": [],
   "source": [
    "dataframe = pd.DataFrame(columns=['Txn Hash', 'Method', 'Block', 'Date', 'Age', 'Local Date', 'From', 'To', 'Value', 'Txn fee'])"
   ]
  },
  {
   "cell_type": "code",
   "execution_count": 17,
   "id": "b15a7eba",
   "metadata": {},
   "outputs": [],
   "source": [
    "# create a dataframe from the raw data\n",
    "for row in raw_data:\n",
    "    dataframe = pd.concat([dataframe, \n",
    "               pd.DataFrame([row[1:8] + row[9:12]], columns=dataframe.columns)],\n",
    "               ignore_index=True)"
   ]
  },
  {
   "cell_type": "markdown",
   "id": "ee30eee7",
   "metadata": {},
   "source": [
    "Removing duplicate rows"
   ]
  },
  {
   "cell_type": "code",
   "execution_count": 19,
   "id": "a37c11be",
   "metadata": {},
   "outputs": [
    {
     "data": {
      "text/html": [
       "<div>\n",
       "<style scoped>\n",
       "    .dataframe tbody tr th:only-of-type {\n",
       "        vertical-align: middle;\n",
       "    }\n",
       "\n",
       "    .dataframe tbody tr th {\n",
       "        vertical-align: top;\n",
       "    }\n",
       "\n",
       "    .dataframe thead th {\n",
       "        text-align: right;\n",
       "    }\n",
       "</style>\n",
       "<table border=\"1\" class=\"dataframe\">\n",
       "  <thead>\n",
       "    <tr style=\"text-align: right;\">\n",
       "      <th></th>\n",
       "      <th>Txn Hash</th>\n",
       "      <th>Method</th>\n",
       "      <th>Block</th>\n",
       "      <th>Date</th>\n",
       "      <th>Age</th>\n",
       "      <th>Local Date</th>\n",
       "      <th>From</th>\n",
       "      <th>To</th>\n",
       "      <th>Value</th>\n",
       "      <th>Txn fee</th>\n",
       "    </tr>\n",
       "  </thead>\n",
       "  <tbody>\n",
       "    <tr>\n",
       "      <th>0</th>\n",
       "      <td>0x6db3bb5a6411fb912144a22cf4474975dda0a445895a...</td>\n",
       "      <td>Transfer</td>\n",
       "      <td>19354649</td>\n",
       "      <td>2024-03-03 12:29:23</td>\n",
       "      <td>10 secs ago</td>\n",
       "      <td>1709468963</td>\n",
       "      <td>0x4838b106fce9647bdf1e7877bf73ce8b0bad5f97</td>\n",
       "      <td>0xd6e4aa932147a3fe5311da1b67d9e73da06f9cef</td>\n",
       "      <td>0.048341057 ETH</td>\n",
       "      <td>0.00115506</td>\n",
       "    </tr>\n",
       "    <tr>\n",
       "      <th>1</th>\n",
       "      <td>0x52e4c5bf2f4ceacd9bebf6a8eb35ca6f459155289f00...</td>\n",
       "      <td>Transfer</td>\n",
       "      <td>19354649</td>\n",
       "      <td>2024-03-03 12:29:23</td>\n",
       "      <td>10 secs ago</td>\n",
       "      <td>1709468963</td>\n",
       "      <td>0x8b134369cd5ea66b2f8be203052bf0b63b1b594d</td>\n",
       "      <td>0x2aeae7d1ea75ce31ba7a91baed00d01fa8376e50</td>\n",
       "      <td>0.000370667 ETH</td>\n",
       "      <td>0.00091368</td>\n",
       "    </tr>\n",
       "    <tr>\n",
       "      <th>2</th>\n",
       "      <td>0x4d1826e579381bbe2a60b94198143aa0e9d109dd2f88...</td>\n",
       "      <td>Transfer</td>\n",
       "      <td>19354649</td>\n",
       "      <td>2024-03-03 12:29:23</td>\n",
       "      <td>10 secs ago</td>\n",
       "      <td>1709468963</td>\n",
       "      <td>0xc5a93444cc4da6efb9e6fc6e5d3cb55a53b52396</td>\n",
       "      <td>0xabf4768cb0c2252a5167043738dc57eb7c76bbc0</td>\n",
       "      <td>0.003744 ETH</td>\n",
       "      <td>0.0008635</td>\n",
       "    </tr>\n",
       "    <tr>\n",
       "      <th>3</th>\n",
       "      <td>0xec70bfd54c4411e3e74d57fe2166fe39d9a92222064a...</td>\n",
       "      <td>Transfer</td>\n",
       "      <td>19354649</td>\n",
       "      <td>2024-03-03 12:29:23</td>\n",
       "      <td>10 secs ago</td>\n",
       "      <td>1709468963</td>\n",
       "      <td>0xc5a93444cc4da6efb9e6fc6e5d3cb55a53b52396</td>\n",
       "      <td>0x4d3f28e1788bcb97ec2f48f5403c6d09cc478cec</td>\n",
       "      <td>0.003744 ETH</td>\n",
       "      <td>0.0008635</td>\n",
       "    </tr>\n",
       "    <tr>\n",
       "      <th>4</th>\n",
       "      <td>0x377f6ccc2c1ec97941bad49206d59bebf12a7fff17a4...</td>\n",
       "      <td>Transfer</td>\n",
       "      <td>19354649</td>\n",
       "      <td>2024-03-03 12:29:23</td>\n",
       "      <td>10 secs ago</td>\n",
       "      <td>1709468963</td>\n",
       "      <td>0x974caa59e49682cda0ad2bbe82983419a2ecc400</td>\n",
       "      <td>0x4d7ff25cfa9fe40cb7cc6f17b6d8c520b1740e4f</td>\n",
       "      <td>0.084848429 ETH</td>\n",
       "      <td>0.00086841</td>\n",
       "    </tr>\n",
       "    <tr>\n",
       "      <th>...</th>\n",
       "      <td>...</td>\n",
       "      <td>...</td>\n",
       "      <td>...</td>\n",
       "      <td>...</td>\n",
       "      <td>...</td>\n",
       "      <td>...</td>\n",
       "      <td>...</td>\n",
       "      <td>...</td>\n",
       "      <td>...</td>\n",
       "      <td>...</td>\n",
       "    </tr>\n",
       "    <tr>\n",
       "      <th>8458</th>\n",
       "      <td>0xce4a97d27354ae3a2881652762286134441014f84fab...</td>\n",
       "      <td>Transfer</td>\n",
       "      <td>19354639</td>\n",
       "      <td>2024-03-03 12:27:23</td>\n",
       "      <td>7 mins ago</td>\n",
       "      <td>1709468843</td>\n",
       "      <td>0xe48f3bf377b956649f5dc2de21cc8f0da245e44a</td>\n",
       "      <td>0xf5b5efc906513b4344ebabcf47a04901f99f09f3</td>\n",
       "      <td>0 ETH</td>\n",
       "      <td>0.00169979</td>\n",
       "    </tr>\n",
       "    <tr>\n",
       "      <th>8459</th>\n",
       "      <td>0x3429ec77770cdb7f30dd2826e74808f5f31e4280499a...</td>\n",
       "      <td>Transfer</td>\n",
       "      <td>19354639</td>\n",
       "      <td>2024-03-03 12:27:23</td>\n",
       "      <td>7 mins ago</td>\n",
       "      <td>1709468843</td>\n",
       "      <td>0x416299aade6443e6f6e8ab67126e65a7f606eef5</td>\n",
       "      <td>0x6be4e123526eb9888ff1732c7da954cb642f3d6d</td>\n",
       "      <td>0.04390749 ETH</td>\n",
       "      <td>0.00164859</td>\n",
       "    </tr>\n",
       "    <tr>\n",
       "      <th>8460</th>\n",
       "      <td>0x14571aff529abf1a3fd5fb57f69c08c645dab8ab369d...</td>\n",
       "      <td>Transfer</td>\n",
       "      <td>19354639</td>\n",
       "      <td>2024-03-03 12:27:23</td>\n",
       "      <td>7 mins ago</td>\n",
       "      <td>1709468843</td>\n",
       "      <td>0xedcabf8b9e8660740bc414a277a8c9fadb3719d1</td>\n",
       "      <td>0x4a2ef08716aa80a2daaa4f1c4a5476c7557c4c7d</td>\n",
       "      <td>0.023374543 ETH</td>\n",
       "      <td>0.00178197</td>\n",
       "    </tr>\n",
       "    <tr>\n",
       "      <th>8461</th>\n",
       "      <td>0x79acc52035c8c3f6cbaa5806015682f153859b9c86bb...</td>\n",
       "      <td>Transfer</td>\n",
       "      <td>19354639</td>\n",
       "      <td>2024-03-03 12:27:23</td>\n",
       "      <td>7 mins ago</td>\n",
       "      <td>1709468843</td>\n",
       "      <td>0x169f230a7416a44d6d81ed750d416ffb1c814fc6</td>\n",
       "      <td>0x12352919ac900355779b404f178b976d3ba490b4</td>\n",
       "      <td>0.003332037 ETH</td>\n",
       "      <td>0.00186377</td>\n",
       "    </tr>\n",
       "    <tr>\n",
       "      <th>8462</th>\n",
       "      <td>0xc06f9b234ab89a2fd792c8eec7c0d1fc46bbd7c98b58...</td>\n",
       "      <td>Transfer</td>\n",
       "      <td>19354639</td>\n",
       "      <td>2024-03-03 12:27:23</td>\n",
       "      <td>7 mins ago</td>\n",
       "      <td>1709468843</td>\n",
       "      <td>0x092124aae02407b709a0f6593b85114359e0cfb7</td>\n",
       "      <td>0x5b7533812759b45c2b44c19e320ba2cd2681b542</td>\n",
       "      <td>0 ETH</td>\n",
       "      <td>0.00435927</td>\n",
       "    </tr>\n",
       "  </tbody>\n",
       "</table>\n",
       "<p>4811 rows × 10 columns</p>\n",
       "</div>"
      ],
      "text/plain": [
       "                                               Txn Hash    Method     Block  \\\n",
       "0     0x6db3bb5a6411fb912144a22cf4474975dda0a445895a...  Transfer  19354649   \n",
       "1     0x52e4c5bf2f4ceacd9bebf6a8eb35ca6f459155289f00...  Transfer  19354649   \n",
       "2     0x4d1826e579381bbe2a60b94198143aa0e9d109dd2f88...  Transfer  19354649   \n",
       "3     0xec70bfd54c4411e3e74d57fe2166fe39d9a92222064a...  Transfer  19354649   \n",
       "4     0x377f6ccc2c1ec97941bad49206d59bebf12a7fff17a4...  Transfer  19354649   \n",
       "...                                                 ...       ...       ...   \n",
       "8458  0xce4a97d27354ae3a2881652762286134441014f84fab...  Transfer  19354639   \n",
       "8459  0x3429ec77770cdb7f30dd2826e74808f5f31e4280499a...  Transfer  19354639   \n",
       "8460  0x14571aff529abf1a3fd5fb57f69c08c645dab8ab369d...  Transfer  19354639   \n",
       "8461  0x79acc52035c8c3f6cbaa5806015682f153859b9c86bb...  Transfer  19354639   \n",
       "8462  0xc06f9b234ab89a2fd792c8eec7c0d1fc46bbd7c98b58...  Transfer  19354639   \n",
       "\n",
       "                     Date          Age  Local Date  \\\n",
       "0     2024-03-03 12:29:23  10 secs ago  1709468963   \n",
       "1     2024-03-03 12:29:23  10 secs ago  1709468963   \n",
       "2     2024-03-03 12:29:23  10 secs ago  1709468963   \n",
       "3     2024-03-03 12:29:23  10 secs ago  1709468963   \n",
       "4     2024-03-03 12:29:23  10 secs ago  1709468963   \n",
       "...                   ...          ...         ...   \n",
       "8458  2024-03-03 12:27:23   7 mins ago  1709468843   \n",
       "8459  2024-03-03 12:27:23   7 mins ago  1709468843   \n",
       "8460  2024-03-03 12:27:23   7 mins ago  1709468843   \n",
       "8461  2024-03-03 12:27:23   7 mins ago  1709468843   \n",
       "8462  2024-03-03 12:27:23   7 mins ago  1709468843   \n",
       "\n",
       "                                            From  \\\n",
       "0     0x4838b106fce9647bdf1e7877bf73ce8b0bad5f97   \n",
       "1     0x8b134369cd5ea66b2f8be203052bf0b63b1b594d   \n",
       "2     0xc5a93444cc4da6efb9e6fc6e5d3cb55a53b52396   \n",
       "3     0xc5a93444cc4da6efb9e6fc6e5d3cb55a53b52396   \n",
       "4     0x974caa59e49682cda0ad2bbe82983419a2ecc400   \n",
       "...                                          ...   \n",
       "8458  0xe48f3bf377b956649f5dc2de21cc8f0da245e44a   \n",
       "8459  0x416299aade6443e6f6e8ab67126e65a7f606eef5   \n",
       "8460  0xedcabf8b9e8660740bc414a277a8c9fadb3719d1   \n",
       "8461  0x169f230a7416a44d6d81ed750d416ffb1c814fc6   \n",
       "8462  0x092124aae02407b709a0f6593b85114359e0cfb7   \n",
       "\n",
       "                                              To            Value     Txn fee  \n",
       "0     0xd6e4aa932147a3fe5311da1b67d9e73da06f9cef  0.048341057 ETH  0.00115506  \n",
       "1     0x2aeae7d1ea75ce31ba7a91baed00d01fa8376e50  0.000370667 ETH  0.00091368  \n",
       "2     0xabf4768cb0c2252a5167043738dc57eb7c76bbc0     0.003744 ETH   0.0008635  \n",
       "3     0x4d3f28e1788bcb97ec2f48f5403c6d09cc478cec     0.003744 ETH   0.0008635  \n",
       "4     0x4d7ff25cfa9fe40cb7cc6f17b6d8c520b1740e4f  0.084848429 ETH  0.00086841  \n",
       "...                                          ...              ...         ...  \n",
       "8458  0xf5b5efc906513b4344ebabcf47a04901f99f09f3            0 ETH  0.00169979  \n",
       "8459  0x6be4e123526eb9888ff1732c7da954cb642f3d6d   0.04390749 ETH  0.00164859  \n",
       "8460  0x4a2ef08716aa80a2daaa4f1c4a5476c7557c4c7d  0.023374543 ETH  0.00178197  \n",
       "8461  0x12352919ac900355779b404f178b976d3ba490b4  0.003332037 ETH  0.00186377  \n",
       "8462  0x5b7533812759b45c2b44c19e320ba2cd2681b542            0 ETH  0.00435927  \n",
       "\n",
       "[4811 rows x 10 columns]"
      ]
     },
     "execution_count": 19,
     "metadata": {},
     "output_type": "execute_result"
    }
   ],
   "source": [
    "# remove the duplicate rows\n",
    "dataframe = dataframe.drop_duplicates(subset='Txn Hash', keep='first')\n"
   ]
  },
  {
   "cell_type": "markdown",
   "id": "de62fe7d",
   "metadata": {},
   "source": [
    "Converting data types"
   ]
  },
  {
   "cell_type": "code",
   "execution_count": 26,
   "id": "33a4f24a",
   "metadata": {},
   "outputs": [],
   "source": [
    "dataframe['Block'] = dataframe['Block'].astype(int)\n",
    "dataframe['Date'] = pd.to_datetime(dataframe['Date'])\n",
    "dataframe['Local Date'] = dataframe['Local Date'].astype(int)\n",
    "dataframe['Txn fee'] = dataframe['Txn fee'].astype(float)"
   ]
  },
  {
   "cell_type": "code",
   "execution_count": 31,
   "id": "8ba4c488",
   "metadata": {},
   "outputs": [],
   "source": [
    "def remove_comma_from_string(value_with_comma):\n",
    "    return value_with_comma.replace(',', '')\n",
    "\n",
    "def convert_currencies(value):\n",
    "    if type(value) == float:\n",
    "        return value\n",
    "    if 'ETH' in value:\n",
    "        return float(value.replace(' ETH', ''))\n",
    "    elif 'wei' in value:\n",
    "        return float(value.replace(' wei', '')) / 10**18\n",
    "    elif 'Gwei' in value:\n",
    "        return float(value.replace(' Gwei', '')) / 10**9\n",
    "    else:\n",
    "        return float(value)\n",
    "\n",
    "\n",
    "dataframe['Value'] = dataframe['Value'].apply(remove_comma_from_string).apply(convert_currencies)"
   ]
  },
  {
   "cell_type": "code",
   "execution_count": 32,
   "id": "759bcc53",
   "metadata": {},
   "outputs": [],
   "source": [
    "dataframe = dataframe.reset_index(drop=True)"
   ]
  },
  {
   "cell_type": "markdown",
   "id": "5ef9be04",
   "metadata": {},
   "source": [
    "Save the dataframe to a CSV file"
   ]
  },
  {
   "cell_type": "code",
   "execution_count": 33,
   "id": "c86cdebd",
   "metadata": {},
   "outputs": [
    {
     "name": "stdout",
     "output_type": "stream",
     "text": [
      "Data saved to etherscan.csv\n"
     ]
    }
   ],
   "source": [
    "def save_to_csv(dataframe, filename):\n",
    "    dataframe.to_csv(filename, index=False)\n",
    "    print(f'Data saved to {filename}')\n",
    "\n",
    "save_to_csv(dataframe, 'etherscan.csv')"
   ]
  },
  {
   "cell_type": "markdown",
   "id": "5e325433",
   "metadata": {},
   "source": [
    "### Step 2: Exploratory Data Analysis"
   ]
  },
  {
   "cell_type": "markdown",
   "id": "40012b08",
   "metadata": {},
   "source": [
    "Reading the dataframe from the CSV file"
   ]
  },
  {
   "cell_type": "code",
   "execution_count": 2,
   "id": "1b17dcc9",
   "metadata": {},
   "outputs": [],
   "source": [
    "dataframe = pd.read_csv('etherscan.csv')"
   ]
  },
  {
   "cell_type": "markdown",
   "id": "09b07190",
   "metadata": {},
   "source": [
    "First we analyze our data by using the info and describe methods:"
   ]
  },
  {
   "cell_type": "code",
   "execution_count": 3,
   "id": "8ebc94d8",
   "metadata": {},
   "outputs": [
    {
     "name": "stdout",
     "output_type": "stream",
     "text": [
      "<class 'pandas.core.frame.DataFrame'>\n",
      "RangeIndex: 4811 entries, 0 to 4810\n",
      "Data columns (total 10 columns):\n",
      " #   Column      Non-Null Count  Dtype  \n",
      "---  ------      --------------  -----  \n",
      " 0   Txn Hash    4811 non-null   object \n",
      " 1   Method      4811 non-null   object \n",
      " 2   Block       4811 non-null   int64  \n",
      " 3   Date        4811 non-null   object \n",
      " 4   Age         4811 non-null   object \n",
      " 5   Local Date  4811 non-null   int64  \n",
      " 6   From        4811 non-null   object \n",
      " 7   To          4811 non-null   object \n",
      " 8   Value       4811 non-null   float64\n",
      " 9   Txn fee     4811 non-null   float64\n",
      "dtypes: float64(2), int64(2), object(6)\n",
      "memory usage: 376.0+ KB\n"
     ]
    }
   ],
   "source": [
    "dataframe.info()"
   ]
  },
  {
   "cell_type": "code",
   "execution_count": 4,
   "id": "69c5ec4c",
   "metadata": {},
   "outputs": [
    {
     "data": {
      "text/html": [
       "<div>\n",
       "<style scoped>\n",
       "    .dataframe tbody tr th:only-of-type {\n",
       "        vertical-align: middle;\n",
       "    }\n",
       "\n",
       "    .dataframe tbody tr th {\n",
       "        vertical-align: top;\n",
       "    }\n",
       "\n",
       "    .dataframe thead th {\n",
       "        text-align: right;\n",
       "    }\n",
       "</style>\n",
       "<table border=\"1\" class=\"dataframe\">\n",
       "  <thead>\n",
       "    <tr style=\"text-align: right;\">\n",
       "      <th></th>\n",
       "      <th>Block</th>\n",
       "      <th>Local Date</th>\n",
       "      <th>Value</th>\n",
       "      <th>Txn fee</th>\n",
       "    </tr>\n",
       "  </thead>\n",
       "  <tbody>\n",
       "    <tr>\n",
       "      <th>count</th>\n",
       "      <td>4.811000e+03</td>\n",
       "      <td>4.811000e+03</td>\n",
       "      <td>4811.000000</td>\n",
       "      <td>4811.000000</td>\n",
       "    </tr>\n",
       "    <tr>\n",
       "      <th>mean</th>\n",
       "      <td>1.935465e+07</td>\n",
       "      <td>1.709469e+09</td>\n",
       "      <td>1.043481</td>\n",
       "      <td>0.004162</td>\n",
       "    </tr>\n",
       "    <tr>\n",
       "      <th>std</th>\n",
       "      <td>7.379266e+00</td>\n",
       "      <td>8.855120e+01</td>\n",
       "      <td>37.162876</td>\n",
       "      <td>0.010956</td>\n",
       "    </tr>\n",
       "    <tr>\n",
       "      <th>min</th>\n",
       "      <td>1.935464e+07</td>\n",
       "      <td>1.709469e+09</td>\n",
       "      <td>0.000000</td>\n",
       "      <td>0.000810</td>\n",
       "    </tr>\n",
       "    <tr>\n",
       "      <th>25%</th>\n",
       "      <td>1.935465e+07</td>\n",
       "      <td>1.709469e+09</td>\n",
       "      <td>0.000000</td>\n",
       "      <td>0.001007</td>\n",
       "    </tr>\n",
       "    <tr>\n",
       "      <th>50%</th>\n",
       "      <td>1.935465e+07</td>\n",
       "      <td>1.709469e+09</td>\n",
       "      <td>0.000000</td>\n",
       "      <td>0.001936</td>\n",
       "    </tr>\n",
       "    <tr>\n",
       "      <th>75%</th>\n",
       "      <td>1.935466e+07</td>\n",
       "      <td>1.709469e+09</td>\n",
       "      <td>0.040078</td>\n",
       "      <td>0.004577</td>\n",
       "    </tr>\n",
       "    <tr>\n",
       "      <th>max</th>\n",
       "      <td>1.935467e+07</td>\n",
       "      <td>1.709469e+09</td>\n",
       "      <td>2549.406700</td>\n",
       "      <td>0.525259</td>\n",
       "    </tr>\n",
       "  </tbody>\n",
       "</table>\n",
       "</div>"
      ],
      "text/plain": [
       "              Block    Local Date        Value      Txn fee\n",
       "count  4.811000e+03  4.811000e+03  4811.000000  4811.000000\n",
       "mean   1.935465e+07  1.709469e+09     1.043481     0.004162\n",
       "std    7.379266e+00  8.855120e+01    37.162876     0.010956\n",
       "min    1.935464e+07  1.709469e+09     0.000000     0.000810\n",
       "25%    1.935465e+07  1.709469e+09     0.000000     0.001007\n",
       "50%    1.935465e+07  1.709469e+09     0.000000     0.001936\n",
       "75%    1.935466e+07  1.709469e+09     0.040078     0.004577\n",
       "max    1.935467e+07  1.709469e+09  2549.406700     0.525259"
      ]
     },
     "execution_count": 4,
     "metadata": {},
     "output_type": "execute_result"
    }
   ],
   "source": [
    "dataframe.describe()"
   ]
  },
  {
   "cell_type": "markdown",
   "id": "a36b56ea",
   "metadata": {},
   "source": [
    "Since we are working with the Ethereum transaction data, the block numbers won't take place in our statistical analysis and we focus on the Value and Transaction fee columns.     \n",
    "     \n",
    "First we calculate the mean and standard deviations of these columns, and then we analyze their distribution."
   ]
  },
  {
   "cell_type": "markdown",
   "id": "9a0ac9c7",
   "metadata": {},
   "source": [
    "#### Txn fee:"
   ]
  },
  {
   "cell_type": "code",
   "execution_count": 5,
   "id": "402a852b",
   "metadata": {},
   "outputs": [
    {
     "name": "stdout",
     "output_type": "stream",
     "text": [
      "0.004162409220536271\n",
      "0.010955882810612603\n"
     ]
    }
   ],
   "source": [
    "txn_fee_mean = dataframe[\"Txn fee\"].mean()\n",
    "txn_fee_std = dataframe[\"Txn fee\"].std()\n",
    "\n",
    "print(txn_fee_mean)\n",
    "print(txn_fee_std)"
   ]
  },
  {
   "cell_type": "markdown",
   "id": "4a2ab801",
   "metadata": {},
   "source": [
    "#### Txn Value:"
   ]
  },
  {
   "cell_type": "code",
   "execution_count": 6,
   "id": "0da1fb24",
   "metadata": {},
   "outputs": [
    {
     "name": "stdout",
     "output_type": "stream",
     "text": [
      "1.043481454931615\n",
      "37.16287625525373\n"
     ]
    }
   ],
   "source": [
    "txn_value_mean = dataframe[\"Value\"].mean()\n",
    "txn_value_std = dataframe[\"Value\"].std()\n",
    "\n",
    "print(txn_value_mean)\n",
    "print(txn_value_std)"
   ]
  },
  {
   "cell_type": "markdown",
   "id": "70cd147c",
   "metadata": {},
   "source": [
    "Before moving to illustrating the histogram plots, we should answer the question on how to calculate the bin size in the histogram plot.\n",
    "\n",
    "### Question: How to set bin size in histogram plot?\n",
    "\n",
    "Based on the Freedman-Diaconis rule, the optimum bin size in a histogram is:     \n",
    "\n",
    "$$ Optimum Bin Size = \\frac{2 \\times \\text{IQR}}{n^{1/3}}$$\n",
    "\n",
    "This rule makes the bin size dependent to the number of observations and the difference between Q3 and Q1, which is proved by Freedman et. al. that shows the difference among data in a fit way. Therefore, we first write a function which calculate the bin-width and number of needed bins, and then use it in our histograms."
   ]
  },
  {
   "cell_type": "code",
   "execution_count": 62,
   "id": "98e43ff7",
   "metadata": {},
   "outputs": [],
   "source": [
    "def calculate_FreedManDiaconis_bin_num(target_column):\n",
    "    # Calculate the Freedman-Diaconis bin width\n",
    "    IQR = np.percentile(target_column, 75) - np.percentile(target_column, 25)\n",
    "    bin_width = 2 * IQR / (len(target_column) ** (1/3))\n",
    "\n",
    "    # Calculate the number of bins based on the Freedman-Diaconis rule\n",
    "    num_bins = int(np.ceil((target_column.max() - target_column.min()) / bin_width))\n",
    "    if num_bins < 50:\n",
    "        return num_bins\n",
    "    else:\n",
    "        return 100"
   ]
  },
  {
   "cell_type": "markdown",
   "id": "ea891cff",
   "metadata": {},
   "source": [
    "Now it is the time to write histogram plot function:"
   ]
  },
  {
   "cell_type": "code",
   "execution_count": 290,
   "id": "cbc2ad63",
   "metadata": {},
   "outputs": [],
   "source": [
    "def plot_histogram(target_column):\n",
    "    # Set plot size\n",
    "    plt.figure(figsize=(15, 12))\n",
    "\n",
    "    # Create the histogram\n",
    "    txnFee_binSize = calculate_FreedManDiaconis_bin_num(target_column)\n",
    "    y,x,_ = plt.hist(target_column, bins=txnFee_binSize, edgecolor='navy', lw=0, density=True)\n",
    "    \n",
    "    # Fit a normal distribution to the data\n",
    "    mu, std = norm.fit(target_column)\n",
    "    xmin, xmax = plt.xlim()\n",
    "    x_norm = np.linspace(xmin, xmax, 10000)\n",
    "    y_norm = norm.pdf(x_norm, mu, std)\n",
    "\n",
    "    # Add labels and title\n",
    "    plt.xlabel('Value')\n",
    "    plt.ylabel('Frequency')\n",
    "    plt.title('Histogram of Sample Data')\n",
    "\n",
    "    # Add grid lines\n",
    "    plt.grid(True)\n",
    "\n",
    "    # Set limit to axes\n",
    "    plt.ylim(0, y.max() * 1.3)\n",
    "    plt.xlim(0, x.max() * 1.3)\n",
    "    \n",
    "    # Show plot\n",
    "    plt.plot(x_norm, y_norm, 'k', linewidth=2)\n",
    "    plt.show()"
   ]
  },
  {
   "cell_type": "markdown",
   "id": "fbceb78c",
   "metadata": {},
   "source": [
    "Now we go ahead and plot the Txn Fee and Txn Value histograms: "
   ]
  },
  {
   "cell_type": "markdown",
   "id": "380a644e",
   "metadata": {},
   "source": [
    "#### Txn fee:"
   ]
  },
  {
   "cell_type": "code",
   "execution_count": 291,
   "metadata": {},
   "outputs": [
    {
     "data": {
      "image/png": "[encoded data removed]",
      "text/plain": [
       "<Figure size 1080x864 with 1 Axes>"
      ]
     },
     "metadata": {
      "needs_background": "light"
     },
     "output_type": "display_data"
    }
   ],
   "source": [
    "plot_histogram(dataframe[\"Txn fee\"])"
   ]
  },
  {
   "cell_type": "markdown",
   "id": "40e30c21",
   "metadata": {},
   "source": [
    "Since the histogram is skewed, we apply log transformation on it to have a better visualization:"
   ]
  },
  {
   "cell_type": "code",
   "execution_count": 292,
   "id": "eec2cd67",
   "metadata": {},
   "outputs": [
    {
     "data": {
      "image/png": "[encoded data removed]",
      "text/plain": [
       "<Figure size 1080x864 with 1 Axes>"
      ]
     },
     "metadata": {
      "needs_background": "light"
     },
     "output_type": "display_data"
    }
   ],
   "source": [
    "logged_txnFee = np.log(dataframe['Txn fee'] + 0.000001) * -1\n",
    "plot_histogram(logged_txnFee)"
   ]
  },
  {
   "cell_type": "markdown",
   "id": "8f3ddabf",
   "metadata": {},
   "source": [
    "#### Txn Value:"
   ]
  },
  {
   "cell_type": "code",
   "execution_count": 293,
   "id": "356ad98f",
   "metadata": {},
   "outputs": [
    {
     "data": {
      "image/png": "[encoded data removed]",
      "text/plain": [
       "<Figure size 1080x864 with 1 Axes>"
      ]
     },
     "metadata": {
      "needs_background": "light"
     },
     "output_type": "display_data"
    }
   ],
   "source": [
    "plot_histogram(dataframe[\"Value\"])"
   ]
  },
  {
   "cell_type": "markdown",
   "id": "363ff64d",
   "metadata": {},
   "source": [
    "Again, we apply the Log transformation due to the high right skewness of the data. "
   ]
  },
  {
   "cell_type": "code",
   "execution_count": 294,
   "id": "03cea4f6",
   "metadata": {},
   "outputs": [
    {
     "data": {
      "text/plain": [
       "0        3.029453\n",
       "1        7.897512\n",
       "2        5.587334\n",
       "3        5.587334\n",
       "4        2.466877\n",
       "          ...    \n",
       "4806    13.815511\n",
       "4807     3.125648\n",
       "4808     3.756065\n",
       "4809     5.703871\n",
       "4810    13.815511\n",
       "Name: Value, Length: 4811, dtype: float64"
      ]
     },
     "execution_count": 294,
     "metadata": {},
     "output_type": "execute_result"
    }
   ],
   "source": [
    "logged_txnVal = np.log(dataframe['Value'] + 0.000001) * -1\n",
    "logged_txnVal"
   ]
  },
  {
   "cell_type": "code",
   "execution_count": 295,
   "id": "f3f2b4f1",
   "metadata": {},
   "outputs": [
    {
     "data": {
      "image/png": "[encoded data removed]",
      "text/plain": [
       "<Figure size 1080x864 with 1 Axes>"
      ]
     },
     "metadata": {
      "needs_background": "light"
     },
     "output_type": "display_data"
    }
   ],
   "source": [
    "plot_histogram(logged_txnVal)"
   ]
  },
  {
   "cell_type": "markdown",
   "id": "f5c68e7d",
   "metadata": {},
   "source": [
    "* Note that we added a small constant $C = 0.000001$ to our target column for handling the $log(0) = infinity$ problem in log transformation. Therefore, the large bin in the log transformed histogram of the transaction value column represent the transactions with 0 transaction value."
   ]
  },
  {
   "cell_type": "markdown",
   "id": "90c543d6",
   "metadata": {},
   "source": [
    "### Method Distribution"
   ]
  },
  {
   "cell_type": "code",
   "execution_count": 296,
   "id": "d7481865",
   "metadata": {},
   "outputs": [
    {
     "data": {
      "image/png": "[encoded data removed]",
      "text/plain": [
       "<Figure size 432x288 with 1 Axes>"
      ]
     },
     "metadata": {
      "needs_background": "light"
     },
     "output_type": "display_data"
    }
   ],
   "source": [
    "# show the number of transactions per method in a bar chart\n",
    "# only show the top 10 methods\n",
    "# show other methods as 'Other'\n",
    "# show labels 45 degrees rotated\n",
    "top_methods = dataframe['Method'].value_counts().head(10)\n",
    "other_methods = dataframe['Method'].value_counts().tail(-10).sum()\n",
    "top_methods['Other'] = other_methods\n",
    "top_methods.plot(kind='bar')\n",
    "plt.title('Number of transactions per method')\n",
    "plt.xlabel('Method')\n",
    "plt.ylabel('Number of transactions')\n",
    "plt.xticks(rotation=45)\n",
    "plt.show()\n"
   ]
  },
  {
   "cell_type": "markdown",
   "id": "0bf5e609",
   "metadata": {},
   "source": [
    "### Block Distribution"
   ]
  },
  {
   "cell_type": "code",
   "execution_count": 297,
   "id": "787dea47",
   "metadata": {},
   "outputs": [
    {
     "data": {
      "image/png": "[encoded data removed]",
      "text/plain": [
       "<Figure size 432x288 with 1 Axes>"
      ]
     },
     "metadata": {
      "needs_background": "light"
     },
     "output_type": "display_data"
    }
   ],
   "source": [
    "# show the number of transactions per block in a bar chart\n",
    "dataframe['Block'].value_counts().plot(kind='bar')\n",
    "plt.title('Number of transactions per block')\n",
    "plt.xlabel('Block')\n",
    "plt.ylabel('Number of transactions')\n",
    "plt.xticks(rotation=45)\n",
    "plt.show()\n"
   ]
  },
  {
   "cell_type": "markdown",
   "id": "ac7e3702",
   "metadata": {},
   "source": [
    "### Sender Distribution"
   ]
  },
  {
   "cell_type": "code",
   "execution_count": 298,
   "id": "d39b3df5",
   "metadata": {},
   "outputs": [
    {
     "data": {
      "image/png": "[encoded data removed]",
      "text/plain": [
       "<Figure size 432x288 with 1 Axes>"
      ]
     },
     "metadata": {
      "needs_background": "light"
     },
     "output_type": "display_data"
    }
   ],
   "source": [
    "# show the number of transactions for every sender in a bar chart\n",
    "# only show the top 10 senders\n",
    "top_senders = dataframe['From'].value_counts().head(10)\n",
    "top_senders.index = top_senders.index.map(lambda x: x[:6] + '...' + x[-4:])\n",
    "top_senders.plot(kind='barh')\n",
    "plt.title('Number of transactions per sender')  \n",
    "plt.xlabel('Sender')\n",
    "plt.ylabel('Number of transactions')\n",
    "plt.xticks(rotation=45)\n",
    "plt.show()"
   ]
  },
  {
   "cell_type": "markdown",
   "id": "131093c9",
   "metadata": {},
   "source": [
    "### Receiver Distribution"
   ]
  },
  {
   "cell_type": "code",
   "execution_count": 299,
   "id": "14edb380",
   "metadata": {},
   "outputs": [
    {
     "data": {
      "image/png": "[encoded data removed]",
      "text/plain": [
       "<Figure size 432x288 with 1 Axes>"
      ]
     },
     "metadata": {
      "needs_background": "light"
     },
     "output_type": "display_data"
    }
   ],
   "source": [
    "# show the number of transactions for every receiver in a bar chart\n",
    "# only show the top 10 receivers\n",
    "# make the bar chart horizontal\n",
    "top_receivers = dataframe['To'].value_counts().head(10)\n",
    "top_receivers.index = top_receivers.index.str[:6] + '...' + top_receivers.index.str[-4:]\n",
    "top_receivers.plot(kind='barh')\n",
    "plt.title('Number of transactions per receiver')\n",
    "plt.xlabel('Number of transactions')\n",
    "plt.ylabel('Receiver')\n",
    "plt.show()"
   ]
  },
  {
   "cell_type": "markdown",
   "id": "57d0ffab",
   "metadata": {},
   "source": [
    "### Histograms"
   ]
  },
  {
   "cell_type": "code",
   "execution_count": 300,
   "id": "0f33dc83",
   "metadata": {},
   "outputs": [
    {
     "data": {
      "image/png": "[encoded data removed]",
      "text/plain": [
       "<Figure size 432x288 with 1 Axes>"
      ]
     },
     "metadata": {
      "needs_background": "light"
     },
     "output_type": "display_data"
    }
   ],
   "source": [
    "# show the distribution of the transaction values in a histogram\n",
    "# the bins size should be  \n",
    "plt.hist(dataframe['Value'], bins='sqrt')\n",
    "plt.title('Distribution of transaction values')\n",
    "plt.xlabel('Value')\n",
    "plt.ylabel('Number of transactions')\n",
    "plt.show()"
   ]
  },
  {
   "cell_type": "markdown",
   "id": "51430775",
   "metadata": {},
   "source": [
    "### Drop Unnecessary Columns"
   ]
  },
  {
   "cell_type": "markdown",
   "id": "87030e5e0b4fe1e6",
   "metadata": {
    "collapsed": false
   },
   "source": [
    "## Data Sampling and Analysis\n",
    "\n",
    "In this section, we will delve into the process of data sampling and perform an initial analysis on the transaction data we have collected. Our objective is to understand the distribution of transaction values by sampling the data and comparing the sample statistics with the population statistics.\n",
    "\n",
    "### Steps\n",
    "\n",
    "1. **Load the Data**: Import the collected transaction data into a pandas DataFrame.\n",
    "\n",
    "2. **Data Cleaning**: Clean the data by handling missing values, converting data types, and removing any irrelevant information.\n",
    "\n",
    "3. **Simple Random Sampling (SRS)**: Create a sample from the dataset using a simple random sampling method. This involves randomly selecting a subset of the data without regard to any specific characteristics of the data.\n",
    "\n",
    "4. **Stratified Sampling**: Create another sample from the dataset using a stratified sampling method. This involves dividing the data into strata based on a specific characteristic (e.g., transaction value) and then randomly selecting samples from each stratum. Explain what you have stratified the data by and why you chose this column.\n",
    "\n",
    "5. **Statistical Analysis**: Calculate the mean and standard deviation of the samples and the population. Compare these statistics to understand the distribution of transaction values.\n",
    "\n",
    "6. **Visualization**: Plot the distribution of transaction values and fees for both the samples and the population to visually compare their distributions.\n",
    "\n",
    "### Considerations\n",
    "\n",
    "- **Sample Size**: The size of the sample should be large enough to represent the population accurately but not so large that it becomes impractical to analyze.\n",
    "- **Sampling Method**: Choose the appropriate sampling method based on the characteristics of the data and the research question.\n",
    "\n",
    "Explain the above considerations in your report."
   ]
  },
  {
   "cell_type": "code",
   "execution_count": 301,
   "id": "4f6becd41f9b2393",
   "metadata": {
    "ExecuteTime": {
     "end_time": "2024-02-27T19:36:26.333480965Z",
     "start_time": "2024-02-27T19:36:26.324023052Z"
    },
    "collapsed": false
   },
   "outputs": [],
   "source": [
    "# Your code here"
   ]
  }
 ],
 "metadata": {
  "kernelspec": {
   "display_name": "Python 3 (ipykernel)",
   "language": "python",
   "name": "python3"
  },
  "language_info": {
   "codemirror_mode": {
    "name": "ipython",
    "version": 3
   },
   "file_extension": ".py",
   "mimetype": "text/x-python",
   "name": "python",
   "nbconvert_exporter": "python",
   "pygments_lexer": "ipython3",
   "version": "3.8.5"
  }
 },
 "nbformat": 4,
 "nbformat_minor": 5
}
