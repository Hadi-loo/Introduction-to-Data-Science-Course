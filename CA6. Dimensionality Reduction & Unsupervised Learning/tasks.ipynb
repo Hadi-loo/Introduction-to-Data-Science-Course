{
 "cells": [
  {
   "cell_type": "markdown",
   "metadata": {},
   "source": [
    "## Dimensionality Reduction & Unsupervised Learning"
   ]
  },
  {
   "cell_type": "markdown",
   "metadata": {},
   "source": [
    "To perform dimensionality reduction and unsupervised learning, we can use various techniques such as Principal Component Analysis (PCA), t-SNE, and clustering algorithms like K-means or DBSCAN. These techniques help in reducing the dimensionality of the data and finding patterns or groups within the data without the need for labeled data."
   ]
  },
  {
   "cell_type": "markdown",
   "metadata": {},
   "source": [
    "## Authors\n",
    "* **Alireza Arbabi**\n",
    "* **Hadi Babalou**\n",
    "* **Ali Padyav**\n",
    "* **Kasra Hajiheidari**"
   ]
  },
  {
   "cell_type": "markdown",
   "metadata": {},
   "source": [
    "## Table of Contents"
   ]
  },
  {
   "cell_type": "markdown",
   "metadata": {},
   "source": [
    "## Setting Up the Environment"
   ]
  },
  {
   "cell_type": "code",
   "execution_count": 832,
   "metadata": {},
   "outputs": [],
   "source": [
    "# !pip install numpy\n",
    "# !pip install pandas\n",
    "# !pip install scikit-learn\n"
   ]
  },
  {
   "cell_type": "code",
   "execution_count": 833,
   "metadata": {},
   "outputs": [],
   "source": [
    "import pandas as pd\n",
    "import numpy as np\n",
    "from sklearn.preprocessing import StandardScaler\n",
    "from sklearn.pipeline import Pipeline\n",
    "from sklearn.calibration import LabelEncoder\n",
    "import csv\n",
    "from io import StringIO\n",
    "\n",
    "\n",
    "\n",
    "import warnings\n",
    "warnings.filterwarnings(\"ignore\")"
   ]
  },
  {
   "cell_type": "markdown",
   "metadata": {},
   "source": [
    "## Data Preparation"
   ]
  },
  {
   "cell_type": "markdown",
   "metadata": {},
   "source": [
    "### Dataset Description"
   ]
  },
  {
   "cell_type": "markdown",
   "metadata": {},
   "source": [
    "In 2014, some researchers published an article called \"Impact of c1HbA Measurement on Hospital Readmission Rates: Analysis of 70,000 Clinical Database Patient Records.\" They gathered data on diabetic patients from many hospitals and clinics in America. Some of this data, about 200,000 items with 50 features, has been shared with the public in a way that keeps people's identities private.\n",
    "\n",
    "Features\n",
    "\n",
    "- Encounter ID:\tUnique identifier of an encounter\n",
    "- Patient number: Unique identifier of a patient\n",
    "- Race: Caucasian, Asian, African American, Hispanic, and other\t2%\n",
    "- Gender: male, female, and unknown/invalid\t0%\n",
    "- Age: Grouped in 10-year intervals: 0, 10), 10, 20), …, 90, 100)\t0%\n",
    "- Weight: Weight in pounds.\t97%\n",
    "- Admission type: Integer identifier corresponding to 9 distinct values, for example, emergency, urgent, elective, - newborn, and not available\t0%\n",
    "- Discharge disposition:\tInteger identifier corresponding to 29 distinct values, for example, discharged to home, - expired, and not available\t0%\n",
    "- Admission source: Integer identifier corresponding to 21 distinct values, for example, physician referral, emergency room, and transfer from a hospital\t0%\n",
    "- Time in hospital: Integer number of days between admission and discharge\t0%\n",
    "- Payer code: Integer identifier corresponding to 23 distinct values, for example, Blue Cross/Blue Shield, Medicare, - and self-pay\t52%\n",
    "- Medical specialty: Integer identifier of a specialty of the admitting physician, corresponding to 84 distinct values, for example, cardiology, internal medicine, family/general practice, and surgeon\t53%\n",
    "- Number of lab procedures: Number of lab tests performed during the encounter\t0%\n",
    "- Number of procedures: Number of procedures (other than lab tests) performed during the encounter\t0%\n",
    "- Number of medications: Number of distinct generic names administered during the encounter\t0%\n",
    "- Number of outpatient visits: Number of outpatient visits of the patient in the year preceding the encounter\t0%\n",
    "- Number of emergency visits: Number of emergency visits of the patient in the year preceding the encounter\t0%\n",
    "- Number of inpatient visits: Number of inpatient visits of the patient in the year preceding the encounter\t0%\n",
    "- Diagnosis 1: The primary diagnosis (coded as first three digits of ICD9); 848 distinct values\t0%\n",
    "- Diagnosis 2: Secondary diagnosis (coded as first three digits of ICD9); 923 distinct values\t0%\n",
    "- Diagnosis 3: Additional secondary diagnosis (coded as first three digits of ICD9); 954 distinct values\t1%\n",
    "- Number of diagnoses: Number of diagnoses entered to the system\t0%\n",
    "- Glucose serum test result: Indicates the range of the result or if the test was not taken. Values: “>200,” “>300,” “normal,” and “none” if not measured\t0%\n",
    "- A1c test result: Indicates the range of the result or if the test was not taken. Values: “>8” if the result was greater than 8%, “>7” if the result was greater than 7% but less than 8%, “normal” if the result was less than 7%, and “none” if not measured.\t0%\n",
    "- Change of medications: Indicates if there was a change in diabetic medications (either dosage or generic name). Values: “change” and “no change”\t0%\n",
    "- Diabetes medications: Indicates if there was any diabetic medication prescribed. Values: “yes” and “no”\t0%\n",
    "- 24 features for medications: For the generic names: `metformin`, `repaglinide`, `nateglinide`, `chlorpropamide`, `glimepiride`, `acetohexamide`, `glipizide`, `glyburide`, `tolbutamide`, `pioglitazone`, `rosiglitazone`, `acarbose`, `miglitol`, `troglitazone`, `tolazamide`, `examide`, `sitagliptin`, `insulin`, `glyburide-metformin`, `glipizide-metformin`, `glimepiride-pioglitazone`, `metformin-rosiglitazone`, `and metformin-pioglitazone`, the feature indicates whether the drug was prescribed or there was a change in the dosage. Values: “up” if the dosage was increased during the encounter, “down” if the dosage was decreased, “steady” if the dosage did not change, and “no” if the drug was not prescribed\t0%\n",
    "- Readmitted: Days to inpatient readmission. Values: “<30” if the patient was readmitted in less than 30 days, “>30” if the patient was readmitted in more than 30 days, and “No” for no record of readmission."
   ]
  },
  {
   "cell_type": "markdown",
   "metadata": {},
   "source": [
    "### Loading the Dataset"
   ]
  },
  {
   "cell_type": "code",
   "execution_count": 834,
   "metadata": {},
   "outputs": [
    {
     "data": {
      "text/html": [
       "<div>\n",
       "<style scoped>\n",
       "    .dataframe tbody tr th:only-of-type {\n",
       "        vertical-align: middle;\n",
       "    }\n",
       "\n",
       "    .dataframe tbody tr th {\n",
       "        vertical-align: top;\n",
       "    }\n",
       "\n",
       "    .dataframe thead th {\n",
       "        text-align: right;\n",
       "    }\n",
       "</style>\n",
       "<table border=\"1\" class=\"dataframe\">\n",
       "  <thead>\n",
       "    <tr style=\"text-align: right;\">\n",
       "      <th></th>\n",
       "      <th>encounter_id</th>\n",
       "      <th>patient_nbr</th>\n",
       "      <th>race</th>\n",
       "      <th>gender</th>\n",
       "      <th>age</th>\n",
       "      <th>weight</th>\n",
       "      <th>admission_type_id</th>\n",
       "      <th>discharge_disposition_id</th>\n",
       "      <th>admission_source_id</th>\n",
       "      <th>time_in_hospital</th>\n",
       "      <th>...</th>\n",
       "      <th>citoglipton</th>\n",
       "      <th>insulin</th>\n",
       "      <th>glyburide-metformin</th>\n",
       "      <th>glipizide-metformin</th>\n",
       "      <th>glimepiride-pioglitazone</th>\n",
       "      <th>metformin-rosiglitazone</th>\n",
       "      <th>metformin-pioglitazone</th>\n",
       "      <th>change</th>\n",
       "      <th>diabetesMed</th>\n",
       "      <th>readmitted</th>\n",
       "    </tr>\n",
       "  </thead>\n",
       "  <tbody>\n",
       "    <tr>\n",
       "      <th>0</th>\n",
       "      <td>2278392</td>\n",
       "      <td>8222157</td>\n",
       "      <td>Caucasian</td>\n",
       "      <td>Female</td>\n",
       "      <td>[0-10)</td>\n",
       "      <td>?</td>\n",
       "      <td>6</td>\n",
       "      <td>25</td>\n",
       "      <td>1</td>\n",
       "      <td>1</td>\n",
       "      <td>...</td>\n",
       "      <td>No</td>\n",
       "      <td>No</td>\n",
       "      <td>No</td>\n",
       "      <td>No</td>\n",
       "      <td>No</td>\n",
       "      <td>No</td>\n",
       "      <td>No</td>\n",
       "      <td>No</td>\n",
       "      <td>No</td>\n",
       "      <td>NO</td>\n",
       "    </tr>\n",
       "    <tr>\n",
       "      <th>1</th>\n",
       "      <td>149190</td>\n",
       "      <td>55629189</td>\n",
       "      <td>Caucasian</td>\n",
       "      <td>Female</td>\n",
       "      <td>[10-20)</td>\n",
       "      <td>?</td>\n",
       "      <td>1</td>\n",
       "      <td>1</td>\n",
       "      <td>7</td>\n",
       "      <td>3</td>\n",
       "      <td>...</td>\n",
       "      <td>No</td>\n",
       "      <td>Up</td>\n",
       "      <td>No</td>\n",
       "      <td>No</td>\n",
       "      <td>No</td>\n",
       "      <td>No</td>\n",
       "      <td>No</td>\n",
       "      <td>Ch</td>\n",
       "      <td>Yes</td>\n",
       "      <td>&gt;30</td>\n",
       "    </tr>\n",
       "    <tr>\n",
       "      <th>2</th>\n",
       "      <td>64410</td>\n",
       "      <td>86047875</td>\n",
       "      <td>AfricanAmerican</td>\n",
       "      <td>Female</td>\n",
       "      <td>[20-30)</td>\n",
       "      <td>?</td>\n",
       "      <td>1</td>\n",
       "      <td>1</td>\n",
       "      <td>7</td>\n",
       "      <td>2</td>\n",
       "      <td>...</td>\n",
       "      <td>No</td>\n",
       "      <td>No</td>\n",
       "      <td>No</td>\n",
       "      <td>No</td>\n",
       "      <td>No</td>\n",
       "      <td>No</td>\n",
       "      <td>No</td>\n",
       "      <td>No</td>\n",
       "      <td>Yes</td>\n",
       "      <td>NO</td>\n",
       "    </tr>\n",
       "    <tr>\n",
       "      <th>3</th>\n",
       "      <td>500364</td>\n",
       "      <td>82442376</td>\n",
       "      <td>Caucasian</td>\n",
       "      <td>Male</td>\n",
       "      <td>[30-40)</td>\n",
       "      <td>?</td>\n",
       "      <td>1</td>\n",
       "      <td>1</td>\n",
       "      <td>7</td>\n",
       "      <td>2</td>\n",
       "      <td>...</td>\n",
       "      <td>No</td>\n",
       "      <td>Up</td>\n",
       "      <td>No</td>\n",
       "      <td>No</td>\n",
       "      <td>No</td>\n",
       "      <td>No</td>\n",
       "      <td>No</td>\n",
       "      <td>Ch</td>\n",
       "      <td>Yes</td>\n",
       "      <td>NO</td>\n",
       "    </tr>\n",
       "    <tr>\n",
       "      <th>4</th>\n",
       "      <td>16680</td>\n",
       "      <td>42519267</td>\n",
       "      <td>Caucasian</td>\n",
       "      <td>Male</td>\n",
       "      <td>[40-50)</td>\n",
       "      <td>?</td>\n",
       "      <td>1</td>\n",
       "      <td>1</td>\n",
       "      <td>7</td>\n",
       "      <td>1</td>\n",
       "      <td>...</td>\n",
       "      <td>No</td>\n",
       "      <td>Steady</td>\n",
       "      <td>No</td>\n",
       "      <td>No</td>\n",
       "      <td>No</td>\n",
       "      <td>No</td>\n",
       "      <td>No</td>\n",
       "      <td>Ch</td>\n",
       "      <td>Yes</td>\n",
       "      <td>NO</td>\n",
       "    </tr>\n",
       "  </tbody>\n",
       "</table>\n",
       "<p>5 rows × 50 columns</p>\n",
       "</div>"
      ],
      "text/plain": [
       "   encounter_id  patient_nbr             race  gender      age weight  \\\n",
       "0       2278392      8222157        Caucasian  Female   [0-10)      ?   \n",
       "1        149190     55629189        Caucasian  Female  [10-20)      ?   \n",
       "2         64410     86047875  AfricanAmerican  Female  [20-30)      ?   \n",
       "3        500364     82442376        Caucasian    Male  [30-40)      ?   \n",
       "4         16680     42519267        Caucasian    Male  [40-50)      ?   \n",
       "\n",
       "   admission_type_id  discharge_disposition_id  admission_source_id  \\\n",
       "0                  6                        25                    1   \n",
       "1                  1                         1                    7   \n",
       "2                  1                         1                    7   \n",
       "3                  1                         1                    7   \n",
       "4                  1                         1                    7   \n",
       "\n",
       "   time_in_hospital  ... citoglipton insulin  glyburide-metformin  \\\n",
       "0                 1  ...          No      No                   No   \n",
       "1                 3  ...          No      Up                   No   \n",
       "2                 2  ...          No      No                   No   \n",
       "3                 2  ...          No      Up                   No   \n",
       "4                 1  ...          No  Steady                   No   \n",
       "\n",
       "   glipizide-metformin  glimepiride-pioglitazone  metformin-rosiglitazone  \\\n",
       "0                   No                        No                       No   \n",
       "1                   No                        No                       No   \n",
       "2                   No                        No                       No   \n",
       "3                   No                        No                       No   \n",
       "4                   No                        No                       No   \n",
       "\n",
       "   metformin-pioglitazone  change diabetesMed readmitted  \n",
       "0                      No      No          No         NO  \n",
       "1                      No      Ch         Yes        >30  \n",
       "2                      No      No         Yes         NO  \n",
       "3                      No      Ch         Yes         NO  \n",
       "4                      No      Ch         Yes         NO  \n",
       "\n",
       "[5 rows x 50 columns]"
      ]
     },
     "execution_count": 834,
     "metadata": {},
     "output_type": "execute_result"
    }
   ],
   "source": [
    "df = pd.read_csv('diabetic_data.csv')\n",
    "df.head()"
   ]
  },
  {
   "cell_type": "markdown",
   "metadata": {},
   "source": [
    "Store mapping of feature names to their descriptions in a dictionary."
   ]
  },
  {
   "cell_type": "code",
   "execution_count": 835,
   "metadata": {},
   "outputs": [],
   "source": [
    "def csv_to_dict(csv_string, header):\n",
    "    if header:\n",
    "        csv_string = csv_string.split(\"\\n\", 1)[1]\n",
    "\n",
    "    csv_file = StringIO(csv_string)\n",
    "    dictionary = {}\n",
    "    reader = csv.reader(csv_file, delimiter=',', quotechar='\"')\n",
    "\n",
    "    for row in reader:\n",
    "        key, value = row\n",
    "        dictionary[key] = value\n",
    "\n",
    "    return dictionary"
   ]
  },
  {
   "cell_type": "code",
   "execution_count": 836,
   "metadata": {},
   "outputs": [
    {
     "name": "stdout",
     "output_type": "stream",
     "text": [
      "{'1': 'Emergency', '2': 'Urgent', '3': 'Elective', '4': 'Newborn', '5': 'Not Available', '6': 'NULL', '7': 'Trauma Center', '8': 'Not Mapped'}\n",
      "{'1': 'Discharged to home', '2': 'Discharged/transferred to another short term hospital', '3': 'Discharged/transferred to SNF', '4': 'Discharged/transferred to ICF', '5': 'Discharged/transferred to another type of inpatient care institution', '6': 'Discharged/transferred to home with home health service', '7': 'Left AMA', '8': 'Discharged/transferred to home under care of Home IV provider', '9': 'Admitted as an inpatient to this hospital', '10': 'Neonate discharged to another hospital for neonatal aftercare', '11': 'Expired', '12': 'Still patient or expected to return for outpatient services', '13': 'Hospice / home', '14': 'Hospice / medical facility', '15': 'Discharged/transferred within this institution to Medicare approved swing bed', '16': 'Discharged/transferred/referred another institution for outpatient services', '17': 'Discharged/transferred/referred to this institution for outpatient services', '18': 'NULL', '19': 'Expired at home. Medicaid only, hospice.', '20': 'Expired in a medical facility. Medicaid only, hospice.', '21': 'Expired, place unknown. Medicaid only, hospice.', '22': 'Discharged/transferred to another rehab fac including rehab units of a hospital .', '23': 'Discharged/transferred to a long term care hospital.', '24': 'Discharged/transferred to a nursing facility certified under Medicaid but not certified under Medicare.', '25': 'Not Mapped', '26': 'Unknown/Invalid', '30': 'Discharged/transferred to another Type of Health Care Institution not Defined Elsewhere', '27': 'Discharged/transferred to a federal health care facility.', '28': 'Discharged/transferred/referred to a psychiatric hospital of psychiatric distinct part unit of a hospital', '29': 'Discharged/transferred to a Critical Access Hospital (CAH).'}\n",
      "{'1': ' Physician Referral', '2': 'Clinic Referral', '3': 'HMO Referral', '4': 'Transfer from a hospital', '5': ' Transfer from a Skilled Nursing Facility (SNF)', '6': ' Transfer from another health care facility', '7': ' Emergency Room', '8': ' Court/Law Enforcement', '9': ' Not Available', '10': ' Transfer from critial access hospital', '11': 'Normal Delivery', '12': ' Premature Delivery', '13': ' Sick Baby', '14': ' Extramural Birth', '15': 'Not Available', '17': 'NULL', '18': ' Transfer From Another Home Health Agency', '19': 'Readmission to Same Home Health Agency', '20': ' Not Mapped', '21': 'Unknown/Invalid', '22': ' Transfer from hospital inpt/same fac reslt in a sep claim', '23': ' Born inside this hospital', '24': ' Born outside this hospital', '25': ' Transfer from Ambulatory Surgery Center', '26': 'Transfer from Hospice'}\n"
     ]
    }
   ],
   "source": [
    "with open('IDs_mapping.csv', 'r') as file:\n",
    "    csv_data = file.read()\n",
    "\n",
    "admission_type, discharge_disposition, admission_source = csv_data.split('\\n,\\n')\n",
    "\n",
    "admission_type_mapping = csv_to_dict(admission_type, header=True)\n",
    "discharge_disposition_mapping = csv_to_dict(discharge_disposition, header=True)\n",
    "admission_source_mapping = csv_to_dict(admission_source, header=True)\n",
    "\n",
    "print(admission_type_mapping)\n",
    "print(discharge_disposition_mapping)\n",
    "print(admission_source_mapping)\n"
   ]
  },
  {
   "cell_type": "markdown",
   "metadata": {},
   "source": [
    "### Preprocessing"
   ]
  },
  {
   "cell_type": "code",
   "execution_count": 837,
   "metadata": {},
   "outputs": [
    {
     "name": "stdout",
     "output_type": "stream",
     "text": [
      "encounter_id                 int64\n",
      "patient_nbr                  int64\n",
      "race                        object\n",
      "gender                      object\n",
      "age                         object\n",
      "weight                      object\n",
      "admission_type_id            int64\n",
      "discharge_disposition_id     int64\n",
      "admission_source_id          int64\n",
      "time_in_hospital             int64\n",
      "payer_code                  object\n",
      "medical_specialty           object\n",
      "num_lab_procedures           int64\n",
      "num_procedures               int64\n",
      "num_medications              int64\n",
      "number_outpatient            int64\n",
      "number_emergency             int64\n",
      "number_inpatient             int64\n",
      "diag_1                      object\n",
      "diag_2                      object\n",
      "diag_3                      object\n",
      "number_diagnoses             int64\n",
      "max_glu_serum               object\n",
      "A1Cresult                   object\n",
      "metformin                   object\n",
      "repaglinide                 object\n",
      "nateglinide                 object\n",
      "chlorpropamide              object\n",
      "glimepiride                 object\n",
      "acetohexamide               object\n",
      "glipizide                   object\n",
      "glyburide                   object\n",
      "tolbutamide                 object\n",
      "pioglitazone                object\n",
      "rosiglitazone               object\n",
      "acarbose                    object\n",
      "miglitol                    object\n",
      "troglitazone                object\n",
      "tolazamide                  object\n",
      "examide                     object\n",
      "citoglipton                 object\n",
      "insulin                     object\n",
      "glyburide-metformin         object\n",
      "glipizide-metformin         object\n",
      "glimepiride-pioglitazone    object\n",
      "metformin-rosiglitazone     object\n",
      "metformin-pioglitazone      object\n",
      "change                      object\n",
      "diabetesMed                 object\n",
      "readmitted                  object\n",
      "dtype: object\n"
     ]
    }
   ],
   "source": [
    "print(df.dtypes)"
   ]
  },
  {
   "cell_type": "markdown",
   "metadata": {},
   "source": [
    "As we saw in the previous section, there is \"?\" in the dataset. We need to replace them with NaN values."
   ]
  },
  {
   "cell_type": "code",
   "execution_count": 838,
   "metadata": {},
   "outputs": [],
   "source": [
    "df = df.replace('?', np.nan)\n",
    "df = df.replace('None', np.nan)"
   ]
  },
  {
   "cell_type": "markdown",
   "metadata": {},
   "source": [
    "#### Missing Values"
   ]
  },
  {
   "cell_type": "markdown",
   "metadata": {},
   "source": [
    "A function to calculate the percentage of missing values in each column."
   ]
  },
  {
   "cell_type": "code",
   "execution_count": 839,
   "metadata": {},
   "outputs": [],
   "source": [
    "def null_percentage(df):\n",
    "    missing = df.isnull().sum()\n",
    "    missing = missing[missing > 0]\n",
    "    missing_percentage = missing / df.shape[0] * 100\n",
    "    missing_info = pd.DataFrame({'missing': missing, 'missing_percentage': missing_percentage})\n",
    "    missing_info = missing_info.sort_values(by='missing', ascending=False)\n",
    "    print(missing_info)\n",
    "    return missing_info"
   ]
  },
  {
   "cell_type": "code",
   "execution_count": 840,
   "metadata": {},
   "outputs": [
    {
     "name": "stdout",
     "output_type": "stream",
     "text": [
      "                   missing  missing_percentage\n",
      "weight               98569           96.858479\n",
      "max_glu_serum        96420           94.746772\n",
      "A1Cresult            84748           83.277322\n",
      "medical_specialty    49949           49.082208\n",
      "payer_code           40256           39.557416\n",
      "race                  2273            2.233555\n",
      "diag_3                1423            1.398306\n",
      "diag_2                 358            0.351787\n",
      "diag_1                  21            0.020636\n"
     ]
    }
   ],
   "source": [
    "missing_info = null_percentage(df)"
   ]
  },
  {
   "cell_type": "code",
   "execution_count": 841,
   "metadata": {},
   "outputs": [
    {
     "name": "stdout",
     "output_type": "stream",
     "text": [
      "Index(['weight', 'max_glu_serum', 'A1Cresult', 'medical_specialty',\n",
      "       'payer_code'],\n",
      "      dtype='object')\n"
     ]
    }
   ],
   "source": [
    "missing_cols = missing_info[missing_info['missing_percentage'] > 30].index\n",
    "print(missing_cols)\n",
    "df = df.drop(missing_cols, axis=1)"
   ]
  },
  {
   "cell_type": "code",
   "execution_count": 842,
   "metadata": {},
   "outputs": [],
   "source": [
    "df = df.dropna()"
   ]
  },
  {
   "cell_type": "code",
   "execution_count": 843,
   "metadata": {},
   "outputs": [
    {
     "name": "stdout",
     "output_type": "stream",
     "text": [
      "Empty DataFrame\n",
      "Columns: [missing, missing_percentage]\n",
      "Index: []\n"
     ]
    }
   ],
   "source": [
    "missing_info = null_percentage(df)"
   ]
  },
  {
   "cell_type": "markdown",
   "metadata": {},
   "source": [
    "#### Duplicates"
   ]
  },
  {
   "cell_type": "markdown",
   "metadata": {},
   "source": [
    "There is no duplicate data in the dataset."
   ]
  },
  {
   "cell_type": "code",
   "execution_count": 844,
   "metadata": {},
   "outputs": [
    {
     "name": "stdout",
     "output_type": "stream",
     "text": [
      "0\n"
     ]
    }
   ],
   "source": [
    "print(df['encounter_id'].duplicated().sum())"
   ]
  },
  {
   "cell_type": "markdown",
   "metadata": {},
   "source": [
    "We don't need id columns, so we drop them."
   ]
  },
  {
   "cell_type": "code",
   "execution_count": 845,
   "metadata": {},
   "outputs": [],
   "source": [
    "df.drop(['encounter_id', 'patient_nbr'], axis=1, inplace=True)"
   ]
  },
  {
   "cell_type": "markdown",
   "metadata": {},
   "source": [
    "#### Type Conversion"
   ]
  },
  {
   "cell_type": "markdown",
   "metadata": {},
   "source": [
    "Non numerical columns are converted to numerical columns."
   ]
  },
  {
   "cell_type": "code",
   "execution_count": 846,
   "metadata": {},
   "outputs": [
    {
     "data": {
      "text/plain": [
       "Index(['race', 'gender', 'age', 'diag_1', 'diag_2', 'diag_3', 'metformin',\n",
       "       'repaglinide', 'nateglinide', 'chlorpropamide', 'glimepiride',\n",
       "       'acetohexamide', 'glipizide', 'glyburide', 'tolbutamide',\n",
       "       'pioglitazone', 'rosiglitazone', 'acarbose', 'miglitol', 'troglitazone',\n",
       "       'tolazamide', 'examide', 'citoglipton', 'insulin',\n",
       "       'glyburide-metformin', 'glipizide-metformin',\n",
       "       'glimepiride-pioglitazone', 'metformin-rosiglitazone',\n",
       "       'metformin-pioglitazone', 'change', 'diabetesMed', 'readmitted'],\n",
       "      dtype='object')"
      ]
     },
     "execution_count": 846,
     "metadata": {},
     "output_type": "execute_result"
    }
   ],
   "source": [
    "df.select_dtypes(exclude=np.number).columns"
   ]
  },
  {
   "cell_type": "code",
   "execution_count": 847,
   "metadata": {},
   "outputs": [],
   "source": [
    "def encode_onehot(df, column):\n",
    "    onehot = pd.get_dummies(df[column], prefix=column)\n",
    "    df = pd.concat([df, onehot], axis=1)\n",
    "    df = df.drop(column, axis=1)\n",
    "    return df\n",
    "\n",
    "def encode_label(df, column):\n",
    "    le = LabelEncoder()\n",
    "    df[column] = le.fit_transform(df[column])\n",
    "    mapping = dict(zip(le.classes_, le.transform(le.classes_)))\n",
    "    return mapping, df"
   ]
  },
  {
   "cell_type": "markdown",
   "metadata": {},
   "source": [
    "##### Race"
   ]
  },
  {
   "cell_type": "code",
   "execution_count": 848,
   "metadata": {},
   "outputs": [
    {
     "data": {
      "text/plain": [
       "Caucasian          75079\n",
       "AfricanAmerican    18881\n",
       "Hispanic            1984\n",
       "Other               1484\n",
       "Asian                625\n",
       "Name: race, dtype: int64"
      ]
     },
     "execution_count": 848,
     "metadata": {},
     "output_type": "execute_result"
    }
   ],
   "source": [
    "df['race'].value_counts()"
   ]
  },
  {
   "cell_type": "code",
   "execution_count": 849,
   "metadata": {},
   "outputs": [],
   "source": [
    "df = encode_onehot(df, 'race')"
   ]
  },
  {
   "cell_type": "markdown",
   "metadata": {},
   "source": [
    "##### Gender"
   ]
  },
  {
   "cell_type": "code",
   "execution_count": 850,
   "metadata": {},
   "outputs": [
    {
     "data": {
      "text/plain": [
       "Female             52833\n",
       "Male               45219\n",
       "Unknown/Invalid        1\n",
       "Name: gender, dtype: int64"
      ]
     },
     "execution_count": 850,
     "metadata": {},
     "output_type": "execute_result"
    }
   ],
   "source": [
    "df['gender'].value_counts()"
   ]
  },
  {
   "cell_type": "code",
   "execution_count": 851,
   "metadata": {},
   "outputs": [],
   "source": [
    "df = df[df['gender'] != 'Unknown/Invalid']\n",
    "\n",
    "df = encode_onehot(df, 'gender')"
   ]
  },
  {
   "cell_type": "markdown",
   "metadata": {},
   "source": [
    "##### Age"
   ]
  },
  {
   "cell_type": "code",
   "execution_count": 852,
   "metadata": {},
   "outputs": [
    {
     "data": {
      "text/plain": [
       "[70-80)     25305\n",
       "[60-70)     21809\n",
       "[80-90)     16702\n",
       "[50-60)     16697\n",
       "[40-50)      9265\n",
       "[30-40)      3548\n",
       "[90-100)     2717\n",
       "[20-30)      1478\n",
       "[10-20)       466\n",
       "[0-10)         65\n",
       "Name: age, dtype: int64"
      ]
     },
     "execution_count": 852,
     "metadata": {},
     "output_type": "execute_result"
    }
   ],
   "source": [
    "df['age'].value_counts()"
   ]
  },
  {
   "cell_type": "code",
   "execution_count": 853,
   "metadata": {},
   "outputs": [],
   "source": [
    "age_mapping = {\"[0-10)\": 0, \"[10-20)\": 1, \"[20-30)\": 2,\n",
    "               \"[30-40)\": 3, \"[40-50)\": 4, \"[50-60)\": 5,\n",
    "               \"[60-70)\": 6, \"[70-80)\": 7, \"[80-90)\": 8,\n",
    "               \"[90-100)\": 9}\n",
    "\n",
    "df['age'] = df['age'].replace(age_mapping)"
   ]
  },
  {
   "cell_type": "markdown",
   "metadata": {},
   "source": [
    "##### Diag"
   ]
  },
  {
   "cell_type": "markdown",
   "metadata": {},
   "source": [
    "diag_1 is the primary diagnosis 848 distinct values, diag_2 is the secondary diagnosis 923 distinct values, and diag_3 is the additional secondary diagnosis 954 distinct values.\n",
    "\n",
    "Each diag is coded as first three digits of ICD9.\n",
    "\n",
    "ICD-9 codes are used to classify diseases and injuries. The first three digits of the ICD-9 code represent the category of the diagnosis.\n",
    "\n",
    "- 001–139: infectious and parasitic diseases\n",
    "- 140–239: neoplasms\n",
    "- 240–279: endocrine, nutritional and metabolic diseases, and immunity disorders\n",
    "- 280–289: diseases of the blood and blood-forming organs\n",
    "- 290–319: mental disorders\n",
    "- 320–389: diseases of the nervous system and sense organs\n",
    "- 390–459: diseases of the circulatory system\n",
    "- 460–519: diseases of the respiratory system\n",
    "- 520–579: diseases of the digestive system\n",
    "- 580–629: diseases of the genitourinary system\n",
    "- 630–679: complications of pregnancy, childbirth, and the puerperium\n",
    "- 680–709: diseases of the skin and subcutaneous tissue\n",
    "- 710–739: diseases of the musculoskeletal system and connective tissue\n",
    "- 740–759: congenital anomalies\n",
    "- 760–779: certain conditions originating in the perinatal period\n",
    "- 780–799: symptoms, signs, and ill-defined conditions\n",
    "- 800–999: injury and poisoning\n",
    "- E and V codes: external causes of injury and supplemental classification"
   ]
  },
  {
   "cell_type": "code",
   "execution_count": 854,
   "metadata": {},
   "outputs": [],
   "source": [
    "ranges = [\n",
    "    (1, 139, 1),\n",
    "    (140, 239, 2),\n",
    "    (240, 279, 3),\n",
    "    (280, 289, 4),\n",
    "    (290, 319, 5),\n",
    "    (320, 389, 6),\n",
    "    (390, 459, 7),\n",
    "    (460, 519, 8),\n",
    "    (520, 579, 9),\n",
    "    (580, 629, 10),\n",
    "    (630, 679, 11),\n",
    "    (680, 709, 12),\n",
    "    (710, 739, 13),\n",
    "    (740, 759, 14),\n",
    "    (760, 779, 15),\n",
    "    (780, 799, 16),\n",
    "    (800, 999, 17)\n",
    "]\n",
    "\n",
    "def map_diag_code(code):\n",
    "    try:\n",
    "        num_code = int(code)\n",
    "        for start, end, label in ranges:\n",
    "            if start <= num_code <= end:\n",
    "                return label\n",
    "    except ValueError:\n",
    "        if code.startswith('E') or code.startswith('V'):\n",
    "            return 18\n",
    "    return 0"
   ]
  },
  {
   "cell_type": "code",
   "execution_count": 855,
   "metadata": {},
   "outputs": [],
   "source": [
    "df['diag_1'] = df['diag_1'].apply(map_diag_code)\n",
    "df['diag_2'] = df['diag_2'].apply(map_diag_code)\n",
    "df['diag_3'] = df['diag_3'].apply(map_diag_code)"
   ]
  },
  {
   "cell_type": "markdown",
   "metadata": {},
   "source": [
    "##### 24 features for medications"
   ]
  },
  {
   "cell_type": "markdown",
   "metadata": {},
   "source": [
    "We use label encoding for these columns."
   ]
  },
  {
   "cell_type": "code",
   "execution_count": 856,
   "metadata": {},
   "outputs": [],
   "source": [
    "medication_cols = ['metformin', 'repaglinide', 'nateglinide', 'chlorpropamide',\n",
    "               'glimepiride', 'acetohexamide', 'glipizide', 'glyburide',\n",
    "               'tolbutamide', 'pioglitazone', 'rosiglitazone', 'acarbose',\n",
    "               'miglitol', 'troglitazone', 'tolazamide', 'examide', 'citoglipton',\n",
    "               'insulin', 'glyburide-metformin', 'glipizide-metformin',\n",
    "               'glimepiride-pioglitazone', 'metformin-rosiglitazone',\n",
    "               'metformin-pioglitazone']\n",
    "\n",
    "medication_mapping = { 'No': 0, 'Steady': 1, 'Up': 2, 'Down': 3 }\n",
    "\n",
    "for col in medication_cols:\n",
    "    df[col] = df[col].replace(medication_mapping)\n"
   ]
  },
  {
   "cell_type": "markdown",
   "metadata": {},
   "source": [
    "##### Change"
   ]
  },
  {
   "cell_type": "code",
   "execution_count": 857,
   "metadata": {},
   "outputs": [
    {
     "name": "stdout",
     "output_type": "stream",
     "text": [
      "{'Ch': 0, 'No': 1}\n"
     ]
    }
   ],
   "source": [
    "change_mapping, df = encode_label(df, 'change')\n",
    "print(change_mapping)"
   ]
  },
  {
   "cell_type": "markdown",
   "metadata": {},
   "source": [
    "##### DiabetesMed"
   ]
  },
  {
   "cell_type": "code",
   "execution_count": 858,
   "metadata": {},
   "outputs": [
    {
     "name": "stdout",
     "output_type": "stream",
     "text": [
      "{'No': 0, 'Yes': 1}\n"
     ]
    }
   ],
   "source": [
    "diabetes_med_mapping, df = encode_label(df, 'diabetesMed')\n",
    "print(diabetes_med_mapping)"
   ]
  },
  {
   "cell_type": "markdown",
   "metadata": {},
   "source": [
    "##### Readmitted"
   ]
  },
  {
   "cell_type": "code",
   "execution_count": 859,
   "metadata": {},
   "outputs": [],
   "source": [
    "def map_readmitted(value):\n",
    "    if value == 'NO':\n",
    "        return 0\n",
    "    elif value == '>30':\n",
    "        return 1\n",
    "    else:\n",
    "        return 2"
   ]
  },
  {
   "cell_type": "code",
   "execution_count": 860,
   "metadata": {},
   "outputs": [],
   "source": [
    "df['readmitted'] = df['readmitted'].apply(map_readmitted)"
   ]
  },
  {
   "cell_type": "markdown",
   "metadata": {},
   "source": [
    "**This far we have dropped the columns that have more than 50% missing values, and we have converted the non-numerical columns to numerical columns. Also handled the missing values and the duplicates.**"
   ]
  },
  {
   "cell_type": "code",
   "execution_count": 861,
   "metadata": {},
   "outputs": [
    {
     "data": {
      "text/plain": [
       "0"
      ]
     },
     "execution_count": 861,
     "metadata": {},
     "output_type": "execute_result"
    }
   ],
   "source": [
    "len(df.select_dtypes(exclude=np.number).columns)"
   ]
  },
  {
   "cell_type": "markdown",
   "metadata": {},
   "source": [
    "#### Normalization"
   ]
  },
  {
   "cell_type": "markdown",
   "metadata": {},
   "source": [
    "StandardScaler is a preprocessing technique in machine learning used to standardize the features by removing the mean and scaling them to unit variance. This ensures that each feature has a mean of 0 and a standard deviation of 1.\n",
    "\n",
    "Standardization is often performed on al features in datasets before training machine learning models. It helps in situations where the features have different scales or units, ensuring that each feature contributes equally to the analysis and preventing features with larger scales from dominating the model's training process."
   ]
  },
  {
   "cell_type": "code",
   "execution_count": 862,
   "metadata": {},
   "outputs": [
    {
     "data": {
      "text/html": [
       "<div>\n",
       "<style scoped>\n",
       "    .dataframe tbody tr th:only-of-type {\n",
       "        vertical-align: middle;\n",
       "    }\n",
       "\n",
       "    .dataframe tbody tr th {\n",
       "        vertical-align: top;\n",
       "    }\n",
       "\n",
       "    .dataframe thead th {\n",
       "        text-align: right;\n",
       "    }\n",
       "</style>\n",
       "<table border=\"1\" class=\"dataframe\">\n",
       "  <thead>\n",
       "    <tr style=\"text-align: right;\">\n",
       "      <th></th>\n",
       "      <th>age</th>\n",
       "      <th>admission_type_id</th>\n",
       "      <th>discharge_disposition_id</th>\n",
       "      <th>admission_source_id</th>\n",
       "      <th>time_in_hospital</th>\n",
       "      <th>num_lab_procedures</th>\n",
       "      <th>num_procedures</th>\n",
       "      <th>num_medications</th>\n",
       "      <th>number_outpatient</th>\n",
       "      <th>number_emergency</th>\n",
       "      <th>...</th>\n",
       "      <th>change</th>\n",
       "      <th>diabetesMed</th>\n",
       "      <th>readmitted</th>\n",
       "      <th>race_AfricanAmerican</th>\n",
       "      <th>race_Asian</th>\n",
       "      <th>race_Caucasian</th>\n",
       "      <th>race_Hispanic</th>\n",
       "      <th>race_Other</th>\n",
       "      <th>gender_Female</th>\n",
       "      <th>gender_Male</th>\n",
       "    </tr>\n",
       "  </thead>\n",
       "  <tbody>\n",
       "    <tr>\n",
       "      <th>0</th>\n",
       "      <td>-3.287868</td>\n",
       "      <td>-0.707395</td>\n",
       "      <td>-0.51859</td>\n",
       "      <td>0.300436</td>\n",
       "      <td>-0.475104</td>\n",
       "      <td>0.804171</td>\n",
       "      <td>-0.790599</td>\n",
       "      <td>0.231907</td>\n",
       "      <td>-0.293279</td>\n",
       "      <td>-0.214727</td>\n",
       "      <td>...</td>\n",
       "      <td>-1.079609</td>\n",
       "      <td>0.548896</td>\n",
       "      <td>0.614311</td>\n",
       "      <td>-0.488348</td>\n",
       "      <td>-0.080094</td>\n",
       "      <td>0.553159</td>\n",
       "      <td>-0.143708</td>\n",
       "      <td>-0.123923</td>\n",
       "      <td>0.925141</td>\n",
       "      <td>-0.925141</td>\n",
       "    </tr>\n",
       "    <tr>\n",
       "      <th>1</th>\n",
       "      <td>-2.646461</td>\n",
       "      <td>-0.707395</td>\n",
       "      <td>-0.51859</td>\n",
       "      <td>0.300436</td>\n",
       "      <td>-0.809210</td>\n",
       "      <td>-1.630937</td>\n",
       "      <td>2.136003</td>\n",
       "      <td>-0.384733</td>\n",
       "      <td>1.265132</td>\n",
       "      <td>-0.214727</td>\n",
       "      <td>...</td>\n",
       "      <td>0.926261</td>\n",
       "      <td>0.548896</td>\n",
       "      <td>-0.845175</td>\n",
       "      <td>2.047720</td>\n",
       "      <td>-0.080094</td>\n",
       "      <td>-1.807800</td>\n",
       "      <td>-0.143708</td>\n",
       "      <td>-0.123923</td>\n",
       "      <td>0.925141</td>\n",
       "      <td>-0.925141</td>\n",
       "    </tr>\n",
       "    <tr>\n",
       "      <th>2</th>\n",
       "      <td>-2.005054</td>\n",
       "      <td>-0.707395</td>\n",
       "      <td>-0.51859</td>\n",
       "      <td>0.300436</td>\n",
       "      <td>-0.809210</td>\n",
       "      <td>0.043200</td>\n",
       "      <td>-0.205279</td>\n",
       "      <td>-0.014749</td>\n",
       "      <td>-0.293279</td>\n",
       "      <td>-0.214727</td>\n",
       "      <td>...</td>\n",
       "      <td>-1.079609</td>\n",
       "      <td>0.548896</td>\n",
       "      <td>-0.845175</td>\n",
       "      <td>-0.488348</td>\n",
       "      <td>-0.080094</td>\n",
       "      <td>0.553159</td>\n",
       "      <td>-0.143708</td>\n",
       "      <td>-0.123923</td>\n",
       "      <td>-1.080917</td>\n",
       "      <td>1.080917</td>\n",
       "    </tr>\n",
       "    <tr>\n",
       "      <th>3</th>\n",
       "      <td>-1.363647</td>\n",
       "      <td>-0.707395</td>\n",
       "      <td>-0.51859</td>\n",
       "      <td>0.300436</td>\n",
       "      <td>-1.143317</td>\n",
       "      <td>0.398320</td>\n",
       "      <td>-0.790599</td>\n",
       "      <td>-1.001373</td>\n",
       "      <td>-0.293279</td>\n",
       "      <td>-0.214727</td>\n",
       "      <td>...</td>\n",
       "      <td>-1.079609</td>\n",
       "      <td>0.548896</td>\n",
       "      <td>-0.845175</td>\n",
       "      <td>-0.488348</td>\n",
       "      <td>-0.080094</td>\n",
       "      <td>0.553159</td>\n",
       "      <td>-0.143708</td>\n",
       "      <td>-0.123923</td>\n",
       "      <td>-1.080917</td>\n",
       "      <td>1.080917</td>\n",
       "    </tr>\n",
       "    <tr>\n",
       "      <th>4</th>\n",
       "      <td>-0.722240</td>\n",
       "      <td>-0.017794</td>\n",
       "      <td>-0.51859</td>\n",
       "      <td>-0.927579</td>\n",
       "      <td>-0.475104</td>\n",
       "      <td>-0.616309</td>\n",
       "      <td>2.721323</td>\n",
       "      <td>-0.014749</td>\n",
       "      <td>-0.293279</td>\n",
       "      <td>-0.214727</td>\n",
       "      <td>...</td>\n",
       "      <td>0.926261</td>\n",
       "      <td>0.548896</td>\n",
       "      <td>0.614311</td>\n",
       "      <td>-0.488348</td>\n",
       "      <td>-0.080094</td>\n",
       "      <td>0.553159</td>\n",
       "      <td>-0.143708</td>\n",
       "      <td>-0.123923</td>\n",
       "      <td>-1.080917</td>\n",
       "      <td>1.080917</td>\n",
       "    </tr>\n",
       "  </tbody>\n",
       "</table>\n",
       "<p>5 rows × 48 columns</p>\n",
       "</div>"
      ],
      "text/plain": [
       "        age  admission_type_id  discharge_disposition_id  admission_source_id  \\\n",
       "0 -3.287868          -0.707395                  -0.51859             0.300436   \n",
       "1 -2.646461          -0.707395                  -0.51859             0.300436   \n",
       "2 -2.005054          -0.707395                  -0.51859             0.300436   \n",
       "3 -1.363647          -0.707395                  -0.51859             0.300436   \n",
       "4 -0.722240          -0.017794                  -0.51859            -0.927579   \n",
       "\n",
       "   time_in_hospital  num_lab_procedures  num_procedures  num_medications  \\\n",
       "0         -0.475104            0.804171       -0.790599         0.231907   \n",
       "1         -0.809210           -1.630937        2.136003        -0.384733   \n",
       "2         -0.809210            0.043200       -0.205279        -0.014749   \n",
       "3         -1.143317            0.398320       -0.790599        -1.001373   \n",
       "4         -0.475104           -0.616309        2.721323        -0.014749   \n",
       "\n",
       "   number_outpatient  number_emergency  ...    change  diabetesMed  \\\n",
       "0          -0.293279         -0.214727  ... -1.079609     0.548896   \n",
       "1           1.265132         -0.214727  ...  0.926261     0.548896   \n",
       "2          -0.293279         -0.214727  ... -1.079609     0.548896   \n",
       "3          -0.293279         -0.214727  ... -1.079609     0.548896   \n",
       "4          -0.293279         -0.214727  ...  0.926261     0.548896   \n",
       "\n",
       "   readmitted  race_AfricanAmerican  race_Asian  race_Caucasian  \\\n",
       "0    0.614311             -0.488348   -0.080094        0.553159   \n",
       "1   -0.845175              2.047720   -0.080094       -1.807800   \n",
       "2   -0.845175             -0.488348   -0.080094        0.553159   \n",
       "3   -0.845175             -0.488348   -0.080094        0.553159   \n",
       "4    0.614311             -0.488348   -0.080094        0.553159   \n",
       "\n",
       "   race_Hispanic  race_Other  gender_Female  gender_Male  \n",
       "0      -0.143708   -0.123923       0.925141    -0.925141  \n",
       "1      -0.143708   -0.123923       0.925141    -0.925141  \n",
       "2      -0.143708   -0.123923      -1.080917     1.080917  \n",
       "3      -0.143708   -0.123923      -1.080917     1.080917  \n",
       "4      -0.143708   -0.123923      -1.080917     1.080917  \n",
       "\n",
       "[5 rows x 48 columns]"
      ]
     },
     "execution_count": 862,
     "metadata": {},
     "output_type": "execute_result"
    }
   ],
   "source": [
    "scaler = StandardScaler()\n",
    "df_scaled = scaler.fit_transform(df)\n",
    "df_scaled = pd.DataFrame(df_scaled, columns=df.columns)\n",
    "df_scaled.head()"
   ]
  }
 ],
 "metadata": {
  "kernelspec": {
   "display_name": "Python 3",
   "language": "python",
   "name": "python3"
  },
  "language_info": {
   "codemirror_mode": {
    "name": "ipython",
    "version": 3
   },
   "file_extension": ".py",
   "mimetype": "text/x-python",
   "name": "python",
   "nbconvert_exporter": "python",
   "pygments_lexer": "ipython3",
   "version": "3.11.1"
  }
 },
 "nbformat": 4,
 "nbformat_minor": 2
}
