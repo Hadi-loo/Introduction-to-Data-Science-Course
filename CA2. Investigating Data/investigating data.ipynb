{
 "cells": [
  {
   "cell_type": "markdown",
   "metadata": {},
   "source": [
    "# investigating Data"
   ]
  },
  {
   "cell_type": "markdown",
   "metadata": {},
   "source": [
    "## Authors\n",
    "* **Alireza Arbabi**\n",
    "* **Hadi Babalou**\n",
    "* **Ali Padyav**"
   ]
  },
  {
   "cell_type": "markdown",
   "metadata": {},
   "source": [
    "## Table of Contents"
   ]
  },
  {
   "cell_type": "markdown",
   "metadata": {},
   "source": [
    "- [Setting Up the Environment](#setting-up-the-environment)\n",
    "- [Sunken Ship Passengers](#sunken-ship-passengers)\n",
    "- [Data Scientist Salaries](#data-scientist-salaries)"
   ]
  },
  {
   "cell_type": "markdown",
   "metadata": {},
   "source": [
    "## Setting Up the Environment"
   ]
  },
  {
   "cell_type": "code",
   "execution_count": null,
   "metadata": {},
   "outputs": [],
   "source": [
    "!pip install numpy\n",
    "!pip install pandas\n",
    "!pip install seaborn\n",
    "!pip install matplotlib\n",
    "!pip install tqdm\n",
    "!pip install scipy"
   ]
  },
  {
   "cell_type": "code",
   "execution_count": 2,
   "metadata": {},
   "outputs": [],
   "source": [
    "import numpy as np\n",
    "import pandas as pd\n",
    "import seaborn as sns\n",
    "import matplotlib.pyplot as plt\n",
    "import scipy as sp\n",
    "import tqdm\n",
    "import random\n",
    "import math"
   ]
  },
  {
   "cell_type": "markdown",
   "metadata": {},
   "source": [
    "## Sunken Ship Passengers"
   ]
  },
  {
   "cell_type": "markdown",
   "metadata": {},
   "source": [
    "The `passengers dataset` contains information about the passengers of the sunken ship **RMS Lusitania**. In this task, we will become familiar with working with numpy, pandas, and matplotlib."
   ]
  },
  {
   "cell_type": "markdown",
   "metadata": {},
   "source": [
    "This is a brief explanation of the columns in the given dataset:\n",
    "* **survived** - 1 if the passenger survived, 0 otherwise\n",
    "* **pclass** - Passenger class (1, 2, or 3)\n",
    "* **sex** - The passenger's sex (male or female)\n",
    "* **age** - The passenger's age in years\n",
    "* **sibsp** - The number of siblings or spouses the passenger had aboard the ship\n",
    "* **parch** - The number of parents or children the passenger had aboard the ship\n",
    "* **fare** - The fare the passenger paid for their ticket\n",
    "* **embarked** - The passenger's port of embarkation (C = Cherbourg, Q = Queenstown, S = Southampton)\n",
    "* **class** - The class of the ticket (First, Second, or Third)\n",
    "* **who** - Categories of passengers (man, woman, or child)\n",
    "* **adult_male** - A boolean indicating if the passenger is an adult male or not.\n",
    "* **deck** - The deck the passenger's cabin was on, indicated by the first letter of the cabin's name\n",
    "* **embark_town** - The port of embarkation\n",
    "* **alive** - A boolean indicating if the passenger survived or not\n",
    "* **alone** - A boolean indicating if the passenger was alone or not"
   ]
  },
  {
   "cell_type": "markdown",
   "metadata": {},
   "source": []
  },
  {
   "cell_type": "code",
   "execution_count": null,
   "metadata": {},
   "outputs": [],
   "source": []
  },
  {
   "cell_type": "markdown",
   "metadata": {},
   "source": [
    "## Data Scientist Salaries"
   ]
  },
  {
   "cell_type": "markdown",
   "metadata": {},
   "source": [
    "In this section, we will work with the `salaries dataset` which contains information about the salaries of data scientists across different regions from 2020 to 2024."
   ]
  },
  {
   "cell_type": "markdown",
   "metadata": {},
   "source": []
  },
  {
   "cell_type": "code",
   "execution_count": null,
   "metadata": {},
   "outputs": [],
   "source": []
  }
 ],
 "metadata": {
  "kernelspec": {
   "display_name": "Python 3",
   "language": "python",
   "name": "python3"
  },
  "language_info": {
   "codemirror_mode": {
    "name": "ipython",
    "version": 3
   },
   "file_extension": ".py",
   "mimetype": "text/x-python",
   "name": "python",
   "nbconvert_exporter": "python",
   "pygments_lexer": "ipython3",
   "version": "3.10.12"
  }
 },
 "nbformat": 4,
 "nbformat_minor": 2
}
