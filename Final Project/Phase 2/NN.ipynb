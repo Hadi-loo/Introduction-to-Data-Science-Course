{
 "cells": [
  {
   "cell_type": "markdown",
   "metadata": {},
   "source": [
    "# Training machine learning models "
   ]
  },
  {
   "cell_type": "markdown",
   "metadata": {},
   "source": [
    "## <a id='toc1_'></a>[Authors](#toc0_)\n",
    "* **Alireza Arbabi**\n",
    "* **Hadi Babalou**\n",
    "* **Ali Padyav**\n",
    "* **Kasra Hajiheidari**"
   ]
  },
  {
   "cell_type": "markdown",
   "metadata": {},
   "source": [
    "## <a id='toc3_'></a>[Setting Up the Environment](#toc0_)"
   ]
  },
  {
   "cell_type": "code",
   "execution_count": 313,
   "metadata": {},
   "outputs": [],
   "source": [
    "import pandas as pd\n",
    "import tensorflow as tf\n",
    "from tensorflow.keras.models import Sequential\n",
    "from tensorflow.keras.layers import Dense, Dropout\n",
    "from tensorflow.keras.datasets import mnist\n",
    "from tensorflow.keras.utils import to_categorical\n",
    "from sklearn.compose import ColumnTransformer\n",
    "from sklearn.discriminant_analysis import StandardScaler\n",
    "from sklearn.pipeline import Pipeline\n",
    "from sklearn.preprocessing import OneHotEncoder, MultiLabelBinarizer\n",
    "from sklearn.model_selection import train_test_split\n",
    "from sklearn.metrics import r2_score\n",
    "from sklearn.metrics import mean_squared_error\n",
    "from sklearn.decomposition import PCA\n",
    "import matplotlib.pyplot as plt\n",
    "import keras_tuner as kt\n",
    "import ast\n",
    "import numpy as np"
   ]
  },
  {
   "cell_type": "markdown",
   "metadata": {},
   "source": [
    "This is the preprocessed dataset from phase 1."
   ]
  },
  {
   "cell_type": "code",
   "execution_count": 314,
   "metadata": {},
   "outputs": [
    {
     "data": {
      "text/html": [
       "<div>\n",
       "<style scoped>\n",
       "    .dataframe tbody tr th:only-of-type {\n",
       "        vertical-align: middle;\n",
       "    }\n",
       "\n",
       "    .dataframe tbody tr th {\n",
       "        vertical-align: top;\n",
       "    }\n",
       "\n",
       "    .dataframe thead th {\n",
       "        text-align: right;\n",
       "    }\n",
       "</style>\n",
       "<table border=\"1\" class=\"dataframe\">\n",
       "  <thead>\n",
       "    <tr style=\"text-align: right;\">\n",
       "      <th></th>\n",
       "      <th>track_name</th>\n",
       "      <th>album_name</th>\n",
       "      <th>artists</th>\n",
       "      <th>explicit</th>\n",
       "      <th>key</th>\n",
       "      <th>mode</th>\n",
       "      <th>time_signature</th>\n",
       "      <th>danceability</th>\n",
       "      <th>energy</th>\n",
       "      <th>loudness</th>\n",
       "      <th>...</th>\n",
       "      <th>week_of_year</th>\n",
       "      <th>day</th>\n",
       "      <th>day_of_week</th>\n",
       "      <th>day_of_year</th>\n",
       "      <th>duration_mins</th>\n",
       "      <th>duration_ms</th>\n",
       "      <th>artist_count</th>\n",
       "      <th>genre_count</th>\n",
       "      <th>track_genre</th>\n",
       "      <th>popularity</th>\n",
       "    </tr>\n",
       "  </thead>\n",
       "  <tbody>\n",
       "    <tr>\n",
       "      <th>0</th>\n",
       "      <td>Ode To The Mets</td>\n",
       "      <td>The New Abnormal</td>\n",
       "      <td>['The Strokes']</td>\n",
       "      <td>False</td>\n",
       "      <td>1</td>\n",
       "      <td>0</td>\n",
       "      <td>4.0</td>\n",
       "      <td>0.4280</td>\n",
       "      <td>0.617</td>\n",
       "      <td>-5.424</td>\n",
       "      <td>...</td>\n",
       "      <td>15</td>\n",
       "      <td>10</td>\n",
       "      <td>Friday</td>\n",
       "      <td>101</td>\n",
       "      <td>5.863117</td>\n",
       "      <td>351787</td>\n",
       "      <td>1</td>\n",
       "      <td>2</td>\n",
       "      <td>['alt-rock', 'garage']</td>\n",
       "      <td>67</td>\n",
       "    </tr>\n",
       "    <tr>\n",
       "      <th>1</th>\n",
       "      <td>Glaciers</td>\n",
       "      <td>Bloom</td>\n",
       "      <td>['Lights &amp; Motion']</td>\n",
       "      <td>False</td>\n",
       "      <td>7</td>\n",
       "      <td>1</td>\n",
       "      <td>4.0</td>\n",
       "      <td>0.0789</td>\n",
       "      <td>0.160</td>\n",
       "      <td>-18.144</td>\n",
       "      <td>...</td>\n",
       "      <td>5</td>\n",
       "      <td>2</td>\n",
       "      <td>Friday</td>\n",
       "      <td>33</td>\n",
       "      <td>2.939550</td>\n",
       "      <td>176373</td>\n",
       "      <td>1</td>\n",
       "      <td>1</td>\n",
       "      <td>['ambient']</td>\n",
       "      <td>49</td>\n",
       "    </tr>\n",
       "    <tr>\n",
       "      <th>2</th>\n",
       "      <td>Uber Pussy</td>\n",
       "      <td>Pink Season</td>\n",
       "      <td>['Pink Guy']</td>\n",
       "      <td>True</td>\n",
       "      <td>7</td>\n",
       "      <td>1</td>\n",
       "      <td>4.0</td>\n",
       "      <td>0.8700</td>\n",
       "      <td>0.597</td>\n",
       "      <td>-6.320</td>\n",
       "      <td>...</td>\n",
       "      <td>1</td>\n",
       "      <td>4</td>\n",
       "      <td>Wednesday</td>\n",
       "      <td>4</td>\n",
       "      <td>1.956017</td>\n",
       "      <td>117361</td>\n",
       "      <td>1</td>\n",
       "      <td>1</td>\n",
       "      <td>['comedy']</td>\n",
       "      <td>39</td>\n",
       "    </tr>\n",
       "    <tr>\n",
       "      <th>3</th>\n",
       "      <td>2002</td>\n",
       "      <td>Speak Your Mind (Deluxe)</td>\n",
       "      <td>['Anne-Marie']</td>\n",
       "      <td>False</td>\n",
       "      <td>1</td>\n",
       "      <td>0</td>\n",
       "      <td>4.0</td>\n",
       "      <td>0.6970</td>\n",
       "      <td>0.683</td>\n",
       "      <td>-2.881</td>\n",
       "      <td>...</td>\n",
       "      <td>17</td>\n",
       "      <td>27</td>\n",
       "      <td>Friday</td>\n",
       "      <td>117</td>\n",
       "      <td>3.116450</td>\n",
       "      <td>186987</td>\n",
       "      <td>1</td>\n",
       "      <td>3</td>\n",
       "      <td>['dance', 'house', 'pop']</td>\n",
       "      <td>82</td>\n",
       "    </tr>\n",
       "    <tr>\n",
       "      <th>4</th>\n",
       "      <td>Monsters You Made (feat. Chris Martin)</td>\n",
       "      <td>Twice As Tall</td>\n",
       "      <td>['Burna Boy', 'Chris Martin']</td>\n",
       "      <td>True</td>\n",
       "      <td>7</td>\n",
       "      <td>0</td>\n",
       "      <td>4.0</td>\n",
       "      <td>0.6710</td>\n",
       "      <td>0.646</td>\n",
       "      <td>-7.513</td>\n",
       "      <td>...</td>\n",
       "      <td>33</td>\n",
       "      <td>13</td>\n",
       "      <td>Thursday</td>\n",
       "      <td>226</td>\n",
       "      <td>3.625683</td>\n",
       "      <td>217541</td>\n",
       "      <td>2</td>\n",
       "      <td>1</td>\n",
       "      <td>['dancehall']</td>\n",
       "      <td>45</td>\n",
       "    </tr>\n",
       "  </tbody>\n",
       "</table>\n",
       "<p>5 rows × 36 columns</p>\n",
       "</div>"
      ],
      "text/plain": [
       "                               track_name                album_name  \\\n",
       "0                         Ode To The Mets          The New Abnormal   \n",
       "1                                Glaciers                     Bloom   \n",
       "2                              Uber Pussy               Pink Season   \n",
       "3                                    2002  Speak Your Mind (Deluxe)   \n",
       "4  Monsters You Made (feat. Chris Martin)             Twice As Tall   \n",
       "\n",
       "                         artists  explicit  key  mode  time_signature  \\\n",
       "0                ['The Strokes']     False    1     0             4.0   \n",
       "1            ['Lights & Motion']     False    7     1             4.0   \n",
       "2                   ['Pink Guy']      True    7     1             4.0   \n",
       "3                 ['Anne-Marie']     False    1     0             4.0   \n",
       "4  ['Burna Boy', 'Chris Martin']      True    7     0             4.0   \n",
       "\n",
       "   danceability  energy  loudness  ...  week_of_year  day  day_of_week  \\\n",
       "0        0.4280   0.617    -5.424  ...            15   10       Friday   \n",
       "1        0.0789   0.160   -18.144  ...             5    2       Friday   \n",
       "2        0.8700   0.597    -6.320  ...             1    4    Wednesday   \n",
       "3        0.6970   0.683    -2.881  ...            17   27       Friday   \n",
       "4        0.6710   0.646    -7.513  ...            33   13     Thursday   \n",
       "\n",
       "   day_of_year  duration_mins  duration_ms artist_count genre_count  \\\n",
       "0          101       5.863117       351787            1           2   \n",
       "1           33       2.939550       176373            1           1   \n",
       "2            4       1.956017       117361            1           1   \n",
       "3          117       3.116450       186987            1           3   \n",
       "4          226       3.625683       217541            2           1   \n",
       "\n",
       "                 track_genre  popularity  \n",
       "0     ['alt-rock', 'garage']          67  \n",
       "1                ['ambient']          49  \n",
       "2                 ['comedy']          39  \n",
       "3  ['dance', 'house', 'pop']          82  \n",
       "4              ['dancehall']          45  \n",
       "\n",
       "[5 rows x 36 columns]"
      ]
     },
     "execution_count": 314,
     "metadata": {},
     "output_type": "execute_result"
    }
   ],
   "source": [
    "data = pd.read_csv('dataset.csv')\n",
    "data.head(5)"
   ]
  },
  {
   "cell_type": "code",
   "execution_count": 315,
   "metadata": {},
   "outputs": [
    {
     "name": "stdout",
     "output_type": "stream",
     "text": [
      "<class 'pandas.core.frame.DataFrame'>\n",
      "RangeIndex: 4724 entries, 0 to 4723\n",
      "Data columns (total 36 columns):\n",
      " #   Column            Non-Null Count  Dtype  \n",
      "---  ------            --------------  -----  \n",
      " 0   track_name        4724 non-null   object \n",
      " 1   album_name        4724 non-null   object \n",
      " 2   artists           4724 non-null   object \n",
      " 3   explicit          4724 non-null   bool   \n",
      " 4   key               4724 non-null   int64  \n",
      " 5   mode              4724 non-null   int64  \n",
      " 6   time_signature    4724 non-null   float64\n",
      " 7   danceability      4724 non-null   float64\n",
      " 8   energy            4724 non-null   float64\n",
      " 9   loudness          4724 non-null   float64\n",
      " 10  speechiness       4724 non-null   float64\n",
      " 11  acousticness      4724 non-null   float64\n",
      " 12  instrumentalness  4724 non-null   float64\n",
      " 13  liveness          4724 non-null   float64\n",
      " 14  valence           4724 non-null   float64\n",
      " 15  tempo             4724 non-null   float64\n",
      " 16  track_id          4724 non-null   object \n",
      " 17  album_id          4724 non-null   object \n",
      " 18  artist_ids        4724 non-null   object \n",
      " 19  track_number      4724 non-null   int64  \n",
      " 20  disc_number       4724 non-null   int64  \n",
      " 21  release_date      4724 non-null   object \n",
      " 22  decade            4724 non-null   int64  \n",
      " 23  year              4724 non-null   int64  \n",
      " 24  quarter           4724 non-null   int64  \n",
      " 25  month             4724 non-null   int64  \n",
      " 26  week_of_year      4724 non-null   int64  \n",
      " 27  day               4724 non-null   int64  \n",
      " 28  day_of_week       4724 non-null   object \n",
      " 29  day_of_year       4724 non-null   int64  \n",
      " 30  duration_mins     4724 non-null   float64\n",
      " 31  duration_ms       4724 non-null   int64  \n",
      " 32  artist_count      4724 non-null   int64  \n",
      " 33  genre_count       4724 non-null   int64  \n",
      " 34  track_genre       4724 non-null   object \n",
      " 35  popularity        4724 non-null   int64  \n",
      "dtypes: bool(1), float64(11), int64(15), object(9)\n",
      "memory usage: 1.3+ MB\n"
     ]
    }
   ],
   "source": [
    "data.info()"
   ]
  },
  {
   "cell_type": "markdown",
   "metadata": {},
   "source": [
    "Remove ID columns because they are not useful for the model."
   ]
  },
  {
   "cell_type": "code",
   "execution_count": 316,
   "metadata": {},
   "outputs": [],
   "source": [
    "data = data.drop(['track_id', 'album_id', 'artist_ids'], axis=1)"
   ]
  },
  {
   "cell_type": "code",
   "execution_count": 317,
   "metadata": {},
   "outputs": [
    {
     "name": "stdout",
     "output_type": "stream",
     "text": [
      "track_name: object\n",
      "album_name: object\n",
      "artists: object\n",
      "release_date: object\n",
      "day_of_week: object\n",
      "track_genre: object\n"
     ]
    }
   ],
   "source": [
    "non_numeric_cols = data.select_dtypes(exclude=['int', 'float', 'bool']).columns\n",
    "for col in non_numeric_cols:\n",
    "    print(f'{col}: {data[col].dtype}')"
   ]
  },
  {
   "cell_type": "markdown",
   "metadata": {},
   "source": [
    "As we extracted the date information, we can remove the original date columns."
   ]
  },
  {
   "cell_type": "code",
   "execution_count": 318,
   "metadata": {},
   "outputs": [],
   "source": [
    "data = data.drop(['release_date'], axis=1)"
   ]
  },
  {
   "cell_type": "code",
   "execution_count": 319,
   "metadata": {},
   "outputs": [
    {
     "name": "stdout",
     "output_type": "stream",
     "text": [
      "track_name: object\n",
      "album_name: object\n",
      "artists: object\n",
      "day_of_week: object\n",
      "track_genre: object\n"
     ]
    }
   ],
   "source": [
    "non_numeric_cols = data.select_dtypes(exclude=['int', 'float', 'bool']).columns\n",
    "for col in non_numeric_cols:\n",
    "    print(f'{col}: {data[col].dtype}')"
   ]
  },
  {
   "cell_type": "code",
   "execution_count": 320,
   "metadata": {},
   "outputs": [],
   "source": [
    "data['track_genre'] = data['track_genre'].apply(lambda x: ast.literal_eval(x))\n",
    "data['artists'] = data['artists'].apply(lambda x: ast.literal_eval(x))"
   ]
  },
  {
   "cell_type": "code",
   "execution_count": 321,
   "metadata": {},
   "outputs": [
    {
     "name": "stdout",
     "output_type": "stream",
     "text": [
      "Unique genres: 111\n"
     ]
    }
   ],
   "source": [
    "genres = set()\n",
    "for genre_list in data['track_genre']:\n",
    "    for genre in genre_list:\n",
    "        genres.add(genre)\n",
    "print(f'Unique genres: {len(genres)}')"
   ]
  },
  {
   "cell_type": "code",
   "execution_count": 322,
   "metadata": {},
   "outputs": [
    {
     "name": "stdout",
     "output_type": "stream",
     "text": [
      "Genres with more than 20 tracks: 104\n"
     ]
    }
   ],
   "source": [
    "genre_counts = {}\n",
    "for genre_list in data['track_genre']:\n",
    "    for genre in genre_list:\n",
    "        if genre in genre_counts:\n",
    "            genre_counts[genre] += 1\n",
    "        else:\n",
    "            genre_counts[genre] = 1\n",
    "i = 0\n",
    "for genre, count in genre_counts.items():\n",
    "    if(count > 5):\n",
    "        i += 1\n",
    "print(f'Genres with more than 20 tracks: {i}')"
   ]
  },
  {
   "cell_type": "code",
   "execution_count": 323,
   "metadata": {},
   "outputs": [],
   "source": [
    "mlb = MultiLabelBinarizer()\n",
    "\n",
    "one_hot_genres = mlb.fit_transform(data['track_genre'])\n",
    "one_hot_df = pd.DataFrame(one_hot_genres, columns=mlb.classes_)\n",
    "data = pd.concat([data, one_hot_df], axis=1)\n",
    "data = data.drop(columns=['track_genre'])"
   ]
  },
  {
   "cell_type": "code",
   "execution_count": 324,
   "metadata": {},
   "outputs": [
    {
     "name": "stdout",
     "output_type": "stream",
     "text": [
      "<class 'pandas.core.frame.DataFrame'>\n",
      "RangeIndex: 4724 entries, 0 to 4723\n",
      "Columns: 142 entries, track_name to world-music\n",
      "dtypes: bool(1), float64(11), int32(111), int64(15), object(3), string(1)\n",
      "memory usage: 3.1+ MB\n"
     ]
    }
   ],
   "source": [
    "data['day_of_week'] = data['day_of_week'].astype(pd.StringDtype())\n",
    "data.info()"
   ]
  },
  {
   "cell_type": "code",
   "execution_count": 325,
   "metadata": {},
   "outputs": [],
   "source": [
    "onehotencoder = OneHotEncoder()\n",
    "day_of_week_encoded = onehotencoder.fit_transform(data[['day_of_week']]).toarray()\n",
    "day_of_week_encoded_df = pd.DataFrame(day_of_week_encoded, columns=onehotencoder.get_feature_names_out(['day_of_week']))\n",
    "data = pd.concat([data, day_of_week_encoded_df], axis=1)\n",
    "data.drop(columns=['day_of_week'], inplace=True)"
   ]
  },
  {
   "cell_type": "code",
   "execution_count": 326,
   "metadata": {},
   "outputs": [
    {
     "name": "stdout",
     "output_type": "stream",
     "text": [
      "track_name: object\n",
      "album_name: object\n",
      "artists: object\n"
     ]
    }
   ],
   "source": [
    "non_numeric_cols = data.select_dtypes(exclude=['int', 'float', 'bool']).columns\n",
    "for col in non_numeric_cols:\n",
    "    print(f'{col}: {data[col].dtype}')"
   ]
  },
  {
   "cell_type": "code",
   "execution_count": 327,
   "metadata": {},
   "outputs": [],
   "source": [
    "data = data.drop(columns=['track_name', 'album_name', 'artists'])"
   ]
  },
  {
   "cell_type": "code",
   "execution_count": 328,
   "metadata": {},
   "outputs": [],
   "source": [
    "X = data.drop(columns=['popularity'])\n",
    "scaler = StandardScaler()\n",
    "X = pd.DataFrame(scaler.fit_transform(X), columns=X.columns)\n",
    "y = data['popularity']"
   ]
  },
  {
   "cell_type": "markdown",
   "metadata": {},
   "source": [
    "### Part 3: Dimensionality Reduction"
   ]
  },
  {
   "cell_type": "markdown",
   "metadata": {},
   "source": [
    "**Principal Component Analysis (PCA)**"
   ]
  },
  {
   "cell_type": "code",
   "execution_count": 329,
   "metadata": {},
   "outputs": [
    {
     "name": "stdout",
     "output_type": "stream",
     "text": [
      "Number of columns after PCA reduction: 104\n",
      "Number of columns in the origianl Dataset: 144\n",
      "Reduction Ratio 0.7222222222222222\n",
      "Explained variance after reduction 0.9020223786319813\n"
     ]
    }
   ],
   "source": [
    "pca = PCA(n_components=0.9, random_state=31)\n",
    "X_reduced = pca.fit_transform(X)\n",
    "pca.explained_variance_ratio_\n",
    "X_reduced_df = pd.DataFrame(X_reduced, columns=[f'PC{i}' for i in range(1, X_reduced.shape[1] + 1)])\n",
    "\n",
    "# print(selected_columns)\n",
    "print(\"Number of columns after PCA reduction:\", X_reduced_df.columns.size)\n",
    "print(\"Number of columns in the origianl Dataset:\", X.columns.size)\n",
    "print(\"Reduction Ratio\", X_reduced_df.columns.size / X.columns.size)\n",
    "print(\"Explained variance after reduction\", np.cumsum(pca.explained_variance_ratio_)[-1])"
   ]
  },
  {
   "cell_type": "code",
   "execution_count": 330,
   "metadata": {},
   "outputs": [
    {
     "name": "stdout",
     "output_type": "stream",
     "text": [
      "Correspondnig variances of each feature with the first PCA component:\n",
      "    - day_of_year: 0.31008103629520534\n",
      "    - month: 0.302346637573696\n",
      "    - year: 0.2904356199621295\n",
      "    - quarter: 0.2899397195271309\n",
      "    - decade: 0.28312170522114727\n",
      "    - loudness: 0.2521783134348245\n",
      "    - day_of_week_Friday: 0.19524542327175873\n",
      "    - day: 0.1837186676442142\n",
      "    - week_of_year: 0.18346299687566903\n",
      "    - energy: 0.17965672990920514\n",
      "    - genre_count: 0.1447388386252877\n",
      "    - house: 0.13801926842073442\n",
      "    - danceability: 0.12351131597472685\n",
      "    - electro: 0.117393829907801\n",
      "    - edm: 0.11728640262037948\n",
      "    - explicit: 0.11570427796856288\n",
      "    - reggaeton: 0.09119621204785922\n",
      "    - artist_count: 0.09034304767523733\n",
      "    - latino: 0.08838480628331571\n",
      "    - progressive-house: 0.08521638739618606\n",
      "    - speechiness: 0.08312672558739712\n",
      "    - reggae: 0.07976567391028785\n",
      "    - dance: 0.07843266864107536\n",
      "    - emo: 0.07540842681902506\n",
      "    - dubstep: 0.07399467895779492\n",
      "    - dub: 0.067208062500198\n",
      "    - tempo: 0.05816697058459977\n",
      "    - time_signature: 0.056294542209353426\n",
      "    - indie-pop: 0.05612938495878348\n",
      "    - indie: 0.05382774076030695\n",
      "    - latin: 0.050467893860848975\n",
      "    - dancehall: 0.047409422706261556\n",
      "    - alternative: 0.046658428653479106\n",
      "    - pop: 0.04545294328874961\n",
      "    - hip-hop: 0.042907027715050644\n",
      "    - indian: 0.03943994898200272\n",
      "    - metalcore: 0.038875590444347734\n",
      "    - alt-rock: 0.03861196538486184\n",
      "    - j-dance: 0.03840962307898015\n",
      "    - sad: 0.0358014321834276\n",
      "    - electronic: 0.03261082647645461\n",
      "    - swedish: 0.03169595934744912\n",
      "    - key: 0.030043141500182058\n",
      "    - funk: 0.029820837577751676\n",
      "    - valence: 0.028643095114485408\n",
      "    - grunge: 0.027786944227332345\n",
      "    - punk: 0.0275992720144803\n",
      "    - metal: 0.026119835698751766\n",
      "    - black-metal: 0.024663999355098342\n",
      "    - k-pop: 0.023153259274238683\n",
      "    - rock: 0.021694201924984592\n",
      "    - techno: 0.021128356043734812\n",
      "    - groove: 0.020638671283960415\n",
      "    - club: 0.01997381568085603\n",
      "    - j-pop: 0.019940302672006176\n",
      "    - deep-house: 0.0198314162963\n",
      "    - ska: 0.018474894483260205\n",
      "    - industrial: 0.017830856236475855\n",
      "    - punk-rock: 0.01741250725482129\n",
      "    - pop-film: 0.016839908343321348\n",
      "    - happy: 0.016544952949117172\n",
      "    - sertanejo: 0.015528676640205394\n",
      "    - j-idol: 0.01538705270638698\n",
      "    - drum-and-bass: 0.015130988978337458\n",
      "    - garage: 0.015070970749474964\n",
      "    - forro: 0.014603320634238937\n",
      "    - chill: 0.012134600661279542\n",
      "    - r-n-b: 0.011439571619578958\n",
      "    - trance: 0.011214807510665427\n",
      "    - mandopop: 0.01070284699071322\n",
      "    - german: 0.00849007525028655\n",
      "    - party: 0.007006355420064338\n",
      "    - kids: 0.006838185763336392\n",
      "    - goth: 0.006582960948013344\n",
      "    - hardcore: 0.005908165312967369\n",
      "    - acoustic: 0.005652773921267164\n",
      "    - hardstyle: 0.0018889451476518484\n",
      "    - soul: 0.0007384925870449949\n",
      "    - brazil: 0.0003733350051790084\n",
      "    - j-rock: 0.00020225535584818963\n",
      "    - french: -0.0002287989507562129\n",
      "    - study: -0.0017563522240981303\n",
      "    - mpb: -0.0018457009753255567\n",
      "    - iranian: -0.0023902187710260073\n",
      "    - death-metal: -0.003406616602424394\n",
      "    - samba: -0.004807460981739506\n",
      "    - minimal-techno: -0.004913810712748231\n",
      "    - children: -0.00582522427932858\n",
      "    - heavy-metal: -0.006340806987336035\n",
      "    - malay: -0.006942522378657336\n",
      "    - chicago-house: -0.007453443023027793\n",
      "    - classical: -0.0076053578216049595\n",
      "    - trip-hop: -0.007809720669025872\n",
      "    - pagode: -0.009694322931064899\n",
      "    - disney: -0.01056506306805778\n",
      "    - cantopop: -0.011209201319194773\n",
      "    - country: -0.011665058185812783\n",
      "    - show-tunes: -0.01235508505600108\n",
      "    - afrobeat: -0.01418354065291357\n",
      "    - breakbeat: -0.014242936460238543\n",
      "    - liveness: -0.015910790230407815\n",
      "    - romance: -0.016524890658308592\n",
      "    - day_of_week_Thursday: -0.017630995388250206\n",
      "    - synth-pop: -0.017931951946376083\n",
      "    - anime: -0.01810275694714958\n",
      "    - british: -0.019027043951668016\n",
      "    - comedy: -0.019466302614205577\n",
      "    - spanish: -0.019718019674265334\n",
      "    - grindcore: -0.019747682485774902\n",
      "    - jazz: -0.02063873557840219\n",
      "    - opera: -0.021675217946607064\n",
      "    - tango: -0.022907866441432327\n",
      "    - detroit-techno: -0.024261830122012527\n",
      "    - world-music: -0.02677800979699514\n",
      "    - folk: -0.027606273973203303\n",
      "    - singer-songwriter: -0.031191317452427928\n",
      "    - songwriter: -0.031191317452427935\n",
      "    - power-pop: -0.03209249337645551\n",
      "    - blues: -0.03212589590254946\n",
      "    - salsa: -0.03380673930347386\n",
      "    - disc_number: -0.03465457319388478\n",
      "    - ambient: -0.03535290115626981\n",
      "    - day_of_week_Wednesday: -0.03789758588952732\n",
      "    - bluegrass: -0.03839762445629955\n",
      "    - piano: -0.03928838537953686\n",
      "    - rock-n-roll: -0.04039502754385838\n",
      "    - disco: -0.04218973578789189\n",
      "    - hard-rock: -0.043523572482045865\n",
      "    - idm: -0.04936396888717795\n",
      "    - day_of_week_Tuesday: -0.05289074711236303\n",
      "    - guitar: -0.05312556597697522\n",
      "    - day_of_week_Monday: -0.05891977342367316\n",
      "    - track_number: -0.059055113334803164\n",
      "    - rockabilly: -0.061073905029523166\n",
      "    - psych-rock: -0.06719309294926504\n",
      "    - mode: -0.06802874452497976\n",
      "    - duration_mins: -0.06939664976145436\n",
      "    - duration_ms: -0.06939664976145439\n",
      "    - honky-tonk: -0.07598244951122367\n",
      "    - day_of_week_Saturday: -0.0807926388888893\n",
      "    - day_of_week_Sunday: -0.09737529160702989\n",
      "    - instrumentalness: -0.12080970004951086\n",
      "    - new-age: -0.15146757380113088\n",
      "    - acousticness: -0.18083289949863354\n"
     ]
    }
   ],
   "source": [
    "print(\"Correspondnig variances of each feature with the first PCA component:\")\n",
    "selected_columns = X.columns[pca.components_[0].argsort()[::-1]]\n",
    "for col in selected_columns:\n",
    "    print(f\"    - {col}: {pca.components_[0][X.columns.get_loc(col)]}\")"
   ]
  },
  {
   "cell_type": "code",
   "execution_count": 331,
   "metadata": {},
   "outputs": [],
   "source": [
    "categorical_features = data.select_dtypes(exclude=['int', 'float']).columns\n",
    "numerical_features = X.select_dtypes(include=['int64', 'float64']).columns.tolist()\n",
    "\n",
    "numeric_transformer = Pipeline(steps=[\n",
    "    ('scaler', StandardScaler())])\n",
    "\n",
    "categorical_transformer = Pipeline(steps=[\n",
    "    ('onehot', OneHotEncoder(handle_unknown='ignore'))])\n",
    "\n",
    "preprocessor = ColumnTransformer(\n",
    "    transformers=[\n",
    "        ('num', numeric_transformer, numerical_features),\n",
    "        ('cat', categorical_transformer, categorical_features)])\n",
    "\n",
    "X_processed = preprocessor.fit_transform(X)"
   ]
  },
  {
   "cell_type": "code",
   "execution_count": 332,
   "metadata": {},
   "outputs": [
    {
     "name": "stdout",
     "output_type": "stream",
     "text": [
      "Index(['explicit'], dtype='object')\n"
     ]
    }
   ],
   "source": [
    "print(categorical_features)"
   ]
  },
  {
   "cell_type": "markdown",
   "metadata": {},
   "source": [
    "### Train and Test Data"
   ]
  },
  {
   "cell_type": "code",
   "execution_count": 333,
   "metadata": {},
   "outputs": [
    {
     "data": {
      "text/plain": [
       "((3779, 146), (945, 146), (3779,), (945,))"
      ]
     },
     "execution_count": 333,
     "metadata": {},
     "output_type": "execute_result"
    }
   ],
   "source": [
    "X_train, X_test, y_train, y_test = train_test_split(X_processed, y, test_size=0.2, random_state=42)\n",
    "\n",
    "X_train.shape, X_test.shape, y_train.shape, y_test.shape"
   ]
  },
  {
   "cell_type": "code",
   "execution_count": 334,
   "metadata": {},
   "outputs": [],
   "source": [
    "non_numeric_cols = data.select_dtypes(exclude=['int', 'float', 'bool']).columns\n",
    "for col in non_numeric_cols:\n",
    "    print(f'{col}: {data[col].dtype}')"
   ]
  },
  {
   "cell_type": "code",
   "execution_count": 335,
   "metadata": {},
   "outputs": [
    {
     "name": "stderr",
     "output_type": "stream",
     "text": [
      "C:\\Users\\apady\\AppData\\Roaming\\Python\\Python311\\site-packages\\keras\\src\\layers\\core\\dense.py:87: UserWarning: Do not pass an `input_shape`/`input_dim` argument to a layer. When using Sequential models, prefer using an `Input(shape)` object as the first layer in the model instead.\n",
      "  super().__init__(activity_regularizer=activity_regularizer, **kwargs)\n"
     ]
    }
   ],
   "source": [
    "model = Sequential([\n",
    "    Dense(128, activation='relu', input_shape=(X_train.shape[1],)),\n",
    "    Dropout(0.2),\n",
    "    Dense(64, activation='relu'),\n",
    "    Dropout(0.2),\n",
    "    Dense(32, activation='relu'),\n",
    "    Dense(1)\n",
    "])\n",
    "\n",
    "model.compile(optimizer='adam',\n",
    "              loss='mean_squared_error',\n",
    "              metrics=['mean_absolute_error'])"
   ]
  },
  {
   "cell_type": "code",
   "execution_count": 336,
   "metadata": {},
   "outputs": [],
   "source": [
    "def fit_and_predict(model, X_train, y_train, X_test, y_test, epochs=20, validation_split=0.2, batch_size=10):\n",
    "    history = model.fit(X_train, y_train, epochs=epochs, validation_split=validation_split, batch_size=batch_size)\n",
    "    y_pred = model.predict(X_test)\n",
    "\n",
    "    return history, y_pred"
   ]
  },
  {
   "cell_type": "code",
   "execution_count": 337,
   "metadata": {},
   "outputs": [],
   "source": [
    "def evaluate_model(model, X_train, y_train, X_test, y_test):\n",
    "    history, y_pred = fit_and_predict(model, X_train, y_train, X_test, y_test)\n",
    "\n",
    "    mse = mean_squared_error(y_test, y_pred)\n",
    "    r2 = r2_score(y_test, y_pred)\n",
    "    print(f'Mean Squared Error: {mse}')\n",
    "    print(f'R-squared: {r2}')\n",
    "\n",
    "    plt.figure(figsize=(14, 5))\n",
    "\n",
    "    plt.subplot(1, 2, 1)\n",
    "    plt.plot(history.history['loss'], label='Train Loss')\n",
    "    plt.plot(history.history['val_loss'], label='Validation Loss')\n",
    "    plt.title('Model Loss')\n",
    "    plt.xlabel('Epoch')\n",
    "    plt.ylabel('Loss')\n",
    "    plt.legend(loc='upper right')\n",
    "\n",
    "    plt.subplot(1, 2, 2)\n",
    "    plt.scatter(y_test, y_pred, alpha=0.3)\n",
    "    plt.plot([y_test.min(), y_test.max()], [y_test.min(), y_test.max()], 'k--', lw=2)\n",
    "    plt.title('True vs Predicted Popularity')\n",
    "    plt.xlabel('True Values')\n",
    "    plt.ylabel('Predictions')\n",
    "    plt.grid(True)\n",
    "\n",
    "    plt.tight_layout()\n",
    "    plt.show()"
   ]
  },
  {
   "cell_type": "code",
   "execution_count": 338,
   "metadata": {},
   "outputs": [
    {
     "name": "stdout",
     "output_type": "stream",
     "text": [
      "Epoch 1/20\n",
      "\u001b[1m303/303\u001b[0m \u001b[32m━━━━━━━━━━━━━━━━━━━━\u001b[0m\u001b[37m\u001b[0m \u001b[1m4s\u001b[0m 4ms/step - loss: 1001.0464 - mean_absolute_error: 24.1463 - val_loss: 142.3392 - val_mean_absolute_error: 9.4494\n",
      "Epoch 2/20\n",
      "\u001b[1m303/303\u001b[0m \u001b[32m━━━━━━━━━━━━━━━━━━━━\u001b[0m\u001b[37m\u001b[0m \u001b[1m1s\u001b[0m 3ms/step - loss: 169.7509 - mean_absolute_error: 10.1188 - val_loss: 117.7818 - val_mean_absolute_error: 8.5531\n",
      "Epoch 3/20\n",
      "\u001b[1m303/303\u001b[0m \u001b[32m━━━━━━━━━━━━━━━━━━━━\u001b[0m\u001b[37m\u001b[0m \u001b[1m1s\u001b[0m 3ms/step - loss: 140.3780 - mean_absolute_error: 9.1656 - val_loss: 130.4111 - val_mean_absolute_error: 8.8399\n",
      "Epoch 4/20\n",
      "\u001b[1m303/303\u001b[0m \u001b[32m━━━━━━━━━━━━━━━━━━━━\u001b[0m\u001b[37m\u001b[0m \u001b[1m1s\u001b[0m 3ms/step - loss: 132.1357 - mean_absolute_error: 8.8760 - val_loss: 110.8521 - val_mean_absolute_error: 7.9985\n",
      "Epoch 5/20\n",
      "\u001b[1m303/303\u001b[0m \u001b[32m━━━━━━━━━━━━━━━━━━━━\u001b[0m\u001b[37m\u001b[0m \u001b[1m1s\u001b[0m 3ms/step - loss: 121.8804 - mean_absolute_error: 8.4380 - val_loss: 125.3100 - val_mean_absolute_error: 8.4842\n",
      "Epoch 6/20\n",
      "\u001b[1m303/303\u001b[0m \u001b[32m━━━━━━━━━━━━━━━━━━━━\u001b[0m\u001b[37m\u001b[0m \u001b[1m1s\u001b[0m 3ms/step - loss: 116.7622 - mean_absolute_error: 8.1783 - val_loss: 117.5449 - val_mean_absolute_error: 8.1650\n",
      "Epoch 7/20\n",
      "\u001b[1m303/303\u001b[0m \u001b[32m━━━━━━━━━━━━━━━━━━━━\u001b[0m\u001b[37m\u001b[0m \u001b[1m1s\u001b[0m 3ms/step - loss: 110.0022 - mean_absolute_error: 7.8706 - val_loss: 118.2644 - val_mean_absolute_error: 8.0998\n",
      "Epoch 8/20\n",
      "\u001b[1m303/303\u001b[0m \u001b[32m━━━━━━━━━━━━━━━━━━━━\u001b[0m\u001b[37m\u001b[0m \u001b[1m1s\u001b[0m 3ms/step - loss: 106.0385 - mean_absolute_error: 7.8663 - val_loss: 113.4417 - val_mean_absolute_error: 7.8907\n",
      "Epoch 9/20\n",
      "\u001b[1m303/303\u001b[0m \u001b[32m━━━━━━━━━━━━━━━━━━━━\u001b[0m\u001b[37m\u001b[0m \u001b[1m1s\u001b[0m 3ms/step - loss: 100.2179 - mean_absolute_error: 7.5491 - val_loss: 106.2903 - val_mean_absolute_error: 7.7213\n",
      "Epoch 10/20\n",
      "\u001b[1m303/303\u001b[0m \u001b[32m━━━━━━━━━━━━━━━━━━━━\u001b[0m\u001b[37m\u001b[0m \u001b[1m1s\u001b[0m 3ms/step - loss: 101.2843 - mean_absolute_error: 7.6360 - val_loss: 105.6662 - val_mean_absolute_error: 7.7581\n",
      "Epoch 11/20\n",
      "\u001b[1m303/303\u001b[0m \u001b[32m━━━━━━━━━━━━━━━━━━━━\u001b[0m\u001b[37m\u001b[0m \u001b[1m1s\u001b[0m 3ms/step - loss: 91.1390 - mean_absolute_error: 7.2960 - val_loss: 113.8084 - val_mean_absolute_error: 7.9479\n",
      "Epoch 12/20\n",
      "\u001b[1m303/303\u001b[0m \u001b[32m━━━━━━━━━━━━━━━━━━━━\u001b[0m\u001b[37m\u001b[0m \u001b[1m1s\u001b[0m 3ms/step - loss: 94.6634 - mean_absolute_error: 7.4358 - val_loss: 112.9953 - val_mean_absolute_error: 7.9257\n",
      "Epoch 13/20\n",
      "\u001b[1m303/303\u001b[0m \u001b[32m━━━━━━━━━━━━━━━━━━━━\u001b[0m\u001b[37m\u001b[0m \u001b[1m1s\u001b[0m 3ms/step - loss: 94.0831 - mean_absolute_error: 7.3567 - val_loss: 107.3023 - val_mean_absolute_error: 7.6595\n",
      "Epoch 14/20\n",
      "\u001b[1m303/303\u001b[0m \u001b[32m━━━━━━━━━━━━━━━━━━━━\u001b[0m\u001b[37m\u001b[0m \u001b[1m1s\u001b[0m 3ms/step - loss: 90.4316 - mean_absolute_error: 7.1944 - val_loss: 114.6296 - val_mean_absolute_error: 8.0022\n",
      "Epoch 15/20\n",
      "\u001b[1m303/303\u001b[0m \u001b[32m━━━━━━━━━━━━━━━━━━━━\u001b[0m\u001b[37m\u001b[0m \u001b[1m1s\u001b[0m 3ms/step - loss: 82.8336 - mean_absolute_error: 7.0828 - val_loss: 103.6180 - val_mean_absolute_error: 7.6336\n",
      "Epoch 16/20\n",
      "\u001b[1m303/303\u001b[0m \u001b[32m━━━━━━━━━━━━━━━━━━━━\u001b[0m\u001b[37m\u001b[0m \u001b[1m1s\u001b[0m 3ms/step - loss: 85.5382 - mean_absolute_error: 7.0438 - val_loss: 107.2546 - val_mean_absolute_error: 7.7549\n",
      "Epoch 17/20\n",
      "\u001b[1m303/303\u001b[0m \u001b[32m━━━━━━━━━━━━━━━━━━━━\u001b[0m\u001b[37m\u001b[0m \u001b[1m1s\u001b[0m 3ms/step - loss: 90.1439 - mean_absolute_error: 7.2366 - val_loss: 113.5106 - val_mean_absolute_error: 7.9954\n",
      "Epoch 18/20\n",
      "\u001b[1m303/303\u001b[0m \u001b[32m━━━━━━━━━━━━━━━━━━━━\u001b[0m\u001b[37m\u001b[0m \u001b[1m1s\u001b[0m 3ms/step - loss: 86.1178 - mean_absolute_error: 6.9631 - val_loss: 106.6762 - val_mean_absolute_error: 7.6295\n",
      "Epoch 19/20\n",
      "\u001b[1m303/303\u001b[0m \u001b[32m━━━━━━━━━━━━━━━━━━━━\u001b[0m\u001b[37m\u001b[0m \u001b[1m1s\u001b[0m 3ms/step - loss: 82.3132 - mean_absolute_error: 6.7926 - val_loss: 104.4756 - val_mean_absolute_error: 7.5285\n",
      "Epoch 20/20\n",
      "\u001b[1m303/303\u001b[0m \u001b[32m━━━━━━━━━━━━━━━━━━━━\u001b[0m\u001b[37m\u001b[0m \u001b[1m1s\u001b[0m 3ms/step - loss: 76.7987 - mean_absolute_error: 6.6584 - val_loss: 105.6751 - val_mean_absolute_error: 7.5785\n",
      "\u001b[1m30/30\u001b[0m \u001b[32m━━━━━━━━━━━━━━━━━━━━\u001b[0m\u001b[37m\u001b[0m \u001b[1m0s\u001b[0m 4ms/step\n",
      "Mean Squared Error: 269.95333318533613\n",
      "R-squared: 0.34225622040209236\n"
     ]
    },
    {
     "data": {
      "image/png": "[encoded data removed]",
      "text/plain": [
       "<Figure size 1400x500 with 2 Axes>"
      ]
     },
     "metadata": {},
     "output_type": "display_data"
    }
   ],
   "source": [
    "evaluate_model(model, X_train, y_train, X_test, y_test)"
   ]
  }
 ],
 "metadata": {
  "kernelspec": {
   "display_name": "Python 3",
   "language": "python",
   "name": "python3"
  },
  "language_info": {
   "codemirror_mode": {
    "name": "ipython",
    "version": 3
   },
   "file_extension": ".py",
   "mimetype": "text/x-python",
   "name": "python",
   "nbconvert_exporter": "python",
   "pygments_lexer": "ipython3",
   "version": "3.10.4"
  }
 },
 "nbformat": 4,
 "nbformat_minor": 2
}
